{
 "cells": [
  {
   "cell_type": "markdown",
   "id": "66c30e7b",
   "metadata": {},
   "source": [
    "# Capstone Project 2: Canada EV Chargers Analysis"
   ]
  },
  {
   "cell_type": "markdown",
   "id": "ea9056fa",
   "metadata": {},
   "source": [
    "# Table of contents\n",
    "* [1.0 Introduction](#1.0_Introduction)\n",
    "* [2.0 Data Wrangling](#2.0_Data_Wrangling)\n",
    "* [3.0 EDA](#3.0_EDA)\n",
    "* [4.0 Pre-processing and Training Data Development](#4.0_Pre-processing_and_Training_Data_Development)\n",
    "* [5.0 Training and Testing](#5.0_Training_and_Testing)"
   ]
  },
  {
   "cell_type": "markdown",
   "id": "b4cf1962",
   "metadata": {},
   "source": [
    "# 1.0 Introduction <a id=\"1.0_Introduction\"></a>\n"
   ]
  },
  {
   "cell_type": "markdown",
   "id": "f9df606b",
   "metadata": {},
   "source": [
    "## 1.1 Problem Statement \n",
    "What opportunity exist for EV Station to enter Canadian EV Charging Market, especially for Ontario, through installing new Public EV Chargers, as the emerging trend of using Electrical Vehicles.\n",
    "\n",
    "## 1.2 Context\n",
    "EV Station is a start-up company providing multi-type EV Chargers for all types of EVs on the market. The company has successfully installed over 10K EV Chargers over 10 states in the United States, and are looking to enter the Canadian EV charging market. EV Station data science team was consulted by the management team for estimating the Canadian market size. The management would like to investigate the estimated number of additional EV chargers needed currently in Canada, revenue for the company if they fill the gap, and how it will be needed in the next few years. \n",
    "\n",
    "## 1.3 Criteria for Success\n",
    "The addition of EV chargers in Ontario will be estimated for the management team to study the feasibility of entering the Canadian Market.\n",
    "\n",
    "## 1.4 Scope of Solution Space\n",
    "Ontario/Toronto will be the target area of estimating the number of EV Chargers. Both American and Canadian data will be used, as they share a similar lifestyle and market.\n",
    "\n",
    "## 1.5 Constraints\n",
    "The number of home-installed EV charger or private-shared EV charger data could not be collected. So we will focus on the public paid/unpaid charger\n",
    "\n"
   ]
  },
  {
   "cell_type": "markdown",
   "id": "0540be8a",
   "metadata": {},
   "source": [
    "# 2.0 Data Wrangling <a id=\"2.0_Data_Wrangling\"></a>"
   ]
  },
  {
   "cell_type": "markdown",
   "id": "79653717",
   "metadata": {},
   "source": [
    "As the second step of the project, data collection, define data, and dataset cleaning are completed. The data will be kept updated if necessary."
   ]
  },
  {
   "cell_type": "code",
   "execution_count": 1,
   "id": "7016644f",
   "metadata": {},
   "outputs": [],
   "source": [
    "##import any necessary packages here:\n",
    "#Import pandas, matplotlib.pyplot, and seaborn in the correct lines below\n",
    "import pandas as pd\n",
    "import matplotlib.pyplot as plt\n",
    "import seaborn as sns\n",
    "import os\n",
    "import numpy as np\n",
    "from sklearn.decomposition import PCA\n",
    "from sklearn.preprocessing import scale\n",
    "\n",
    "from library.sb_utils import save_file"
   ]
  },
  {
   "cell_type": "markdown",
   "id": "663431a7",
   "metadata": {},
   "source": [
    "### 2.1 Canadian and United States Alternative Fuel Charging Station Database:\n",
    "https://www.nrcan.gc.ca/energy-efficiency/transportation-alternative-fuels/electric-charging-alternative-fuelling-stationslocator-map/20487#/find/nearest\n",
    "\n",
    "This database will provide 53292 charging stations in the United States and Canada. The basic information of the charging stations include location of each charging station, type of chargers, coordinates, number of chargers, charger speed, etc.\n",
    "\n",
    "As the first step, this dataset will be loaded to this notebook."
   ]
  },
  {
   "cell_type": "code",
   "execution_count": 2,
   "id": "0af03196",
   "metadata": {},
   "outputs": [
    {
     "name": "stderr",
     "output_type": "stream",
     "text": [
      "/Users/andygong/opt/anaconda3/lib/python3.9/site-packages/IPython/core/interactiveshell.py:3444: DtypeWarning: Columns (20,39,55) have mixed types.Specify dtype option on import or set low_memory=False.\n",
      "  exec(code_obj, self.user_global_ns, self.user_ns)\n"
     ]
    }
   ],
   "source": [
    "# the supplied CSV data file is the raw_data directory\n",
    "charger_data = pd.read_csv('../raw_data/alt_fuel_stations.csv')"
   ]
  },
  {
   "cell_type": "code",
   "execution_count": 3,
   "id": "400f4314",
   "metadata": {},
   "outputs": [
    {
     "data": {
      "text/html": [
       "<div>\n",
       "<style scoped>\n",
       "    .dataframe tbody tr th:only-of-type {\n",
       "        vertical-align: middle;\n",
       "    }\n",
       "\n",
       "    .dataframe tbody tr th {\n",
       "        vertical-align: top;\n",
       "    }\n",
       "\n",
       "    .dataframe thead th {\n",
       "        text-align: right;\n",
       "    }\n",
       "</style>\n",
       "<table border=\"1\" class=\"dataframe\">\n",
       "  <thead>\n",
       "    <tr style=\"text-align: right;\">\n",
       "      <th></th>\n",
       "      <th>Fuel Type Code</th>\n",
       "      <th>Station Name</th>\n",
       "      <th>Street Address</th>\n",
       "      <th>Intersection Directions</th>\n",
       "      <th>City</th>\n",
       "      <th>State</th>\n",
       "      <th>ZIP</th>\n",
       "      <th>Plus4</th>\n",
       "      <th>Station Phone</th>\n",
       "      <th>Status Code</th>\n",
       "      <th>...</th>\n",
       "      <th>EV Pricing (French)</th>\n",
       "      <th>LPG Nozzle Types</th>\n",
       "      <th>Hydrogen Pressures</th>\n",
       "      <th>Hydrogen Standards</th>\n",
       "      <th>CNG Fill Type Code</th>\n",
       "      <th>CNG PSI</th>\n",
       "      <th>CNG Vehicle Class</th>\n",
       "      <th>LNG Vehicle Class</th>\n",
       "      <th>EV On-Site Renewable Source</th>\n",
       "      <th>Restricted Access</th>\n",
       "    </tr>\n",
       "  </thead>\n",
       "  <tbody>\n",
       "    <tr>\n",
       "      <th>0</th>\n",
       "      <td>ELEC</td>\n",
       "      <td>Los Angeles Convention Center</td>\n",
       "      <td>1201 S Figueroa St</td>\n",
       "      <td>West hall and South hall</td>\n",
       "      <td>Los Angeles</td>\n",
       "      <td>CA</td>\n",
       "      <td>90015</td>\n",
       "      <td>NaN</td>\n",
       "      <td>213-741-1151</td>\n",
       "      <td>E</td>\n",
       "      <td>...</td>\n",
       "      <td>NaN</td>\n",
       "      <td>NaN</td>\n",
       "      <td>NaN</td>\n",
       "      <td>NaN</td>\n",
       "      <td>NaN</td>\n",
       "      <td>NaN</td>\n",
       "      <td>NaN</td>\n",
       "      <td>NaN</td>\n",
       "      <td>NaN</td>\n",
       "      <td>NaN</td>\n",
       "    </tr>\n",
       "    <tr>\n",
       "      <th>1</th>\n",
       "      <td>ELEC</td>\n",
       "      <td>California Air Resources Board</td>\n",
       "      <td>9530 Telstar Ave</td>\n",
       "      <td>NaN</td>\n",
       "      <td>El Monte</td>\n",
       "      <td>CA</td>\n",
       "      <td>91731</td>\n",
       "      <td>NaN</td>\n",
       "      <td>626-575-6800</td>\n",
       "      <td>E</td>\n",
       "      <td>...</td>\n",
       "      <td>NaN</td>\n",
       "      <td>NaN</td>\n",
       "      <td>NaN</td>\n",
       "      <td>NaN</td>\n",
       "      <td>NaN</td>\n",
       "      <td>NaN</td>\n",
       "      <td>NaN</td>\n",
       "      <td>NaN</td>\n",
       "      <td>NaN</td>\n",
       "      <td>NaN</td>\n",
       "    </tr>\n",
       "    <tr>\n",
       "      <th>2</th>\n",
       "      <td>ELEC</td>\n",
       "      <td>Scripps Green Hospital</td>\n",
       "      <td>10666 N Torrey Pines Rd</td>\n",
       "      <td>Patient Parking Structure, level G</td>\n",
       "      <td>La Jolla</td>\n",
       "      <td>CA</td>\n",
       "      <td>92037</td>\n",
       "      <td>NaN</td>\n",
       "      <td>NaN</td>\n",
       "      <td>E</td>\n",
       "      <td>...</td>\n",
       "      <td>NaN</td>\n",
       "      <td>NaN</td>\n",
       "      <td>NaN</td>\n",
       "      <td>NaN</td>\n",
       "      <td>NaN</td>\n",
       "      <td>NaN</td>\n",
       "      <td>NaN</td>\n",
       "      <td>NaN</td>\n",
       "      <td>NaN</td>\n",
       "      <td>NaN</td>\n",
       "    </tr>\n",
       "    <tr>\n",
       "      <th>3</th>\n",
       "      <td>ELEC</td>\n",
       "      <td>Galpin Motors</td>\n",
       "      <td>15421 Roscoe Blvd</td>\n",
       "      <td>NaN</td>\n",
       "      <td>Sepulveda</td>\n",
       "      <td>CA</td>\n",
       "      <td>91343</td>\n",
       "      <td>NaN</td>\n",
       "      <td>800-256-6219</td>\n",
       "      <td>E</td>\n",
       "      <td>...</td>\n",
       "      <td>NaN</td>\n",
       "      <td>NaN</td>\n",
       "      <td>NaN</td>\n",
       "      <td>NaN</td>\n",
       "      <td>NaN</td>\n",
       "      <td>NaN</td>\n",
       "      <td>NaN</td>\n",
       "      <td>NaN</td>\n",
       "      <td>NaN</td>\n",
       "      <td>NaN</td>\n",
       "    </tr>\n",
       "    <tr>\n",
       "      <th>4</th>\n",
       "      <td>ELEC</td>\n",
       "      <td>Galleria at Tyler</td>\n",
       "      <td>1299 Galleria at Tyler</td>\n",
       "      <td>NaN</td>\n",
       "      <td>Riverside</td>\n",
       "      <td>CA</td>\n",
       "      <td>92503</td>\n",
       "      <td>NaN</td>\n",
       "      <td>951-351-3110</td>\n",
       "      <td>E</td>\n",
       "      <td>...</td>\n",
       "      <td>NaN</td>\n",
       "      <td>NaN</td>\n",
       "      <td>NaN</td>\n",
       "      <td>NaN</td>\n",
       "      <td>NaN</td>\n",
       "      <td>NaN</td>\n",
       "      <td>NaN</td>\n",
       "      <td>NaN</td>\n",
       "      <td>NaN</td>\n",
       "      <td>NaN</td>\n",
       "    </tr>\n",
       "  </tbody>\n",
       "</table>\n",
       "<p>5 rows × 65 columns</p>\n",
       "</div>"
      ],
      "text/plain": [
       "  Fuel Type Code                    Station Name           Street Address  \\\n",
       "0           ELEC   Los Angeles Convention Center       1201 S Figueroa St   \n",
       "1           ELEC  California Air Resources Board         9530 Telstar Ave   \n",
       "2           ELEC          Scripps Green Hospital  10666 N Torrey Pines Rd   \n",
       "3           ELEC                   Galpin Motors        15421 Roscoe Blvd   \n",
       "4           ELEC               Galleria at Tyler   1299 Galleria at Tyler   \n",
       "\n",
       "              Intersection Directions         City State    ZIP  Plus4  \\\n",
       "0            West hall and South hall  Los Angeles    CA  90015    NaN   \n",
       "1                                 NaN     El Monte    CA  91731    NaN   \n",
       "2  Patient Parking Structure, level G     La Jolla    CA  92037    NaN   \n",
       "3                                 NaN    Sepulveda    CA  91343    NaN   \n",
       "4                                 NaN    Riverside    CA  92503    NaN   \n",
       "\n",
       "  Station Phone Status Code  ...  EV Pricing (French) LPG Nozzle Types  \\\n",
       "0  213-741-1151           E  ...                  NaN              NaN   \n",
       "1  626-575-6800           E  ...                  NaN              NaN   \n",
       "2           NaN           E  ...                  NaN              NaN   \n",
       "3  800-256-6219           E  ...                  NaN              NaN   \n",
       "4  951-351-3110           E  ...                  NaN              NaN   \n",
       "\n",
       "  Hydrogen Pressures Hydrogen Standards  CNG Fill Type Code  CNG PSI  \\\n",
       "0                NaN                NaN                 NaN      NaN   \n",
       "1                NaN                NaN                 NaN      NaN   \n",
       "2                NaN                NaN                 NaN      NaN   \n",
       "3                NaN                NaN                 NaN      NaN   \n",
       "4                NaN                NaN                 NaN      NaN   \n",
       "\n",
       "   CNG Vehicle Class  LNG Vehicle Class  EV On-Site Renewable Source  \\\n",
       "0                NaN                NaN                          NaN   \n",
       "1                NaN                NaN                          NaN   \n",
       "2                NaN                NaN                          NaN   \n",
       "3                NaN                NaN                          NaN   \n",
       "4                NaN                NaN                          NaN   \n",
       "\n",
       "   Restricted Access  \n",
       "0                NaN  \n",
       "1                NaN  \n",
       "2                NaN  \n",
       "3                NaN  \n",
       "4                NaN  \n",
       "\n",
       "[5 rows x 65 columns]"
      ]
     },
     "execution_count": 3,
     "metadata": {},
     "output_type": "execute_result"
    }
   ],
   "source": [
    "#first glance of the dataset\n",
    "charger_data.head()"
   ]
  },
  {
   "cell_type": "code",
   "execution_count": 4,
   "id": "a956a0ed",
   "metadata": {},
   "outputs": [
    {
     "name": "stdout",
     "output_type": "stream",
     "text": [
      "<class 'pandas.core.frame.DataFrame'>\n",
      "RangeIndex: 53291 entries, 0 to 53290\n",
      "Data columns (total 65 columns):\n",
      " #   Column                            Non-Null Count  Dtype  \n",
      "---  ------                            --------------  -----  \n",
      " 0   Fuel Type Code                    53291 non-null  object \n",
      " 1   Station Name                      53291 non-null  object \n",
      " 2   Street Address                    53290 non-null  object \n",
      " 3   Intersection Directions           2148 non-null   object \n",
      " 4   City                              53291 non-null  object \n",
      " 5   State                             53291 non-null  object \n",
      " 6   ZIP                               53290 non-null  object \n",
      " 7   Plus4                             0 non-null      float64\n",
      " 8   Station Phone                     52666 non-null  object \n",
      " 9   Status Code                       53291 non-null  object \n",
      " 10  Expected Date                     0 non-null      float64\n",
      " 11  Groups With Access Code           53291 non-null  object \n",
      " 12  Access Days Time                  53137 non-null  object \n",
      " 13  Cards Accepted                    1963 non-null   object \n",
      " 14  BD Blends                         0 non-null      float64\n",
      " 15  NG Fill Type Code                 0 non-null      float64\n",
      " 16  NG PSI                            0 non-null      float64\n",
      " 17  EV Level1 EVSE Num                450 non-null    float64\n",
      " 18  EV Level2 EVSE Num                47179 non-null  float64\n",
      " 19  EV DC Fast Count                  7276 non-null   float64\n",
      " 20  EV Other Info                     55 non-null     object \n",
      " 21  EV Network                        53286 non-null  object \n",
      " 22  EV Network Web                    46829 non-null  object \n",
      " 23  Geocode Status                    53275 non-null  object \n",
      " 24  Latitude                          53291 non-null  float64\n",
      " 25  Longitude                         53291 non-null  float64\n",
      " 26  Date Last Confirmed               53098 non-null  object \n",
      " 27  ID                                53291 non-null  int64  \n",
      " 28  Updated At                        53291 non-null  object \n",
      " 29  Owner Type Code                   15661 non-null  object \n",
      " 30  Federal Agency ID                 61 non-null     float64\n",
      " 31  Federal Agency Name               61 non-null     object \n",
      " 32  Open Date                         53259 non-null  object \n",
      " 33  Hydrogen Status Link              0 non-null      float64\n",
      " 34  NG Vehicle Class                  0 non-null      float64\n",
      " 35  LPG Primary                       0 non-null      float64\n",
      " 36  E85 Blender Pump                  0 non-null      float64\n",
      " 37  EV Connector Types                53281 non-null  object \n",
      " 38  Country                           53291 non-null  object \n",
      " 39  Intersection Directions (French)  99 non-null     object \n",
      " 40  Access Days Time (French)         5496 non-null   object \n",
      " 41  BD Blends (French)                0 non-null      float64\n",
      " 42  Groups With Access Code (French)  53291 non-null  object \n",
      " 43  Hydrogen Is Retail                0 non-null      float64\n",
      " 44  Access Code                       53291 non-null  object \n",
      " 45  Access Detail Code                3460 non-null   object \n",
      " 46  Federal Agency Code               61 non-null     object \n",
      " 47  Facility Type                     13573 non-null  object \n",
      " 48  CNG Dispenser Num                 0 non-null      float64\n",
      " 49  CNG On-Site Renewable Source      0 non-null      float64\n",
      " 50  CNG Total Compression Capacity    0 non-null      float64\n",
      " 51  CNG Storage Capacity              0 non-null      float64\n",
      " 52  LNG On-Site Renewable Source      0 non-null      float64\n",
      " 53  E85 Other Ethanol Blends          0 non-null      float64\n",
      " 54  EV Pricing                        15863 non-null  object \n",
      " 55  EV Pricing (French)               1883 non-null   object \n",
      " 56  LPG Nozzle Types                  0 non-null      float64\n",
      " 57  Hydrogen Pressures                0 non-null      float64\n",
      " 58  Hydrogen Standards                0 non-null      float64\n",
      " 59  CNG Fill Type Code                0 non-null      float64\n",
      " 60  CNG PSI                           0 non-null      float64\n",
      " 61  CNG Vehicle Class                 0 non-null      float64\n",
      " 62  LNG Vehicle Class                 0 non-null      float64\n",
      " 63  EV On-Site Renewable Source       259 non-null    object \n",
      " 64  Restricted Access                 0 non-null      float64\n",
      "dtypes: float64(31), int64(1), object(33)\n",
      "memory usage: 26.4+ MB\n"
     ]
    }
   ],
   "source": [
    "#Call the info method on charger_data to see a summary of the data\n",
    "charger_data.info()"
   ]
  },
  {
   "cell_type": "markdown",
   "id": "20de3bd1",
   "metadata": {},
   "source": [
    "As we can see, multiple columns are empty columns. These columns might be for other alternative fuel stations and do not have any relationships with the EV chargers. So we should drop all of them for further processes."
   ]
  },
  {
   "cell_type": "code",
   "execution_count": 5,
   "id": "713d6e37",
   "metadata": {},
   "outputs": [],
   "source": [
    "# Find the columns where each value is null\n",
    "empty_cols = [col for col in charger_data.columns if charger_data[col].isnull().all()]\n",
    "# Drop these columns from the dataframe\n",
    "charger_data.drop(empty_cols,axis=1,inplace=True)\n",
    "\n",
    "#We may drop other duplicate columns and useless columns, such as the ones in French, and federal agency name/codes\n",
    "#'Intersection Directions (French)','Access Days Time (French)','Groups With Access Code (French)','EV Pricing (French)', 'Federal Agency ID','Federal Agency Name','Federal Agency Code']\n",
    "charger_data.drop(['Cards Accepted','Intersection Directions (French)','Access Days Time (French)','Groups With Access Code (French)','EV Pricing (French)', 'Federal Agency ID','Federal Agency Name','Federal Agency Code'],axis=1,inplace=True)"
   ]
  },
  {
   "cell_type": "code",
   "execution_count": 6,
   "id": "5aa9f662",
   "metadata": {},
   "outputs": [
    {
     "data": {
      "text/html": [
       "<div>\n",
       "<style scoped>\n",
       "    .dataframe tbody tr th:only-of-type {\n",
       "        vertical-align: middle;\n",
       "    }\n",
       "\n",
       "    .dataframe tbody tr th {\n",
       "        vertical-align: top;\n",
       "    }\n",
       "\n",
       "    .dataframe thead th {\n",
       "        text-align: right;\n",
       "    }\n",
       "</style>\n",
       "<table border=\"1\" class=\"dataframe\">\n",
       "  <thead>\n",
       "    <tr style=\"text-align: right;\">\n",
       "      <th></th>\n",
       "      <th>0</th>\n",
       "    </tr>\n",
       "  </thead>\n",
       "  <tbody>\n",
       "    <tr>\n",
       "      <th>Fuel Type Code</th>\n",
       "      <td>ELEC</td>\n",
       "    </tr>\n",
       "    <tr>\n",
       "      <th>Station Name</th>\n",
       "      <td>Los Angeles Convention Center</td>\n",
       "    </tr>\n",
       "    <tr>\n",
       "      <th>Street Address</th>\n",
       "      <td>1201 S Figueroa St</td>\n",
       "    </tr>\n",
       "    <tr>\n",
       "      <th>Intersection Directions</th>\n",
       "      <td>West hall and South hall</td>\n",
       "    </tr>\n",
       "    <tr>\n",
       "      <th>City</th>\n",
       "      <td>Los Angeles</td>\n",
       "    </tr>\n",
       "    <tr>\n",
       "      <th>State</th>\n",
       "      <td>CA</td>\n",
       "    </tr>\n",
       "    <tr>\n",
       "      <th>ZIP</th>\n",
       "      <td>90015</td>\n",
       "    </tr>\n",
       "    <tr>\n",
       "      <th>Station Phone</th>\n",
       "      <td>213-741-1151</td>\n",
       "    </tr>\n",
       "    <tr>\n",
       "      <th>Status Code</th>\n",
       "      <td>E</td>\n",
       "    </tr>\n",
       "    <tr>\n",
       "      <th>Groups With Access Code</th>\n",
       "      <td>Public</td>\n",
       "    </tr>\n",
       "    <tr>\n",
       "      <th>Access Days Time</th>\n",
       "      <td>24 hours daily; pay lot</td>\n",
       "    </tr>\n",
       "    <tr>\n",
       "      <th>EV Level1 EVSE Num</th>\n",
       "      <td>NaN</td>\n",
       "    </tr>\n",
       "    <tr>\n",
       "      <th>EV Level2 EVSE Num</th>\n",
       "      <td>12.0</td>\n",
       "    </tr>\n",
       "    <tr>\n",
       "      <th>EV DC Fast Count</th>\n",
       "      <td>NaN</td>\n",
       "    </tr>\n",
       "    <tr>\n",
       "      <th>EV Other Info</th>\n",
       "      <td>NaN</td>\n",
       "    </tr>\n",
       "    <tr>\n",
       "      <th>EV Network</th>\n",
       "      <td>Non-Networked</td>\n",
       "    </tr>\n",
       "    <tr>\n",
       "      <th>EV Network Web</th>\n",
       "      <td>NaN</td>\n",
       "    </tr>\n",
       "    <tr>\n",
       "      <th>Geocode Status</th>\n",
       "      <td>GPS</td>\n",
       "    </tr>\n",
       "    <tr>\n",
       "      <th>Latitude</th>\n",
       "      <td>34.040539</td>\n",
       "    </tr>\n",
       "    <tr>\n",
       "      <th>Longitude</th>\n",
       "      <td>-118.271387</td>\n",
       "    </tr>\n",
       "    <tr>\n",
       "      <th>Date Last Confirmed</th>\n",
       "      <td>2020-11-09</td>\n",
       "    </tr>\n",
       "    <tr>\n",
       "      <th>ID</th>\n",
       "      <td>1523</td>\n",
       "    </tr>\n",
       "    <tr>\n",
       "      <th>Updated At</th>\n",
       "      <td>2021-03-11 23:22:17 UTC</td>\n",
       "    </tr>\n",
       "    <tr>\n",
       "      <th>Owner Type Code</th>\n",
       "      <td>P</td>\n",
       "    </tr>\n",
       "    <tr>\n",
       "      <th>Open Date</th>\n",
       "      <td>1995-08-30</td>\n",
       "    </tr>\n",
       "    <tr>\n",
       "      <th>EV Connector Types</th>\n",
       "      <td>J1772</td>\n",
       "    </tr>\n",
       "    <tr>\n",
       "      <th>Country</th>\n",
       "      <td>US</td>\n",
       "    </tr>\n",
       "    <tr>\n",
       "      <th>Access Code</th>\n",
       "      <td>public</td>\n",
       "    </tr>\n",
       "    <tr>\n",
       "      <th>Access Detail Code</th>\n",
       "      <td>NaN</td>\n",
       "    </tr>\n",
       "    <tr>\n",
       "      <th>Facility Type</th>\n",
       "      <td>PARKING_GARAGE</td>\n",
       "    </tr>\n",
       "    <tr>\n",
       "      <th>EV Pricing</th>\n",
       "      <td>NaN</td>\n",
       "    </tr>\n",
       "    <tr>\n",
       "      <th>EV On-Site Renewable Source</th>\n",
       "      <td>NaN</td>\n",
       "    </tr>\n",
       "  </tbody>\n",
       "</table>\n",
       "</div>"
      ],
      "text/plain": [
       "                                                         0\n",
       "Fuel Type Code                                        ELEC\n",
       "Station Name                 Los Angeles Convention Center\n",
       "Street Address                          1201 S Figueroa St\n",
       "Intersection Directions           West hall and South hall\n",
       "City                                           Los Angeles\n",
       "State                                                   CA\n",
       "ZIP                                                  90015\n",
       "Station Phone                                 213-741-1151\n",
       "Status Code                                              E\n",
       "Groups With Access Code                             Public\n",
       "Access Days Time                   24 hours daily; pay lot\n",
       "EV Level1 EVSE Num                                     NaN\n",
       "EV Level2 EVSE Num                                    12.0\n",
       "EV DC Fast Count                                       NaN\n",
       "EV Other Info                                          NaN\n",
       "EV Network                                   Non-Networked\n",
       "EV Network Web                                         NaN\n",
       "Geocode Status                                         GPS\n",
       "Latitude                                         34.040539\n",
       "Longitude                                      -118.271387\n",
       "Date Last Confirmed                             2020-11-09\n",
       "ID                                                    1523\n",
       "Updated At                         2021-03-11 23:22:17 UTC\n",
       "Owner Type Code                                          P\n",
       "Open Date                                       1995-08-30\n",
       "EV Connector Types                                   J1772\n",
       "Country                                                 US\n",
       "Access Code                                         public\n",
       "Access Detail Code                                     NaN\n",
       "Facility Type                               PARKING_GARAGE\n",
       "EV Pricing                                             NaN\n",
       "EV On-Site Renewable Source                            NaN"
      ]
     },
     "execution_count": 6,
     "metadata": {},
     "output_type": "execute_result"
    }
   ],
   "source": [
    "#Explore one of the columns\n",
    "charger_data.iloc[:1].transpose()"
   ]
  },
  {
   "cell_type": "markdown",
   "id": "91a45a7c",
   "metadata": {},
   "source": [
    "### 2.1.1 Data Cleaning"
   ]
  },
  {
   "cell_type": "markdown",
   "id": "a0219445",
   "metadata": {},
   "source": [
    "Within the current features, we may care about some important ones, including location (states/city), number of EV chargers, EV charger types (Level 1, 2, or DC Fast), EV Connector Types, Country. All other features are less important the others. We may also visualize the installation dates, as EV chargers may have its service life, or they should be updated after a few years becasue of the technology advancement."
   ]
  },
  {
   "cell_type": "markdown",
   "id": "03dcd6a8",
   "metadata": {},
   "source": [
    "As the next step, we will clean the important features. For example, fill the NaN data can help to calculate in the further steps."
   ]
  },
  {
   "cell_type": "markdown",
   "id": "b08a23fe",
   "metadata": {},
   "source": [
    "#### Number of Different Charging Ports"
   ]
  },
  {
   "cell_type": "code",
   "execution_count": 7,
   "id": "78864c84",
   "metadata": {},
   "outputs": [],
   "source": [
    "#Fill the number of three types of EV charger NaN to 0\n",
    "charger_data['EV Level1 EVSE Num']=charger_data['EV Level1 EVSE Num'].fillna(0)\n",
    "charger_data['EV Level2 EVSE Num']=charger_data['EV Level2 EVSE Num'].fillna(0)\n",
    "charger_data['EV DC Fast Count']=charger_data['EV DC Fast Count'].fillna(0)"
   ]
  },
  {
   "cell_type": "code",
   "execution_count": 8,
   "id": "d0c6a942",
   "metadata": {},
   "outputs": [],
   "source": [
    "charger_data['Total Ports'] = charger_data['EV Level1 EVSE Num'] + charger_data['EV Level2 EVSE Num']+charger_data['EV DC Fast Count']"
   ]
  },
  {
   "cell_type": "code",
   "execution_count": 9,
   "id": "25179750",
   "metadata": {},
   "outputs": [],
   "source": [
    "#Melt the charging ports data\n",
    "charger_type = pd.melt(charger_data[['EV Level1 EVSE Num', 'EV Level2 EVSE Num', 'EV DC Fast Count','State','Country']], \n",
    "                        id_vars=['Country','State'], \n",
    "                        var_name='Charger Type', \n",
    "                        value_vars=['EV Level1 EVSE Num', 'EV Level2 EVSE Num', 'EV DC Fast Count'], \n",
    "                        value_name='Number of Charger')"
   ]
  },
  {
   "cell_type": "code",
   "execution_count": 10,
   "id": "4edcd8e5",
   "metadata": {},
   "outputs": [
    {
     "data": {
      "text/html": [
       "<div>\n",
       "<style scoped>\n",
       "    .dataframe tbody tr th:only-of-type {\n",
       "        vertical-align: middle;\n",
       "    }\n",
       "\n",
       "    .dataframe tbody tr th {\n",
       "        vertical-align: top;\n",
       "    }\n",
       "\n",
       "    .dataframe thead th {\n",
       "        text-align: right;\n",
       "    }\n",
       "</style>\n",
       "<table border=\"1\" class=\"dataframe\">\n",
       "  <thead>\n",
       "    <tr style=\"text-align: right;\">\n",
       "      <th></th>\n",
       "      <th>Country</th>\n",
       "      <th>State</th>\n",
       "      <th>Charger Type</th>\n",
       "      <th>Number of Charger</th>\n",
       "    </tr>\n",
       "  </thead>\n",
       "  <tbody>\n",
       "    <tr>\n",
       "      <th>22</th>\n",
       "      <td>US</td>\n",
       "      <td>CA</td>\n",
       "      <td>EV Level1 EVSE Num</td>\n",
       "      <td>1.0</td>\n",
       "    </tr>\n",
       "    <tr>\n",
       "      <th>39</th>\n",
       "      <td>US</td>\n",
       "      <td>CA</td>\n",
       "      <td>EV Level1 EVSE Num</td>\n",
       "      <td>12.0</td>\n",
       "    </tr>\n",
       "    <tr>\n",
       "      <th>47</th>\n",
       "      <td>US</td>\n",
       "      <td>CA</td>\n",
       "      <td>EV Level1 EVSE Num</td>\n",
       "      <td>4.0</td>\n",
       "    </tr>\n",
       "    <tr>\n",
       "      <th>54</th>\n",
       "      <td>US</td>\n",
       "      <td>CA</td>\n",
       "      <td>EV Level1 EVSE Num</td>\n",
       "      <td>1.0</td>\n",
       "    </tr>\n",
       "    <tr>\n",
       "      <th>57</th>\n",
       "      <td>US</td>\n",
       "      <td>CA</td>\n",
       "      <td>EV Level1 EVSE Num</td>\n",
       "      <td>1.0</td>\n",
       "    </tr>\n",
       "  </tbody>\n",
       "</table>\n",
       "</div>"
      ],
      "text/plain": [
       "   Country State        Charger Type  Number of Charger\n",
       "22      US    CA  EV Level1 EVSE Num                1.0\n",
       "39      US    CA  EV Level1 EVSE Num               12.0\n",
       "47      US    CA  EV Level1 EVSE Num                4.0\n",
       "54      US    CA  EV Level1 EVSE Num                1.0\n",
       "57      US    CA  EV Level1 EVSE Num                1.0"
      ]
     },
     "execution_count": 10,
     "metadata": {},
     "output_type": "execute_result"
    }
   ],
   "source": [
    "charger_type= charger_type[charger_type['Number of Charger'] != 0]\n",
    "charger_type.head()"
   ]
  },
  {
   "cell_type": "code",
   "execution_count": 11,
   "id": "e77fe9f4",
   "metadata": {},
   "outputs": [],
   "source": [
    "charger_count=charger_type.groupby(['Country','State'])['Charger Type'].value_counts()\n",
    "charger_count=charger_count.to_frame(name='Counts').reset_index()"
   ]
  },
  {
   "cell_type": "code",
   "execution_count": 12,
   "id": "2c3288a6",
   "metadata": {},
   "outputs": [
    {
     "data": {
      "image/png": "[encoded data removed]",
      "text/plain": [
       "<Figure size 864x576 with 1 Axes>"
      ]
     },
     "metadata": {
      "needs_background": "light"
     },
     "output_type": "display_data"
    }
   ],
   "source": [
    "plt.subplots(figsize=(12, 8))\n",
    "\n",
    "sns.barplot(x = 'State',\n",
    "            y = 'Counts',\n",
    "            hue = 'Charger Type',\n",
    "            data = charger_count)\n",
    "\n",
    "plt.xticks(rotation='vertical')\n",
    "plt.ylabel('Counts')\n",
    "plt.xlabel('State');"
   ]
  },
  {
   "cell_type": "markdown",
   "id": "b5787879",
   "metadata": {},
   "source": [
    "As we can see in the above figure:\n",
    "1) California, US has the most EV Level 2 Chargers and the DC Fast Chargers\n",
    "\n",
    "2) Quebec, Canada has the second most EV Level 2 Chargers and DC Fast Chargers, however, there is a big gap between QC and CA. CA is about 5 times more chargers than QC.\n",
    "\n",
    "3) It seems that the more Level 2 Chargers are installed, the more DC Fast Chargers were installed in the same state/province."
   ]
  },
  {
   "cell_type": "code",
   "execution_count": 13,
   "id": "6b2109b2",
   "metadata": {},
   "outputs": [
    {
     "data": {
      "image/png": "[encoded data removed]",
      "text/plain": [
       "<Figure size 864x576 with 1 Axes>"
      ]
     },
     "metadata": {
      "needs_background": "light"
     },
     "output_type": "display_data"
    }
   ],
   "source": [
    "charger_country_count=charger_type.groupby(['Country'])['Charger Type'].value_counts()\n",
    "charger_country_count=charger_country_count.to_frame(name='Counts').reset_index()\n",
    "plt.subplots(figsize=(12, 8))\n",
    "\n",
    "sns.barplot(x = 'Country',\n",
    "            y = 'Counts',\n",
    "            hue = 'Charger Type',\n",
    "            data = charger_country_count)\n",
    "\n",
    "plt.xticks(rotation='vertical')\n",
    "plt.ylabel('Counts')\n",
    "plt.xlabel('Country');"
   ]
  },
  {
   "cell_type": "markdown",
   "id": "a73fc731",
   "metadata": {},
   "source": [
    "As we can see in the above figure:\n",
    "1) the US has much more charging stations then Canada for all three types of chargers\n",
    "\n",
    "2) the Level 2 EVSE is the dominant charging types in both Canada and US. The EV level 2 charger is about 4 to 5 times of DC fast chargers\n",
    "\n",
    "3) the EV level 1 is very minor in both Canada and US"
   ]
  },
  {
   "cell_type": "markdown",
   "id": "e0f99e0a",
   "metadata": {},
   "source": [
    "#### Open Date"
   ]
  },
  {
   "cell_type": "code",
   "execution_count": 14,
   "id": "94add15f",
   "metadata": {},
   "outputs": [],
   "source": [
    "#We also wanted to transform the Open Date data as a datetime data, however, \n",
    "#we found some errors in the datetime data.\n",
    "charger_data['Open Date']=charger_data['Open Date'].fillna('2020-01-01')\n",
    "charger_data.replace('0207-05-15','2017-05-15',inplace=True)"
   ]
  },
  {
   "cell_type": "code",
   "execution_count": 15,
   "id": "3bcddbb9",
   "metadata": {},
   "outputs": [],
   "source": [
    "#Convert Open Date from Object to a datetime\n",
    "charger_data['Open Date']=pd.to_datetime(charger_data['Open Date'])"
   ]
  },
  {
   "cell_type": "code",
   "execution_count": 16,
   "id": "3a65b8b1",
   "metadata": {},
   "outputs": [
    {
     "data": {
      "image/png": "[encoded data removed]",
      "text/plain": [
       "<Figure size 864x576 with 1 Axes>"
      ]
     },
     "metadata": {
      "needs_background": "light"
     },
     "output_type": "display_data"
    }
   ],
   "source": [
    "#Visualize the number of new stations were opened from 1995 to 2022\n",
    "charger_data['Open Year']=charger_data['Open Date'].dt.year\n",
    "\n",
    "plt.subplots(figsize=(12, 8))\n",
    "\n",
    "ax = sns.countplot(x='Open Year', hue='Country', data=charger_data)\n",
    "\n",
    "plt.xticks(rotation='vertical')\n",
    "plt.ylabel('Count')\n",
    "plt.xlabel('Year');\n",
    "plt.show()"
   ]
  },
  {
   "cell_type": "markdown",
   "id": "9d0b7bb9",
   "metadata": {},
   "source": [
    "From the above figure, we can see that\n",
    "1) the most number of chargers were installed in 2021 in the US. But the most number of chargers were installed in 2019 for Canada. *Why this difference happens?\n",
    "\n",
    "2) it was also more than two times of new chargers installed in 2021 than in 2020 in the US.\n",
    "\n",
    "3) it was also more than two times of new chargers installed in 2019 than in 2020 in the Canada."
   ]
  },
  {
   "cell_type": "markdown",
   "id": "90067052",
   "metadata": {},
   "source": [
    "#### Charger Types"
   ]
  },
  {
   "cell_type": "code",
   "execution_count": 17,
   "id": "f5ab8f9f",
   "metadata": {
    "scrolled": true
   },
   "outputs": [
    {
     "data": {
      "text/plain": [
       "J1772                               40424\n",
       "CHADEMO J1772COMBO                   3788\n",
       "TESLA                                3773\n",
       "J1772 TESLA                          2857\n",
       "CHADEMO J1772 J1772COMBO             1024\n",
       "J1772COMBO                            483\n",
       "CHADEMO J1772                         322\n",
       "NEMA520                               189\n",
       "CHADEMO                               110\n",
       "J1772 J1772COMBO                       82\n",
       "J1772 NEMA515                          73\n",
       "J1772 NEMA520                          63\n",
       "NEMA1450                               39\n",
       "NEMA515                                26\n",
       "J1772 NEMA1450                         13\n",
       "CHADEMO J1772 J1772COMBO TESLA          5\n",
       "CHADEMO J1772COMBO TESLA                2\n",
       "CHADEMO J1772 NEMA520 TESLA             1\n",
       "CHADEMO J1772 NEMA515                   1\n",
       "J1772 NEMA515 NEMA520                   1\n",
       "NEMA1450 NEMA520                        1\n",
       "CHADEMO J1772 NEMA520                   1\n",
       "NEMA1450 NEMA515                        1\n",
       "CHADEMO J1772 J1772COMBO NEMA520        1\n",
       "J1772COMBO TESLA                        1\n",
       "Name: EV Connector Types, dtype: int64"
      ]
     },
     "execution_count": 17,
     "metadata": {},
     "output_type": "execute_result"
    }
   ],
   "source": [
    "#Inspect the type of EV connectors\n",
    "charger_data['EV Connector Types'].value_counts()"
   ]
  },
  {
   "cell_type": "markdown",
   "id": "504b1513",
   "metadata": {},
   "source": [
    "As we can see above, there are mutiple types of chargers, and some of them are really messy. Based on my research we may classify the types of EV Connector Types to the following:\n",
    "1. J1772\n",
    "2. Tesla\n",
    "3. J1772COMBO also called CCS COMBO\n",
    "4. NEMA (including NEMA520, NEMA515, NEMA1450)\n",
    "5. CHADEMO\n",
    "\n",
    "https://blinkcharging.com/understanding-ev-charging-plugs/?locale=en\n",
    "\n",
    "As a result, we may want to change some of the connector types into standard format, or we can split the connector types into four different columns. Use 1 or 0 to stand for whether they have the connector or not."
   ]
  },
  {
   "cell_type": "code",
   "execution_count": 18,
   "id": "6659a6e6",
   "metadata": {},
   "outputs": [
    {
     "name": "stderr",
     "output_type": "stream",
     "text": [
      "/var/folders/sc/zm445gtj461388gkngwypfbw0000gn/T/ipykernel_30187/2827256825.py:2: FutureWarning: The pandas.np module is deprecated and will be removed from pandas in a future version. Import numpy directly instead\n",
      "  charger_data['TESLA'] = pd.np.where(charger_data['EV Connector Types'].str.contains(\"TESLA\"), 1,0)\n",
      "/var/folders/sc/zm445gtj461388gkngwypfbw0000gn/T/ipykernel_30187/2827256825.py:3: FutureWarning: The pandas.np module is deprecated and will be removed from pandas in a future version. Import numpy directly instead\n",
      "  charger_data['NEMA'] = pd.np.where(charger_data['EV Connector Types'].str.contains(\"NEMA\"), 1,0)\n",
      "/var/folders/sc/zm445gtj461388gkngwypfbw0000gn/T/ipykernel_30187/2827256825.py:4: FutureWarning: The pandas.np module is deprecated and will be removed from pandas in a future version. Import numpy directly instead\n",
      "  charger_data['CCS'] = pd.np.where(charger_data['EV Connector Types'].str.contains(\"COMBO\"), 1,0)\n",
      "/var/folders/sc/zm445gtj461388gkngwypfbw0000gn/T/ipykernel_30187/2827256825.py:5: FutureWarning: The pandas.np module is deprecated and will be removed from pandas in a future version. Import numpy directly instead\n",
      "  charger_data['CHADEMO'] = pd.np.where(charger_data['EV Connector Types'].str.contains(\"CHADEMO\"), 1,0)\n",
      "/var/folders/sc/zm445gtj461388gkngwypfbw0000gn/T/ipykernel_30187/2827256825.py:6: FutureWarning: The pandas.np module is deprecated and will be removed from pandas in a future version. Import numpy directly instead\n",
      "  charger_data['J1772'] = pd.np.where(charger_data['EV Connector Types'].str.contains(\"J1772\"), 1,0)-charger_data['CCS']+pd.np.where(charger_data['EV Connector Types'].str.contains(\"J1772 J1772COMBO\"), 1,0)\n"
     ]
    }
   ],
   "source": [
    "#5 new columns are created to define each type of the charging connector\n",
    "charger_data['TESLA'] = pd.np.where(charger_data['EV Connector Types'].str.contains(\"TESLA\"), 1,0)\n",
    "charger_data['NEMA'] = pd.np.where(charger_data['EV Connector Types'].str.contains(\"NEMA\"), 1,0)\n",
    "charger_data['CCS'] = pd.np.where(charger_data['EV Connector Types'].str.contains(\"COMBO\"), 1,0)\n",
    "charger_data['CHADEMO'] = pd.np.where(charger_data['EV Connector Types'].str.contains(\"CHADEMO\"), 1,0)\n",
    "charger_data['J1772'] = pd.np.where(charger_data['EV Connector Types'].str.contains(\"J1772\"), 1,0)-charger_data['CCS']+pd.np.where(charger_data['EV Connector Types'].str.contains(\"J1772 J1772COMBO\"), 1,0)"
   ]
  },
  {
   "cell_type": "code",
   "execution_count": 19,
   "id": "438c3abb",
   "metadata": {},
   "outputs": [
    {
     "data": {
      "text/html": [
       "<div>\n",
       "<style scoped>\n",
       "    .dataframe tbody tr th:only-of-type {\n",
       "        vertical-align: middle;\n",
       "    }\n",
       "\n",
       "    .dataframe tbody tr th {\n",
       "        vertical-align: top;\n",
       "    }\n",
       "\n",
       "    .dataframe thead th {\n",
       "        text-align: right;\n",
       "    }\n",
       "</style>\n",
       "<table border=\"1\" class=\"dataframe\">\n",
       "  <thead>\n",
       "    <tr style=\"text-align: right;\">\n",
       "      <th></th>\n",
       "      <th>Fuel Type Code</th>\n",
       "      <th>Station Name</th>\n",
       "      <th>Street Address</th>\n",
       "      <th>Intersection Directions</th>\n",
       "      <th>City</th>\n",
       "      <th>State</th>\n",
       "      <th>ZIP</th>\n",
       "      <th>Station Phone</th>\n",
       "      <th>Status Code</th>\n",
       "      <th>Groups With Access Code</th>\n",
       "      <th>...</th>\n",
       "      <th>Facility Type</th>\n",
       "      <th>EV Pricing</th>\n",
       "      <th>EV On-Site Renewable Source</th>\n",
       "      <th>Total Ports</th>\n",
       "      <th>Open Year</th>\n",
       "      <th>TESLA</th>\n",
       "      <th>NEMA</th>\n",
       "      <th>CCS</th>\n",
       "      <th>CHADEMO</th>\n",
       "      <th>J1772</th>\n",
       "    </tr>\n",
       "  </thead>\n",
       "  <tbody>\n",
       "    <tr>\n",
       "      <th>0</th>\n",
       "      <td>ELEC</td>\n",
       "      <td>Los Angeles Convention Center</td>\n",
       "      <td>1201 S Figueroa St</td>\n",
       "      <td>West hall and South hall</td>\n",
       "      <td>Los Angeles</td>\n",
       "      <td>CA</td>\n",
       "      <td>90015</td>\n",
       "      <td>213-741-1151</td>\n",
       "      <td>E</td>\n",
       "      <td>Public</td>\n",
       "      <td>...</td>\n",
       "      <td>PARKING_GARAGE</td>\n",
       "      <td>NaN</td>\n",
       "      <td>NaN</td>\n",
       "      <td>12.0</td>\n",
       "      <td>1995</td>\n",
       "      <td>0</td>\n",
       "      <td>0</td>\n",
       "      <td>0</td>\n",
       "      <td>0</td>\n",
       "      <td>1</td>\n",
       "    </tr>\n",
       "    <tr>\n",
       "      <th>1</th>\n",
       "      <td>ELEC</td>\n",
       "      <td>California Air Resources Board</td>\n",
       "      <td>9530 Telstar Ave</td>\n",
       "      <td>NaN</td>\n",
       "      <td>El Monte</td>\n",
       "      <td>CA</td>\n",
       "      <td>91731</td>\n",
       "      <td>626-575-6800</td>\n",
       "      <td>E</td>\n",
       "      <td>Public</td>\n",
       "      <td>...</td>\n",
       "      <td>STATE_GOV</td>\n",
       "      <td>Free</td>\n",
       "      <td>NaN</td>\n",
       "      <td>3.0</td>\n",
       "      <td>1996</td>\n",
       "      <td>0</td>\n",
       "      <td>0</td>\n",
       "      <td>0</td>\n",
       "      <td>0</td>\n",
       "      <td>1</td>\n",
       "    </tr>\n",
       "    <tr>\n",
       "      <th>2</th>\n",
       "      <td>ELEC</td>\n",
       "      <td>Scripps Green Hospital</td>\n",
       "      <td>10666 N Torrey Pines Rd</td>\n",
       "      <td>Patient Parking Structure, level G</td>\n",
       "      <td>La Jolla</td>\n",
       "      <td>CA</td>\n",
       "      <td>92037</td>\n",
       "      <td>NaN</td>\n",
       "      <td>E</td>\n",
       "      <td>Public</td>\n",
       "      <td>...</td>\n",
       "      <td>HOSPITAL</td>\n",
       "      <td>Pay to Park</td>\n",
       "      <td>NaN</td>\n",
       "      <td>1.0</td>\n",
       "      <td>1997</td>\n",
       "      <td>0</td>\n",
       "      <td>0</td>\n",
       "      <td>0</td>\n",
       "      <td>0</td>\n",
       "      <td>1</td>\n",
       "    </tr>\n",
       "    <tr>\n",
       "      <th>3</th>\n",
       "      <td>ELEC</td>\n",
       "      <td>Galpin Motors</td>\n",
       "      <td>15421 Roscoe Blvd</td>\n",
       "      <td>NaN</td>\n",
       "      <td>Sepulveda</td>\n",
       "      <td>CA</td>\n",
       "      <td>91343</td>\n",
       "      <td>800-256-6219</td>\n",
       "      <td>E</td>\n",
       "      <td>Public - Call ahead</td>\n",
       "      <td>...</td>\n",
       "      <td>CAR_DEALER</td>\n",
       "      <td>Free</td>\n",
       "      <td>NaN</td>\n",
       "      <td>2.0</td>\n",
       "      <td>2012</td>\n",
       "      <td>0</td>\n",
       "      <td>0</td>\n",
       "      <td>0</td>\n",
       "      <td>0</td>\n",
       "      <td>1</td>\n",
       "    </tr>\n",
       "    <tr>\n",
       "      <th>4</th>\n",
       "      <td>ELEC</td>\n",
       "      <td>Galleria at Tyler</td>\n",
       "      <td>1299 Galleria at Tyler</td>\n",
       "      <td>NaN</td>\n",
       "      <td>Riverside</td>\n",
       "      <td>CA</td>\n",
       "      <td>92503</td>\n",
       "      <td>951-351-3110</td>\n",
       "      <td>E</td>\n",
       "      <td>Public</td>\n",
       "      <td>...</td>\n",
       "      <td>SHOPPING_MALL</td>\n",
       "      <td>Free</td>\n",
       "      <td>NaN</td>\n",
       "      <td>4.0</td>\n",
       "      <td>1997</td>\n",
       "      <td>0</td>\n",
       "      <td>0</td>\n",
       "      <td>0</td>\n",
       "      <td>0</td>\n",
       "      <td>1</td>\n",
       "    </tr>\n",
       "  </tbody>\n",
       "</table>\n",
       "<p>5 rows × 39 columns</p>\n",
       "</div>"
      ],
      "text/plain": [
       "  Fuel Type Code                    Station Name           Street Address  \\\n",
       "0           ELEC   Los Angeles Convention Center       1201 S Figueroa St   \n",
       "1           ELEC  California Air Resources Board         9530 Telstar Ave   \n",
       "2           ELEC          Scripps Green Hospital  10666 N Torrey Pines Rd   \n",
       "3           ELEC                   Galpin Motors        15421 Roscoe Blvd   \n",
       "4           ELEC               Galleria at Tyler   1299 Galleria at Tyler   \n",
       "\n",
       "              Intersection Directions         City State    ZIP Station Phone  \\\n",
       "0            West hall and South hall  Los Angeles    CA  90015  213-741-1151   \n",
       "1                                 NaN     El Monte    CA  91731  626-575-6800   \n",
       "2  Patient Parking Structure, level G     La Jolla    CA  92037           NaN   \n",
       "3                                 NaN    Sepulveda    CA  91343  800-256-6219   \n",
       "4                                 NaN    Riverside    CA  92503  951-351-3110   \n",
       "\n",
       "  Status Code Groups With Access Code  ...   Facility Type   EV Pricing  \\\n",
       "0           E                  Public  ...  PARKING_GARAGE          NaN   \n",
       "1           E                  Public  ...       STATE_GOV         Free   \n",
       "2           E                  Public  ...        HOSPITAL  Pay to Park   \n",
       "3           E     Public - Call ahead  ...      CAR_DEALER         Free   \n",
       "4           E                  Public  ...   SHOPPING_MALL         Free   \n",
       "\n",
       "   EV On-Site Renewable Source  Total Ports Open Year TESLA NEMA CCS  CHADEMO  \\\n",
       "0                          NaN         12.0      1995     0    0   0        0   \n",
       "1                          NaN          3.0      1996     0    0   0        0   \n",
       "2                          NaN          1.0      1997     0    0   0        0   \n",
       "3                          NaN          2.0      2012     0    0   0        0   \n",
       "4                          NaN          4.0      1997     0    0   0        0   \n",
       "\n",
       "   J1772  \n",
       "0      1  \n",
       "1      1  \n",
       "2      1  \n",
       "3      1  \n",
       "4      1  \n",
       "\n",
       "[5 rows x 39 columns]"
      ]
     },
     "execution_count": 19,
     "metadata": {},
     "output_type": "execute_result"
    }
   ],
   "source": [
    "charger_data.head()"
   ]
  },
  {
   "cell_type": "markdown",
   "id": "74678b86",
   "metadata": {},
   "source": [
    "Visualize the charging stations by states and country"
   ]
  },
  {
   "cell_type": "code",
   "execution_count": 20,
   "id": "a61f5eda",
   "metadata": {},
   "outputs": [
    {
     "data": {
      "image/png": "[encoded data removed]",
      "text/plain": [
       "<Figure size 864x576 with 2 Axes>"
      ]
     },
     "metadata": {
      "needs_background": "light"
     },
     "output_type": "display_data"
    }
   ],
   "source": [
    "#Create two subplots on 1 row and 2 columns with a figsize of (12, 8)\n",
    "fig, ax = plt.subplots(1, 2, figsize=(12,8))\n",
    "#Specify a horizontal barplot ('barh') as kind of plot (kind=)\n",
    "charger_data['Country'].value_counts().plot(kind='barh', ax=ax[0])\n",
    "#Give the plot a helpful title of 'Region'\n",
    "ax[0].set_title('Country')\n",
    "#Label the xaxis 'Count'\n",
    "ax[0].set_xlabel('Count')\n",
    "#Specify a horizontal barplot ('barh') as kind of plot (kind=)\n",
    "charger_data['State'].value_counts().sort_values(ascending=False).head(10).plot(kind='barh', ax=ax[1])\n",
    "#Give the plot a helpful title of 'state'\n",
    "ax[1].set_title('State')\n",
    "#Label the xaxis 'Count'\n",
    "ax[1].set_xlabel('Count')\n",
    "#Give the subplots a little \"breathing room\" with a wspace of 0.5\n",
    "plt.subplots_adjust(wspace=0.5);"
   ]
  },
  {
   "cell_type": "markdown",
   "id": "a5e2357f",
   "metadata": {},
   "source": [
    "Visualize the charging ports by states and country"
   ]
  },
  {
   "cell_type": "code",
   "execution_count": 21,
   "id": "5c2a2360",
   "metadata": {},
   "outputs": [
    {
     "data": {
      "image/png": "[encoded data removed]",
      "text/plain": [
       "<Figure size 864x576 with 2 Axes>"
      ]
     },
     "metadata": {
      "needs_background": "light"
     },
     "output_type": "display_data"
    }
   ],
   "source": [
    "#Create two subplots on 1 row and 2 columns with a figsize of (12, 8)\n",
    "fig, ax = plt.subplots(1, 2, figsize=(12,8))\n",
    "#Specify a horizontal barplot ('barh') as kind of plot (kind=)\n",
    "charger_data.groupby('Country')['Total Ports'].sum().plot(kind='barh', ax=ax[0])\n",
    "#Give the plot a helpful title of 'Region'\n",
    "ax[0].set_title('Country')\n",
    "#Label the xaxis 'Count'\n",
    "ax[0].set_xlabel('Count')\n",
    "#Specify a horizontal barplot ('barh') as kind of plot (kind=)\n",
    "charger_data.groupby('State')['Total Ports'].sum().sort_values(ascending=False).head(10).plot(kind='barh', ax=ax[1])\n",
    "#Give the plot a helpful title of 'state'\n",
    "ax[1].set_title('State')\n",
    "#Label the xaxis 'Count'\n",
    "ax[1].set_xlabel('Count')\n",
    "#Give the subplots a little \"breathing room\" with a wspace of 0.5\n",
    "plt.subplots_adjust(wspace=0.5);"
   ]
  },
  {
   "cell_type": "markdown",
   "id": "6495d713",
   "metadata": {},
   "source": [
    "As we can see from the above two figures:\n",
    "1) US has many more charging stations and charging ports, compare to Canada.\n",
    "\n",
    "2) California has the most charging station and charging ports. The gap between the 2nd most province/state is really large. \n",
    "\n",
    "3) Quebec has the 2nd most number of charging stations, but New York has the 2nd most charging ports. This indicated that each New York's charging stations may have more charging ports."
   ]
  },
  {
   "cell_type": "code",
   "execution_count": 22,
   "id": "16bf8636",
   "metadata": {},
   "outputs": [],
   "source": [
    "# Create a clean dataset called charger_clean. This dataset will only contain the type of ports, total ports, and total number of stations\n",
    "charger_clean=charger_data.groupby('State')[['Total Ports','TESLA','NEMA','CCS','CHADEMO','J1772']].agg(np.sum)"
   ]
  },
  {
   "cell_type": "code",
   "execution_count": 23,
   "id": "1b85d558",
   "metadata": {},
   "outputs": [],
   "source": [
    "# count the number of stations\n",
    "charger_number=charger_data.groupby('State').count()\n",
    "charger_number=charger_number['Fuel Type Code']\n",
    "charger_clean['Total Stations']=charger_number\n",
    "charger_clean=charger_clean.reset_index()"
   ]
  },
  {
   "cell_type": "markdown",
   "id": "ad817f71",
   "metadata": {},
   "source": [
    "### 2.1 Canadian and United States EV Registration and Other Data:\n",
    "\n",
    "Source:\n",
    "Statistics Canada, United States Census Bureau\n",
    "\n",
    "Multiple datasets have been merged into one excel file prior to loading into this Worksheet."
   ]
  },
  {
   "cell_type": "code",
   "execution_count": 24,
   "id": "f56a7d70",
   "metadata": {},
   "outputs": [
    {
     "data": {
      "text/html": [
       "<div>\n",
       "<style scoped>\n",
       "    .dataframe tbody tr th:only-of-type {\n",
       "        vertical-align: middle;\n",
       "    }\n",
       "\n",
       "    .dataframe tbody tr th {\n",
       "        vertical-align: top;\n",
       "    }\n",
       "\n",
       "    .dataframe thead th {\n",
       "        text-align: right;\n",
       "    }\n",
       "</style>\n",
       "<table border=\"1\" class=\"dataframe\">\n",
       "  <thead>\n",
       "    <tr style=\"text-align: right;\">\n",
       "      <th></th>\n",
       "      <th>Code</th>\n",
       "      <th>Province</th>\n",
       "      <th>Pop2016</th>\n",
       "      <th>GDP (2020)</th>\n",
       "      <th>2020 EV Registration</th>\n",
       "      <th>2019 Total Registrated Cars</th>\n",
       "      <th>Country</th>\n",
       "      <th>Total Area km2</th>\n",
       "      <th>Land km2</th>\n",
       "      <th>Water km2</th>\n",
       "    </tr>\n",
       "  </thead>\n",
       "  <tbody>\n",
       "    <tr>\n",
       "      <th>0</th>\n",
       "      <td>AB</td>\n",
       "      <td>Alberta</td>\n",
       "      <td>4067175</td>\n",
       "      <td>307522000000</td>\n",
       "      <td>0</td>\n",
       "      <td>3151829</td>\n",
       "      <td>CA</td>\n",
       "      <td>661848.0</td>\n",
       "      <td>642317.0</td>\n",
       "      <td>19531.0</td>\n",
       "    </tr>\n",
       "    <tr>\n",
       "      <th>1</th>\n",
       "      <td>BC</td>\n",
       "      <td>British Columbia</td>\n",
       "      <td>4648055</td>\n",
       "      <td>246927400000</td>\n",
       "      <td>8133</td>\n",
       "      <td>3113125</td>\n",
       "      <td>CA</td>\n",
       "      <td>944735.0</td>\n",
       "      <td>925186.0</td>\n",
       "      <td>19549.0</td>\n",
       "    </tr>\n",
       "    <tr>\n",
       "      <th>2</th>\n",
       "      <td>MB</td>\n",
       "      <td>Manitoba</td>\n",
       "      <td>1278365</td>\n",
       "      <td>60545400000</td>\n",
       "      <td>141</td>\n",
       "      <td>808918</td>\n",
       "      <td>CA</td>\n",
       "      <td>647797.0</td>\n",
       "      <td>553556.0</td>\n",
       "      <td>94241.0</td>\n",
       "    </tr>\n",
       "    <tr>\n",
       "      <th>3</th>\n",
       "      <td>NB</td>\n",
       "      <td>New Brunswick</td>\n",
       "      <td>747101</td>\n",
       "      <td>30051500000</td>\n",
       "      <td>53</td>\n",
       "      <td>553244</td>\n",
       "      <td>CA</td>\n",
       "      <td>72908.0</td>\n",
       "      <td>71450.0</td>\n",
       "      <td>1458.0</td>\n",
       "    </tr>\n",
       "    <tr>\n",
       "      <th>4</th>\n",
       "      <td>NFL</td>\n",
       "      <td>Newfoundland</td>\n",
       "      <td>519716</td>\n",
       "      <td>30137800000</td>\n",
       "      <td>0</td>\n",
       "      <td>350761</td>\n",
       "      <td>CA</td>\n",
       "      <td>405212.0</td>\n",
       "      <td>373872.0</td>\n",
       "      <td>31340.0</td>\n",
       "    </tr>\n",
       "  </tbody>\n",
       "</table>\n",
       "</div>"
      ],
      "text/plain": [
       "  Code          Province  Pop2016    GDP (2020)  2020 EV Registration  \\\n",
       "0   AB           Alberta  4067175  307522000000                     0   \n",
       "1   BC  British Columbia  4648055  246927400000                  8133   \n",
       "2   MB          Manitoba  1278365   60545400000                   141   \n",
       "3   NB     New Brunswick   747101   30051500000                    53   \n",
       "4  NFL      Newfoundland   519716   30137800000                     0   \n",
       "\n",
       "   2019 Total Registrated Cars Country  Total Area km2  Land km2  Water km2  \n",
       "0                      3151829      CA        661848.0  642317.0    19531.0  \n",
       "1                      3113125      CA        944735.0  925186.0    19549.0  \n",
       "2                       808918      CA        647797.0  553556.0    94241.0  \n",
       "3                       553244      CA         72908.0   71450.0     1458.0  \n",
       "4                       350761      CA        405212.0  373872.0    31340.0  "
      ]
     },
     "execution_count": 24,
     "metadata": {},
     "output_type": "execute_result"
    }
   ],
   "source": [
    "EVReg = pd.read_excel('../raw_data/US&CA STATES DATE.xlsx')\n",
    "EVReg.head()"
   ]
  },
  {
   "cell_type": "code",
   "execution_count": 25,
   "id": "4c3eabf6",
   "metadata": {},
   "outputs": [
    {
     "name": "stdout",
     "output_type": "stream",
     "text": [
      "<class 'pandas.core.frame.DataFrame'>\n",
      "RangeIndex: 64 entries, 0 to 63\n",
      "Data columns (total 10 columns):\n",
      " #   Column                       Non-Null Count  Dtype  \n",
      "---  ------                       --------------  -----  \n",
      " 0   Code                         64 non-null     object \n",
      " 1   Province                     64 non-null     object \n",
      " 2   Pop2016                      64 non-null     int64  \n",
      " 3   GDP (2020)                   64 non-null     int64  \n",
      " 4   2020 EV Registration         64 non-null     int64  \n",
      " 5   2019 Total Registrated Cars  64 non-null     int64  \n",
      " 6   Country                      64 non-null     object \n",
      " 7   Total Area km2               64 non-null     float64\n",
      " 8   Land km2                     64 non-null     float64\n",
      " 9   Water km2                    64 non-null     float64\n",
      "dtypes: float64(3), int64(4), object(3)\n",
      "memory usage: 5.1+ KB\n"
     ]
    }
   ],
   "source": [
    "EVReg.info()"
   ]
  },
  {
   "cell_type": "code",
   "execution_count": 26,
   "id": "95b0217b",
   "metadata": {},
   "outputs": [
    {
     "data": {
      "image/png": "[encoded data removed]",
      "text/plain": [
       "<Figure size 864x576 with 1 Axes>"
      ]
     },
     "metadata": {
      "needs_background": "light"
     },
     "output_type": "display_data"
    }
   ],
   "source": [
    "plt.subplots(figsize=(12, 8))\n",
    "\n",
    "sns.barplot(x = 'Province',\n",
    "            y = '2020 EV Registration',\n",
    "            data = EVReg)\n",
    "\n",
    "plt.xticks(rotation='vertical')\n",
    "plt.ylabel('2020 Registration')\n",
    "plt.xlabel('States/Provinces');"
   ]
  },
  {
   "cell_type": "code",
   "execution_count": 27,
   "id": "5c17242a",
   "metadata": {},
   "outputs": [
    {
     "data": {
      "image/png": "[encoded data removed]",
      "text/plain": [
       "<Figure size 1080x720 with 9 Axes>"
      ]
     },
     "metadata": {
      "needs_background": "light"
     },
     "output_type": "display_data"
    }
   ],
   "source": [
    "EVReg.hist(figsize=(15,10))\n",
    "plt.subplots_adjust(hspace=0.5);"
   ]
  },
  {
   "cell_type": "code",
   "execution_count": 28,
   "id": "52f865ba",
   "metadata": {},
   "outputs": [
    {
     "data": {
      "text/html": [
       "<div>\n",
       "<style scoped>\n",
       "    .dataframe tbody tr th:only-of-type {\n",
       "        vertical-align: middle;\n",
       "    }\n",
       "\n",
       "    .dataframe tbody tr th {\n",
       "        vertical-align: top;\n",
       "    }\n",
       "\n",
       "    .dataframe thead th {\n",
       "        text-align: right;\n",
       "    }\n",
       "</style>\n",
       "<table border=\"1\" class=\"dataframe\">\n",
       "  <thead>\n",
       "    <tr style=\"text-align: right;\">\n",
       "      <th></th>\n",
       "      <th>Code</th>\n",
       "      <th>Province</th>\n",
       "      <th>Pop2016</th>\n",
       "      <th>GDP (2020)</th>\n",
       "      <th>2020 EV Registration</th>\n",
       "      <th>2019 Total Registrated Cars</th>\n",
       "      <th>Country</th>\n",
       "      <th>Total Area km2</th>\n",
       "      <th>Land km2</th>\n",
       "      <th>Water km2</th>\n",
       "    </tr>\n",
       "  </thead>\n",
       "  <tbody>\n",
       "    <tr>\n",
       "      <th>0</th>\n",
       "      <td>AB</td>\n",
       "      <td>Alberta</td>\n",
       "      <td>4067175</td>\n",
       "      <td>307522000000</td>\n",
       "      <td>0</td>\n",
       "      <td>3151829</td>\n",
       "      <td>CA</td>\n",
       "      <td>661848.0</td>\n",
       "      <td>642317.0</td>\n",
       "      <td>19531.0</td>\n",
       "    </tr>\n",
       "    <tr>\n",
       "      <th>4</th>\n",
       "      <td>NFL</td>\n",
       "      <td>Newfoundland</td>\n",
       "      <td>519716</td>\n",
       "      <td>30137800000</td>\n",
       "      <td>0</td>\n",
       "      <td>350761</td>\n",
       "      <td>CA</td>\n",
       "      <td>405212.0</td>\n",
       "      <td>373872.0</td>\n",
       "      <td>31340.0</td>\n",
       "    </tr>\n",
       "    <tr>\n",
       "      <th>5</th>\n",
       "      <td>NWT</td>\n",
       "      <td>Northwest Territory</td>\n",
       "      <td>41786</td>\n",
       "      <td>4035800000</td>\n",
       "      <td>0</td>\n",
       "      <td>23242</td>\n",
       "      <td>CA</td>\n",
       "      <td>1346106.0</td>\n",
       "      <td>1183085.0</td>\n",
       "      <td>163021.0</td>\n",
       "    </tr>\n",
       "    <tr>\n",
       "      <th>6</th>\n",
       "      <td>NS</td>\n",
       "      <td>Nova Scotia</td>\n",
       "      <td>923598</td>\n",
       "      <td>36950100000</td>\n",
       "      <td>0</td>\n",
       "      <td>600756</td>\n",
       "      <td>CA</td>\n",
       "      <td>55284.0</td>\n",
       "      <td>53338.0</td>\n",
       "      <td>1946.0</td>\n",
       "    </tr>\n",
       "    <tr>\n",
       "      <th>7</th>\n",
       "      <td>NU</td>\n",
       "      <td>Nunavut</td>\n",
       "      <td>35944</td>\n",
       "      <td>3163600000</td>\n",
       "      <td>0</td>\n",
       "      <td>4927</td>\n",
       "      <td>CA</td>\n",
       "      <td>2093190.0</td>\n",
       "      <td>1936113.0</td>\n",
       "      <td>157077.0</td>\n",
       "    </tr>\n",
       "    <tr>\n",
       "      <th>12</th>\n",
       "      <td>YT</td>\n",
       "      <td>Yukon</td>\n",
       "      <td>35874</td>\n",
       "      <td>2686900000</td>\n",
       "      <td>0</td>\n",
       "      <td>35651</td>\n",
       "      <td>CA</td>\n",
       "      <td>482443.0</td>\n",
       "      <td>474391.0</td>\n",
       "      <td>8052.0</td>\n",
       "    </tr>\n",
       "  </tbody>\n",
       "</table>\n",
       "</div>"
      ],
      "text/plain": [
       "   Code             Province  Pop2016    GDP (2020)  2020 EV Registration  \\\n",
       "0    AB              Alberta  4067175  307522000000                     0   \n",
       "4   NFL         Newfoundland   519716   30137800000                     0   \n",
       "5   NWT  Northwest Territory    41786    4035800000                     0   \n",
       "6    NS          Nova Scotia   923598   36950100000                     0   \n",
       "7    NU              Nunavut    35944    3163600000                     0   \n",
       "12   YT                Yukon    35874    2686900000                     0   \n",
       "\n",
       "    2019 Total Registrated Cars Country  Total Area km2   Land km2  Water km2  \n",
       "0                       3151829      CA        661848.0   642317.0    19531.0  \n",
       "4                        350761      CA        405212.0   373872.0    31340.0  \n",
       "5                         23242      CA       1346106.0  1183085.0   163021.0  \n",
       "6                        600756      CA         55284.0    53338.0     1946.0  \n",
       "7                          4927      CA       2093190.0  1936113.0   157077.0  \n",
       "12                        35651      CA        482443.0   474391.0     8052.0  "
      ]
     },
     "execution_count": 28,
     "metadata": {},
     "output_type": "execute_result"
    }
   ],
   "source": [
    "EVReg[EVReg['2020 EV Registration']==0]"
   ]
  },
  {
   "cell_type": "markdown",
   "id": "b41b5365",
   "metadata": {},
   "source": [
    "As we can see above, there are 6 provinces in Canada that has 0 EV Registration, which is potentially impossible. For the modeling purposes, we may not be able to use them as a good tool. So we have to leave these data."
   ]
  },
  {
   "cell_type": "code",
   "execution_count": 29,
   "id": "51bb0237",
   "metadata": {},
   "outputs": [
    {
     "data": {
      "text/html": [
       "<div>\n",
       "<style scoped>\n",
       "    .dataframe tbody tr th:only-of-type {\n",
       "        vertical-align: middle;\n",
       "    }\n",
       "\n",
       "    .dataframe tbody tr th {\n",
       "        vertical-align: top;\n",
       "    }\n",
       "\n",
       "    .dataframe thead th {\n",
       "        text-align: right;\n",
       "    }\n",
       "</style>\n",
       "<table border=\"1\" class=\"dataframe\">\n",
       "  <thead>\n",
       "    <tr style=\"text-align: right;\">\n",
       "      <th></th>\n",
       "      <th>Code</th>\n",
       "      <th>Province</th>\n",
       "      <th>Pop2016</th>\n",
       "      <th>GDP (2020)</th>\n",
       "      <th>2020 EV Registration</th>\n",
       "      <th>2019 Total Registrated Cars</th>\n",
       "      <th>Country</th>\n",
       "      <th>Total Area km2</th>\n",
       "      <th>Land km2</th>\n",
       "      <th>Water km2</th>\n",
       "    </tr>\n",
       "  </thead>\n",
       "  <tbody>\n",
       "  </tbody>\n",
       "</table>\n",
       "</div>"
      ],
      "text/plain": [
       "Empty DataFrame\n",
       "Columns: [Code, Province, Pop2016, GDP (2020), 2020 EV Registration, 2019 Total Registrated Cars, Country, Total Area km2, Land km2, Water km2]\n",
       "Index: []"
      ]
     },
     "execution_count": 29,
     "metadata": {},
     "output_type": "execute_result"
    }
   ],
   "source": [
    "# Create a new dataset called EV_Clean without any 0 values\n",
    "EV_Clean=EVReg[EVReg['2020 EV Registration']!=0]\n",
    "EV_Clean[EV_Clean['2020 EV Registration']==0]"
   ]
  },
  {
   "cell_type": "markdown",
   "id": "65dd592f",
   "metadata": {},
   "source": [
    "# 3.0 EDA <a id=\"3.0_EDA\"></a>"
   ]
  },
  {
   "cell_type": "markdown",
   "id": "c362b82d",
   "metadata": {},
   "source": [
    "Now that I have two cleaned data sets after cleaning:\n",
    "1) charger_clean: contains the number of charging stations by states with different types and total ports\n",
    "\n",
    "2) EV_Clean: contains the registrated electrical vehicles by states with some basic information of the states, including Population, GDP, Total Area, Land Area.\n",
    "\n",
    "We can merge the two datasets together"
   ]
  },
  {
   "cell_type": "code",
   "execution_count": 30,
   "id": "e39e38b6",
   "metadata": {},
   "outputs": [
    {
     "data": {
      "text/html": [
       "<div>\n",
       "<style scoped>\n",
       "    .dataframe tbody tr th:only-of-type {\n",
       "        vertical-align: middle;\n",
       "    }\n",
       "\n",
       "    .dataframe tbody tr th {\n",
       "        vertical-align: top;\n",
       "    }\n",
       "\n",
       "    .dataframe thead th {\n",
       "        text-align: right;\n",
       "    }\n",
       "</style>\n",
       "<table border=\"1\" class=\"dataframe\">\n",
       "  <thead>\n",
       "    <tr style=\"text-align: right;\">\n",
       "      <th></th>\n",
       "      <th>State</th>\n",
       "      <th>Total Ports</th>\n",
       "      <th>TESLA</th>\n",
       "      <th>NEMA</th>\n",
       "      <th>CCS</th>\n",
       "      <th>CHADEMO</th>\n",
       "      <th>J1772</th>\n",
       "      <th>Total Stations</th>\n",
       "      <th>Code</th>\n",
       "      <th>Province</th>\n",
       "      <th>Pop2016</th>\n",
       "      <th>GDP (2020)</th>\n",
       "      <th>2020 EV Registration</th>\n",
       "      <th>2019 Total Registrated Cars</th>\n",
       "      <th>Country</th>\n",
       "      <th>Total Area km2</th>\n",
       "      <th>Land km2</th>\n",
       "      <th>Water km2</th>\n",
       "    </tr>\n",
       "  </thead>\n",
       "  <tbody>\n",
       "    <tr>\n",
       "      <th>0</th>\n",
       "      <td>AK</td>\n",
       "      <td>88.0</td>\n",
       "      <td>13</td>\n",
       "      <td>0</td>\n",
       "      <td>5</td>\n",
       "      <td>6</td>\n",
       "      <td>34</td>\n",
       "      <td>48</td>\n",
       "      <td>AK</td>\n",
       "      <td>Alaska</td>\n",
       "      <td>724357</td>\n",
       "      <td>50161000000</td>\n",
       "      <td>940</td>\n",
       "      <td>178516</td>\n",
       "      <td>US</td>\n",
       "      <td>1.723338e+06</td>\n",
       "      <td>1.477954e+06</td>\n",
       "      <td>245383.42257</td>\n",
       "    </tr>\n",
       "    <tr>\n",
       "      <th>1</th>\n",
       "      <td>AL</td>\n",
       "      <td>526.0</td>\n",
       "      <td>50</td>\n",
       "      <td>0</td>\n",
       "      <td>16</td>\n",
       "      <td>19</td>\n",
       "      <td>161</td>\n",
       "      <td>195</td>\n",
       "      <td>AL</td>\n",
       "      <td>Alabama</td>\n",
       "      <td>4934193</td>\n",
       "      <td>196906100000</td>\n",
       "      <td>2890</td>\n",
       "      <td>2109108</td>\n",
       "      <td>US</td>\n",
       "      <td>1.357673e+05</td>\n",
       "      <td>1.311700e+05</td>\n",
       "      <td>4597.23225</td>\n",
       "    </tr>\n",
       "    <tr>\n",
       "      <th>2</th>\n",
       "      <td>AR</td>\n",
       "      <td>457.0</td>\n",
       "      <td>39</td>\n",
       "      <td>0</td>\n",
       "      <td>8</td>\n",
       "      <td>7</td>\n",
       "      <td>136</td>\n",
       "      <td>160</td>\n",
       "      <td>AR</td>\n",
       "      <td>Arkansas</td>\n",
       "      <td>3033946</td>\n",
       "      <td>114943500000</td>\n",
       "      <td>1330</td>\n",
       "      <td>886647</td>\n",
       "      <td>US</td>\n",
       "      <td>1.377331e+05</td>\n",
       "      <td>1.347701e+05</td>\n",
       "      <td>2960.35857</td>\n",
       "    </tr>\n",
       "    <tr>\n",
       "      <th>3</th>\n",
       "      <td>AZ</td>\n",
       "      <td>2283.0</td>\n",
       "      <td>137</td>\n",
       "      <td>1</td>\n",
       "      <td>54</td>\n",
       "      <td>52</td>\n",
       "      <td>735</td>\n",
       "      <td>875</td>\n",
       "      <td>AZ</td>\n",
       "      <td>Arizona</td>\n",
       "      <td>7520103</td>\n",
       "      <td>320550600000</td>\n",
       "      <td>28770</td>\n",
       "      <td>2405959</td>\n",
       "      <td>US</td>\n",
       "      <td>2.952330e+05</td>\n",
       "      <td>2.942073e+05</td>\n",
       "      <td>1025.63604</td>\n",
       "    </tr>\n",
       "    <tr>\n",
       "      <th>4</th>\n",
       "      <td>BC</td>\n",
       "      <td>2953.0</td>\n",
       "      <td>183</td>\n",
       "      <td>8</td>\n",
       "      <td>196</td>\n",
       "      <td>183</td>\n",
       "      <td>904</td>\n",
       "      <td>1181</td>\n",
       "      <td>BC</td>\n",
       "      <td>British Columbia</td>\n",
       "      <td>4648055</td>\n",
       "      <td>246927400000</td>\n",
       "      <td>8133</td>\n",
       "      <td>3113125</td>\n",
       "      <td>CA</td>\n",
       "      <td>9.447350e+05</td>\n",
       "      <td>9.251860e+05</td>\n",
       "      <td>19549.00000</td>\n",
       "    </tr>\n",
       "  </tbody>\n",
       "</table>\n",
       "</div>"
      ],
      "text/plain": [
       "  State  Total Ports  TESLA  NEMA  CCS  CHADEMO  J1772  Total Stations Code  \\\n",
       "0    AK         88.0     13     0    5        6     34              48   AK   \n",
       "1    AL        526.0     50     0   16       19    161             195   AL   \n",
       "2    AR        457.0     39     0    8        7    136             160   AR   \n",
       "3    AZ       2283.0    137     1   54       52    735             875   AZ   \n",
       "4    BC       2953.0    183     8  196      183    904            1181   BC   \n",
       "\n",
       "           Province  Pop2016    GDP (2020)  2020 EV Registration  \\\n",
       "0            Alaska   724357   50161000000                   940   \n",
       "1           Alabama  4934193  196906100000                  2890   \n",
       "2          Arkansas  3033946  114943500000                  1330   \n",
       "3           Arizona  7520103  320550600000                 28770   \n",
       "4  British Columbia  4648055  246927400000                  8133   \n",
       "\n",
       "   2019 Total Registrated Cars Country  Total Area km2      Land km2  \\\n",
       "0                       178516      US    1.723338e+06  1.477954e+06   \n",
       "1                      2109108      US    1.357673e+05  1.311700e+05   \n",
       "2                       886647      US    1.377331e+05  1.347701e+05   \n",
       "3                      2405959      US    2.952330e+05  2.942073e+05   \n",
       "4                      3113125      CA    9.447350e+05  9.251860e+05   \n",
       "\n",
       "      Water km2  \n",
       "0  245383.42257  \n",
       "1    4597.23225  \n",
       "2    2960.35857  \n",
       "3    1025.63604  \n",
       "4   19549.00000  "
      ]
     },
     "execution_count": 30,
     "metadata": {},
     "output_type": "execute_result"
    }
   ],
   "source": [
    "#Inner join the two datasets\n",
    "df=pd.merge(charger_clean, EV_Clean, left_on='State', right_on='Code')\n",
    "df.head()"
   ]
  },
  {
   "cell_type": "markdown",
   "id": "2d2946ec",
   "metadata": {},
   "source": [
    "## 3.1 Explore Individual Variables"
   ]
  },
  {
   "cell_type": "code",
   "execution_count": 31,
   "id": "4c07577a",
   "metadata": {},
   "outputs": [
    {
     "data": {
      "text/html": [
       "<div>\n",
       "<style scoped>\n",
       "    .dataframe tbody tr th:only-of-type {\n",
       "        vertical-align: middle;\n",
       "    }\n",
       "\n",
       "    .dataframe tbody tr th {\n",
       "        vertical-align: top;\n",
       "    }\n",
       "\n",
       "    .dataframe thead th {\n",
       "        text-align: right;\n",
       "    }\n",
       "</style>\n",
       "<table border=\"1\" class=\"dataframe\">\n",
       "  <thead>\n",
       "    <tr style=\"text-align: right;\">\n",
       "      <th></th>\n",
       "      <th>Total Ports</th>\n",
       "      <th>TESLA</th>\n",
       "      <th>NEMA</th>\n",
       "      <th>CCS</th>\n",
       "      <th>CHADEMO</th>\n",
       "      <th>J1772</th>\n",
       "      <th>Total Stations</th>\n",
       "      <th>Pop2016</th>\n",
       "      <th>GDP (2020)</th>\n",
       "      <th>2020 EV Registration</th>\n",
       "      <th>2019 Total Registrated Cars</th>\n",
       "      <th>Total Area km2</th>\n",
       "      <th>Land km2</th>\n",
       "      <th>Water km2</th>\n",
       "    </tr>\n",
       "  </thead>\n",
       "  <tbody>\n",
       "    <tr>\n",
       "      <th>count</th>\n",
       "      <td>58.000000</td>\n",
       "      <td>58.000000</td>\n",
       "      <td>58.000000</td>\n",
       "      <td>58.000000</td>\n",
       "      <td>58.000000</td>\n",
       "      <td>58.000000</td>\n",
       "      <td>58.000000</td>\n",
       "      <td>5.800000e+01</td>\n",
       "      <td>5.800000e+01</td>\n",
       "      <td>58.000000</td>\n",
       "      <td>5.800000e+01</td>\n",
       "      <td>5.800000e+01</td>\n",
       "      <td>5.800000e+01</td>\n",
       "      <td>58.000000</td>\n",
       "    </tr>\n",
       "    <tr>\n",
       "      <th>mean</th>\n",
       "      <td>2256.517241</td>\n",
       "      <td>113.482759</td>\n",
       "      <td>7.206897</td>\n",
       "      <td>91.206897</td>\n",
       "      <td>89.137931</td>\n",
       "      <td>767.637931</td>\n",
       "      <td>911.189655</td>\n",
       "      <td>6.221917e+06</td>\n",
       "      <td>3.801082e+11</td>\n",
       "      <td>18001.379310</td>\n",
       "      <td>2.204356e+06</td>\n",
       "      <td>2.547262e+05</td>\n",
       "      <td>2.341034e+05</td>\n",
       "      <td>20622.972615</td>\n",
       "    </tr>\n",
       "    <tr>\n",
       "      <th>std</th>\n",
       "      <td>4756.119239</td>\n",
       "      <td>170.409233</td>\n",
       "      <td>13.899083</td>\n",
       "      <td>177.515382</td>\n",
       "      <td>176.342713</td>\n",
       "      <td>1593.058216</td>\n",
       "      <td>1833.373771</td>\n",
       "      <td>7.181024e+06</td>\n",
       "      <td>5.222593e+11</td>\n",
       "      <td>56051.762759</td>\n",
       "      <td>2.588063e+06</td>\n",
       "      <td>3.392992e+05</td>\n",
       "      <td>3.002602e+05</td>\n",
       "      <td>46037.507236</td>\n",
       "    </tr>\n",
       "    <tr>\n",
       "      <th>min</th>\n",
       "      <td>88.000000</td>\n",
       "      <td>3.000000</td>\n",
       "      <td>0.000000</td>\n",
       "      <td>3.000000</td>\n",
       "      <td>0.000000</td>\n",
       "      <td>34.000000</td>\n",
       "      <td>48.000000</td>\n",
       "      <td>1.429070e+05</td>\n",
       "      <td>5.882600e+09</td>\n",
       "      <td>15.000000</td>\n",
       "      <td>1.015940e+05</td>\n",
       "      <td>1.770000e+02</td>\n",
       "      <td>1.580000e+02</td>\n",
       "      <td>0.000000</td>\n",
       "    </tr>\n",
       "    <tr>\n",
       "      <th>25%</th>\n",
       "      <td>361.750000</td>\n",
       "      <td>30.250000</td>\n",
       "      <td>1.000000</td>\n",
       "      <td>16.000000</td>\n",
       "      <td>14.500000</td>\n",
       "      <td>125.500000</td>\n",
       "      <td>154.750000</td>\n",
       "      <td>1.380760e+06</td>\n",
       "      <td>7.597552e+10</td>\n",
       "      <td>1927.500000</td>\n",
       "      <td>5.654755e+05</td>\n",
       "      <td>9.230724e+04</td>\n",
       "      <td>8.310954e+04</td>\n",
       "      <td>1605.793800</td>\n",
       "    </tr>\n",
       "    <tr>\n",
       "      <th>50%</th>\n",
       "      <td>934.000000</td>\n",
       "      <td>74.500000</td>\n",
       "      <td>2.000000</td>\n",
       "      <td>34.500000</td>\n",
       "      <td>35.500000</td>\n",
       "      <td>300.000000</td>\n",
       "      <td>402.000000</td>\n",
       "      <td>4.385076e+06</td>\n",
       "      <td>2.106651e+11</td>\n",
       "      <td>5501.500000</td>\n",
       "      <td>1.387260e+06</td>\n",
       "      <td>1.519534e+05</td>\n",
       "      <td>1.420312e+05</td>\n",
       "      <td>4153.048965</td>\n",
       "    </tr>\n",
       "    <tr>\n",
       "      <th>75%</th>\n",
       "      <td>2418.500000</td>\n",
       "      <td>131.000000</td>\n",
       "      <td>7.000000</td>\n",
       "      <td>107.250000</td>\n",
       "      <td>114.250000</td>\n",
       "      <td>828.000000</td>\n",
       "      <td>993.750000</td>\n",
       "      <td>7.727732e+06</td>\n",
       "      <td>4.667838e+11</td>\n",
       "      <td>17195.000000</td>\n",
       "      <td>2.783440e+06</td>\n",
       "      <td>2.526231e+05</td>\n",
       "      <td>2.399671e+05</td>\n",
       "      <td>13238.086387</td>\n",
       "    </tr>\n",
       "    <tr>\n",
       "      <th>max</th>\n",
       "      <td>35417.000000</td>\n",
       "      <td>1118.000000</td>\n",
       "      <td>80.000000</td>\n",
       "      <td>1277.000000</td>\n",
       "      <td>1277.000000</td>\n",
       "      <td>11728.000000</td>\n",
       "      <td>13512.000000</td>\n",
       "      <td>3.961349e+07</td>\n",
       "      <td>2.663666e+12</td>\n",
       "      <td>425300.000000</td>\n",
       "      <td>1.489491e+07</td>\n",
       "      <td>1.723338e+06</td>\n",
       "      <td>1.477954e+06</td>\n",
       "      <td>245383.422570</td>\n",
       "    </tr>\n",
       "  </tbody>\n",
       "</table>\n",
       "</div>"
      ],
      "text/plain": [
       "        Total Ports        TESLA       NEMA          CCS      CHADEMO  \\\n",
       "count     58.000000    58.000000  58.000000    58.000000    58.000000   \n",
       "mean    2256.517241   113.482759   7.206897    91.206897    89.137931   \n",
       "std     4756.119239   170.409233  13.899083   177.515382   176.342713   \n",
       "min       88.000000     3.000000   0.000000     3.000000     0.000000   \n",
       "25%      361.750000    30.250000   1.000000    16.000000    14.500000   \n",
       "50%      934.000000    74.500000   2.000000    34.500000    35.500000   \n",
       "75%     2418.500000   131.000000   7.000000   107.250000   114.250000   \n",
       "max    35417.000000  1118.000000  80.000000  1277.000000  1277.000000   \n",
       "\n",
       "              J1772  Total Stations       Pop2016    GDP (2020)  \\\n",
       "count     58.000000       58.000000  5.800000e+01  5.800000e+01   \n",
       "mean     767.637931      911.189655  6.221917e+06  3.801082e+11   \n",
       "std     1593.058216     1833.373771  7.181024e+06  5.222593e+11   \n",
       "min       34.000000       48.000000  1.429070e+05  5.882600e+09   \n",
       "25%      125.500000      154.750000  1.380760e+06  7.597552e+10   \n",
       "50%      300.000000      402.000000  4.385076e+06  2.106651e+11   \n",
       "75%      828.000000      993.750000  7.727732e+06  4.667838e+11   \n",
       "max    11728.000000    13512.000000  3.961349e+07  2.663666e+12   \n",
       "\n",
       "       2020 EV Registration  2019 Total Registrated Cars  Total Area km2  \\\n",
       "count             58.000000                 5.800000e+01    5.800000e+01   \n",
       "mean           18001.379310                 2.204356e+06    2.547262e+05   \n",
       "std            56051.762759                 2.588063e+06    3.392992e+05   \n",
       "min               15.000000                 1.015940e+05    1.770000e+02   \n",
       "25%             1927.500000                 5.654755e+05    9.230724e+04   \n",
       "50%             5501.500000                 1.387260e+06    1.519534e+05   \n",
       "75%            17195.000000                 2.783440e+06    2.526231e+05   \n",
       "max           425300.000000                 1.489491e+07    1.723338e+06   \n",
       "\n",
       "           Land km2      Water km2  \n",
       "count  5.800000e+01      58.000000  \n",
       "mean   2.341034e+05   20622.972615  \n",
       "std    3.002602e+05   46037.507236  \n",
       "min    1.580000e+02       0.000000  \n",
       "25%    8.310954e+04    1605.793800  \n",
       "50%    1.420312e+05    4153.048965  \n",
       "75%    2.399671e+05   13238.086387  \n",
       "max    1.477954e+06  245383.422570  "
      ]
     },
     "execution_count": 31,
     "metadata": {},
     "output_type": "execute_result"
    }
   ],
   "source": [
    "#Summarize the d\n",
    "df.describe()"
   ]
  },
  {
   "cell_type": "markdown",
   "id": "a06b2abd",
   "metadata": {},
   "source": [
    "As shown above, we have data for 58 states or provinces in the US or Canada. \n",
    "\n",
    "For chargers:\n",
    "The average number of stations are 911 for each province. The maximum number of stations are 13,512. But there are also states where only 48 stations were installed. The median number of stations are 402.\n",
    "\n",
    "For EVs:\n",
    "The average 2020 registrated cars are around 18001. The maximum EV registration si 425K and minimum registration number is 15, which is very small."
   ]
  },
  {
   "cell_type": "markdown",
   "id": "88ad16b4",
   "metadata": {},
   "source": [
    "### 3.1.1 Permutation Test"
   ]
  },
  {
   "cell_type": "markdown",
   "id": "4b728882",
   "metadata": {},
   "source": [
    "Also, as shown above, the mean and standard deviation for Tesla and CCS are very close. But the average number of Tesla is greater than CCS. We assume that the EV Charger company can install all types of chargers, and they want to see two charging types TESLA and CCS, as they can provide Level 3 Fast Charging and more EV Manufactures are increasingly using.\n",
    "\n",
    "The EV Charger Company wants to verify if they should evenly install these two types of chargers or more Tesla."
   ]
  },
  {
   "cell_type": "markdown",
   "id": "b7bc1e08",
   "metadata": {},
   "source": [
    "To test this, we will use the permutation method to test the difference if it is statistically significant.\n",
    "\n",
    "Null Hypothesis: there is no difference for the average number of Tesla chargers and CCS chargers"
   ]
  },
  {
   "cell_type": "code",
   "execution_count": 32,
   "id": "57b5b9da",
   "metadata": {},
   "outputs": [
    {
     "data": {
      "text/html": [
       "<div>\n",
       "<style scoped>\n",
       "    .dataframe tbody tr th:only-of-type {\n",
       "        vertical-align: middle;\n",
       "    }\n",
       "\n",
       "    .dataframe tbody tr th {\n",
       "        vertical-align: top;\n",
       "    }\n",
       "\n",
       "    .dataframe thead th {\n",
       "        text-align: right;\n",
       "    }\n",
       "</style>\n",
       "<table border=\"1\" class=\"dataframe\">\n",
       "  <thead>\n",
       "    <tr style=\"text-align: right;\">\n",
       "      <th></th>\n",
       "      <th>Number</th>\n",
       "      <th>charger</th>\n",
       "    </tr>\n",
       "  </thead>\n",
       "  <tbody>\n",
       "    <tr>\n",
       "      <th>0</th>\n",
       "      <td>13</td>\n",
       "      <td>TESLA</td>\n",
       "    </tr>\n",
       "    <tr>\n",
       "      <th>1</th>\n",
       "      <td>50</td>\n",
       "      <td>TESLA</td>\n",
       "    </tr>\n",
       "    <tr>\n",
       "      <th>2</th>\n",
       "      <td>39</td>\n",
       "      <td>TESLA</td>\n",
       "    </tr>\n",
       "    <tr>\n",
       "      <th>3</th>\n",
       "      <td>137</td>\n",
       "      <td>TESLA</td>\n",
       "    </tr>\n",
       "    <tr>\n",
       "      <th>4</th>\n",
       "      <td>183</td>\n",
       "      <td>TESLA</td>\n",
       "    </tr>\n",
       "    <tr>\n",
       "      <th>...</th>\n",
       "      <td>...</td>\n",
       "      <td>...</td>\n",
       "    </tr>\n",
       "    <tr>\n",
       "      <th>111</th>\n",
       "      <td>28</td>\n",
       "      <td>CCS</td>\n",
       "    </tr>\n",
       "    <tr>\n",
       "      <th>112</th>\n",
       "      <td>160</td>\n",
       "      <td>CCS</td>\n",
       "    </tr>\n",
       "    <tr>\n",
       "      <th>113</th>\n",
       "      <td>39</td>\n",
       "      <td>CCS</td>\n",
       "    </tr>\n",
       "    <tr>\n",
       "      <th>114</th>\n",
       "      <td>3</td>\n",
       "      <td>CCS</td>\n",
       "    </tr>\n",
       "    <tr>\n",
       "      <th>115</th>\n",
       "      <td>3</td>\n",
       "      <td>CCS</td>\n",
       "    </tr>\n",
       "  </tbody>\n",
       "</table>\n",
       "<p>116 rows × 2 columns</p>\n",
       "</div>"
      ],
      "text/plain": [
       "     Number charger\n",
       "0        13   TESLA\n",
       "1        50   TESLA\n",
       "2        39   TESLA\n",
       "3       137   TESLA\n",
       "4       183   TESLA\n",
       "..      ...     ...\n",
       "111      28     CCS\n",
       "112     160     CCS\n",
       "113      39     CCS\n",
       "114       3     CCS\n",
       "115       3     CCS\n",
       "\n",
       "[116 rows x 2 columns]"
      ]
     },
     "execution_count": 32,
     "metadata": {},
     "output_type": "execute_result"
    }
   ],
   "source": [
    "#Create a new EV Charging Type\n",
    "TYPE = df['TESLA']\n",
    "TYPE = pd.DataFrame(TYPE)\n",
    "TYPE.columns=['Number']\n",
    "TYPE=TYPE.assign(charger='TESLA')\n",
    "\n",
    "\n",
    "CCS = df['CCS']\n",
    "CCS = pd.DataFrame(CCS)\n",
    "CCS.columns=['Number']\n",
    "CCS=CCS.assign(charger='CCS')\n",
    "\n",
    "TYPE = TYPE.append(CCS,ignore_index=True)\n",
    "TYPE"
   ]
  },
  {
   "cell_type": "code",
   "execution_count": 33,
   "id": "b249f9c2",
   "metadata": {},
   "outputs": [
    {
     "name": "stderr",
     "output_type": "stream",
     "text": [
      "/var/folders/sc/zm445gtj461388gkngwypfbw0000gn/T/ipykernel_30187/468799257.py:4: PerformanceWarning: DataFrame is highly fragmented.  This is usually the result of calling `frame.insert` many times, which has poor performance.  Consider joining all columns at once using pd.concat(axis=1) instead.  To get a de-fragmented frame, use `newframe = frame.copy()`\n",
      "  TYPE[i] = np.random.permutation(TYPE['Number'])\n"
     ]
    }
   ],
   "source": [
    "difference=[]\n",
    "\n",
    "for i in range(1000):\n",
    "    TYPE[i] = np.random.permutation(TYPE['Number'])\n",
    "    difference.append(TYPE.groupby('charger')[i].agg(np.mean)['TESLA'] - TYPE.groupby('charger')[i].agg(np.mean)['CCS'])"
   ]
  },
  {
   "cell_type": "code",
   "execution_count": 34,
   "id": "2e9fb53d",
   "metadata": {},
   "outputs": [
    {
     "data": {
      "image/png": "[encoded data removed]",
      "text/plain": [
       "<Figure size 432x288 with 1 Axes>"
      ]
     },
     "metadata": {
      "needs_background": "light"
     },
     "output_type": "display_data"
    }
   ],
   "source": [
    "# Make a variable called 'histo', and assign to it the result of plotting a histogram of the difference list. \n",
    "histo=plt.hist(difference,histtype='step')\n",
    "# Draw the mean of the difference list\n",
    "plt.axvline(x=np.mean(difference),color='red')\n",
    "plt.show()"
   ]
  },
  {
   "cell_type": "code",
   "execution_count": 35,
   "id": "086148d2",
   "metadata": {},
   "outputs": [
    {
     "name": "stdout",
     "output_type": "stream",
     "text": [
      "22.27586206896551\n"
     ]
    }
   ],
   "source": [
    "# Calculate the observed difference between TESLA and CCS as a criteria for calcualting p values\n",
    "obs_difference=TYPE.groupby('charger')['Number'].agg(np.mean)['TESLA'] - TYPE.groupby('charger')['Number'].agg(np.mean)['CCS']\n",
    "obs_difference=abs(obs_difference)\n",
    "\n",
    "# Print out the obseved difference\n",
    "print(obs_difference)"
   ]
  },
  {
   "cell_type": "code",
   "execution_count": 36,
   "id": "db2e02af",
   "metadata": {},
   "outputs": [
    {
     "name": "stdout",
     "output_type": "stream",
     "text": [
      "0.237\n"
     ]
    }
   ],
   "source": [
    "#Calcualte the P Value\n",
    "p_value=np.sum(difference>=obs_difference)/len(difference)\n",
    "print(p_value)"
   ]
  },
  {
   "cell_type": "markdown",
   "id": "e0bed743",
   "metadata": {},
   "source": [
    "From the above test, 0.274 is not small enough to reject the null hypothesis. So there is no evidence that there are difference between the average number of Tesla Chargers and Number of CCS Chargers. As a result, the EV Charger Company may consider to evenly install these two chargers in the future."
   ]
  },
  {
   "cell_type": "markdown",
   "id": "9f369c5c",
   "metadata": {},
   "source": [
    "### 3.1.2 Other distributions"
   ]
  },
  {
   "cell_type": "code",
   "execution_count": 37,
   "id": "9094e0dd",
   "metadata": {},
   "outputs": [
    {
     "data": {
      "image/png": "[encoded data removed]",
      "text/plain": [
       "<Figure size 1080x720 with 16 Axes>"
      ]
     },
     "metadata": {
      "needs_background": "light"
     },
     "output_type": "display_data"
    }
   ],
   "source": [
    "#Plot the histogram for each column\n",
    "df.hist(figsize=(15,10))\n",
    "plt.subplots_adjust(hspace=0.5);"
   ]
  },
  {
   "cell_type": "markdown",
   "id": "5201fd65",
   "metadata": {},
   "source": [
    "As we can see that for Total ports, EV Registration, Totat Stations have outliers, i.e. California. So we will try to plot without California data:"
   ]
  },
  {
   "cell_type": "code",
   "execution_count": 38,
   "id": "4e1f8304",
   "metadata": {},
   "outputs": [
    {
     "data": {
      "image/png": "[encoded data removed]",
      "text/plain": [
       "<Figure size 1080x720 with 16 Axes>"
      ]
     },
     "metadata": {
      "needs_background": "light"
     },
     "output_type": "display_data"
    }
   ],
   "source": [
    "df[df['State']!='CA'].hist(figsize=(15,10))\n",
    "plt.subplots_adjust(hspace=0.5);"
   ]
  },
  {
   "cell_type": "markdown",
   "id": "75a9da38",
   "metadata": {},
   "source": [
    "## 3.2 Explore the Relationship between Each Variable and the Target"
   ]
  },
  {
   "cell_type": "code",
   "execution_count": 39,
   "id": "51215adc",
   "metadata": {},
   "outputs": [
    {
     "data": {
      "text/plain": [
       "Total Ports                    0.998138\n",
       "TESLA                          0.929739\n",
       "NEMA                           0.451396\n",
       "CCS                            0.971330\n",
       "CHADEMO                        0.972899\n",
       "J1772                          0.999677\n",
       "Total Stations                 1.000000\n",
       "Pop2016                        0.811823\n",
       "GDP (2020)                     0.714813\n",
       "2020 EV Registration           0.962141\n",
       "2019 Total Registrated Cars    0.843759\n",
       "Total Area km2                 0.177238\n",
       "Land km2                       0.185160\n",
       "Water km2                      0.098620\n",
       "Name: Total Stations, dtype: float64"
      ]
     },
     "execution_count": 39,
     "metadata": {},
     "output_type": "execute_result"
    }
   ],
   "source": [
    "#Another way to explore this\n",
    "df.corr()['Total Stations']"
   ]
  },
  {
   "cell_type": "markdown",
   "id": "b80e6201",
   "metadata": {},
   "source": [
    "It is interested to see that they is a strong correlation between 2020 EV Registration and the number of total stations. It is not surprised to see Total number of EVs versus Total Stations. However, how EV Registration in 2020 will affect the total number of chargin stations? Or does the EV charging stations affect the number of EV being purchased?"
   ]
  },
  {
   "cell_type": "code",
   "execution_count": 40,
   "id": "086c0e46",
   "metadata": {},
   "outputs": [
    {
     "data": {
      "text/plain": [
       "<AxesSubplot:xlabel='2020 EV Registration', ylabel='Total Stations'>"
      ]
     },
     "execution_count": 40,
     "metadata": {},
     "output_type": "execute_result"
    },
    {
     "data": {
      "image/png": "[encoded data removed]",
      "text/plain": [
       "<Figure size 432x288 with 1 Axes>"
      ]
     },
     "metadata": {
      "needs_background": "light"
     },
     "output_type": "display_data"
    }
   ],
   "source": [
    "sns.regplot(x='2020 EV Registration',y='Total Stations',data=df,marker='+')"
   ]
  },
  {
   "cell_type": "code",
   "execution_count": 41,
   "id": "3a170e1c",
   "metadata": {},
   "outputs": [
    {
     "data": {
      "text/plain": [
       "Total Ports                    0.991291\n",
       "TESLA                          0.846479\n",
       "NEMA                           0.180488\n",
       "CCS                            0.849814\n",
       "CHADEMO                        0.848544\n",
       "J1772                          0.997944\n",
       "Total Stations                 1.000000\n",
       "Pop2016                        0.777866\n",
       "GDP (2020)                     0.555053\n",
       "2020 EV Registration           0.744168\n",
       "2019 Total Registrated Cars    0.809566\n",
       "Total Area km2                 0.293768\n",
       "Land km2                       0.293740\n",
       "Water km2                      0.249930\n",
       "Name: Total Stations, dtype: float64"
      ]
     },
     "execution_count": 41,
     "metadata": {},
     "output_type": "execute_result"
    }
   ],
   "source": [
    "#We can see a big outlier in the 2020 EV Registration and Total Stations. \n",
    "#Let's take it out to check the correlation again\n",
    "df_clean=df[df['State']!='CA']\n",
    "df_clean.corr()['Total Stations']"
   ]
  },
  {
   "cell_type": "code",
   "execution_count": 42,
   "id": "672a8eb3",
   "metadata": {},
   "outputs": [
    {
     "data": {
      "text/plain": [
       "<AxesSubplot:xlabel='2020 EV Registration', ylabel='Total Stations'>"
      ]
     },
     "execution_count": 42,
     "metadata": {},
     "output_type": "execute_result"
    },
    {
     "data": {
      "image/png": "[encoded data removed]",
      "text/plain": [
       "<Figure size 432x288 with 1 Axes>"
      ]
     },
     "metadata": {
      "needs_background": "light"
     },
     "output_type": "display_data"
    }
   ],
   "source": [
    "# Relationship between Total Registrated Cars in 2019, including EV and total charging stations\n",
    "sns.regplot(x='2020 EV Registration',y='Total Stations',data=df_clean,marker='+')"
   ]
  },
  {
   "cell_type": "markdown",
   "id": "8397e8b7",
   "metadata": {},
   "source": [
    "It seems that by removing the outlier, there is some improvements in fitting the linear regression model. Let's check this out by using Bootstrip method to calculate the 95% confidence intervals for the slope and intersection"
   ]
  },
  {
   "cell_type": "code",
   "execution_count": 43,
   "id": "9ca0be8a",
   "metadata": {},
   "outputs": [],
   "source": [
    "#Build a function for Bootstrip\n",
    "def draw_bs_pairs_linreg(x, y, size=1):\n",
    "    \"\"\"Perform pairs bootstrap for linear regression.\"\"\"\n",
    "\n",
    "    # Set up array of indices to sample from: inds\n",
    "    inds = np.arange(0,len(x))\n",
    "\n",
    "    # Initialize replicates: bs_slope_reps, bs_intercept_reps\n",
    "    bs_slope_reps = np.empty(size)\n",
    "    bs_intercept_reps = np.empty(size)\n",
    "\n",
    "    # Generate replicates\n",
    "    for i in range(size):\n",
    "        bs_inds = np.random.choice(inds, size=len(inds))\n",
    "        bs_x, bs_y = x[bs_inds], y[bs_inds]\n",
    "        bs_slope_reps[i], bs_intercept_reps[i] = np.polyfit(bs_x,bs_y,1)\n",
    "\n",
    "    return bs_slope_reps, bs_intercept_reps"
   ]
  },
  {
   "cell_type": "code",
   "execution_count": 44,
   "id": "e1e29683",
   "metadata": {},
   "outputs": [],
   "source": [
    "df_clean=df_clean.reset_index()"
   ]
  },
  {
   "cell_type": "code",
   "execution_count": 45,
   "id": "17ab6695",
   "metadata": {},
   "outputs": [
    {
     "name": "stdout",
     "output_type": "stream",
     "text": [
      "Considering CA: slope = 0.031470256777332103 conf int = [0.0308882  0.04864701]\n",
      "Considering CA: intercept = 344.68162592970896 conf int = [161.30392541 471.45334295]\n",
      "Not considering CA: slope = 0.040217962957674734 conf int = [0.03260317 0.05497043]\n",
      "Not considering CA: intercept = 253.52506808859707 conf int = [134.82642185 386.62140136]\n"
     ]
    }
   ],
   "source": [
    "# Compute the linear regressions\n",
    "slope, intercept = np.polyfit(df['2020 EV Registration'],df['Total Stations'],1)\n",
    "slope_clean, intercept_clean = np.polyfit(df_clean['2020 EV Registration'],df_clean['Total Stations'],1)\n",
    "\n",
    "# Perform pairs bootstrap for the linear regressions\n",
    "bs_slope_reps, bs_intercept_reps = \\\n",
    "        draw_bs_pairs_linreg(df['2020 EV Registration'],df['Total Stations'],1000)\n",
    "bs_slope_reps_clean, bs_intercept_reps_clean = \\\n",
    "        draw_bs_pairs_linreg(df_clean['2020 EV Registration'],df_clean['Total Stations'],1000)\n",
    "\n",
    "# Compute confidence intervals of slopes\n",
    "slope_conf_int = np.percentile(bs_slope_reps,[2.5,97.5])\n",
    "slope_conf_int_clean = np.percentile(bs_slope_reps_clean,[2.5,97.5])\n",
    "intercept_conf_int = np.percentile(bs_intercept_reps,[2.5,97.5])\n",
    "intercept_conf_int_clean = np.percentile(bs_intercept_reps_clean,[2.5,97.5])\n",
    "\n",
    "#Print them out\n",
    "print('Considering CA: slope =', slope,\n",
    "      'conf int =', slope_conf_int)\n",
    "print('Considering CA: intercept =', intercept,\n",
    "      'conf int =', intercept_conf_int)\n",
    "print('Not considering CA: slope =', slope_clean,\n",
    "      'conf int =', slope_conf_int_clean)\n",
    "print('Not considering CA: intercept =', intercept_clean,\n",
    "      'conf int =', intercept_conf_int_clean)"
   ]
  },
  {
   "cell_type": "code",
   "execution_count": 46,
   "id": "18ede2b1",
   "metadata": {},
   "outputs": [
    {
     "data": {
      "text/plain": [
       "<AxesSubplot:xlabel='Pop2016', ylabel='Total Stations'>"
      ]
     },
     "execution_count": 46,
     "metadata": {},
     "output_type": "execute_result"
    },
    {
     "data": {
      "image/png": "[encoded data removed]",
      "text/plain": [
       "<Figure size 432x288 with 1 Axes>"
      ]
     },
     "metadata": {
      "needs_background": "light"
     },
     "output_type": "display_data"
    }
   ],
   "source": [
    "# Relationship between Populations, including EV and total charging stations\n",
    "sns.regplot(x='Pop2016',y='Total Stations',data=df_clean,marker='+')"
   ]
  },
  {
   "cell_type": "markdown",
   "id": "e7ee8860",
   "metadata": {},
   "source": [
    "## 3.2 Assessing interactions between variables"
   ]
  },
  {
   "cell_type": "code",
   "execution_count": 47,
   "id": "fa0878b5",
   "metadata": {},
   "outputs": [
    {
     "data": {
      "text/plain": [
       "<AxesSubplot:>"
      ]
     },
     "execution_count": 47,
     "metadata": {},
     "output_type": "execute_result"
    },
    {
     "data": {
      "image/png": "[encoded data removed]",
      "text/plain": [
       "<Figure size 432x288 with 2 Axes>"
      ]
     },
     "metadata": {
      "needs_background": "light"
     },
     "output_type": "display_data"
    }
   ],
   "source": [
    "#As the first step, we can explore the correlation of each pair of parameters\n",
    "sns.heatmap(df.corr())"
   ]
  },
  {
   "cell_type": "code",
   "execution_count": 48,
   "id": "308fa721",
   "metadata": {},
   "outputs": [
    {
     "data": {
      "text/plain": [
       "<AxesSubplot:>"
      ]
     },
     "execution_count": 48,
     "metadata": {},
     "output_type": "execute_result"
    },
    {
     "data": {
      "image/png": "[encoded data removed]",
      "text/plain": [
       "<Figure size 432x288 with 2 Axes>"
      ]
     },
     "metadata": {
      "needs_background": "light"
     },
     "output_type": "display_data"
    }
   ],
   "source": [
    "# If we take California as an outlier out, we will get\n",
    "sns.heatmap(df_clean.corr())"
   ]
  },
  {
   "cell_type": "code",
   "execution_count": 49,
   "id": "2474f8b0",
   "metadata": {},
   "outputs": [
    {
     "data": {
      "text/html": [
       "<div>\n",
       "<style scoped>\n",
       "    .dataframe tbody tr th:only-of-type {\n",
       "        vertical-align: middle;\n",
       "    }\n",
       "\n",
       "    .dataframe tbody tr th {\n",
       "        vertical-align: top;\n",
       "    }\n",
       "\n",
       "    .dataframe thead th {\n",
       "        text-align: right;\n",
       "    }\n",
       "</style>\n",
       "<table border=\"1\" class=\"dataframe\">\n",
       "  <thead>\n",
       "    <tr style=\"text-align: right;\">\n",
       "      <th></th>\n",
       "      <th>index</th>\n",
       "      <th>Total Ports</th>\n",
       "      <th>TESLA</th>\n",
       "      <th>NEMA</th>\n",
       "      <th>CCS</th>\n",
       "      <th>CHADEMO</th>\n",
       "      <th>J1772</th>\n",
       "      <th>Total Stations</th>\n",
       "      <th>Pop2016</th>\n",
       "      <th>GDP (2020)</th>\n",
       "      <th>2020 EV Registration</th>\n",
       "      <th>2019 Total Registrated Cars</th>\n",
       "      <th>Total Area km2</th>\n",
       "      <th>Land km2</th>\n",
       "      <th>Water km2</th>\n",
       "    </tr>\n",
       "  </thead>\n",
       "  <tbody>\n",
       "    <tr>\n",
       "      <th>index</th>\n",
       "      <td>1.000000</td>\n",
       "      <td>0.062431</td>\n",
       "      <td>0.074598</td>\n",
       "      <td>0.241132</td>\n",
       "      <td>0.086566</td>\n",
       "      <td>0.085668</td>\n",
       "      <td>0.065245</td>\n",
       "      <td>0.072198</td>\n",
       "      <td>0.073808</td>\n",
       "      <td>-0.019273</td>\n",
       "      <td>0.028044</td>\n",
       "      <td>0.075325</td>\n",
       "      <td>-0.047740</td>\n",
       "      <td>-0.044859</td>\n",
       "      <td>-0.059310</td>\n",
       "    </tr>\n",
       "    <tr>\n",
       "      <th>Total Ports</th>\n",
       "      <td>0.062431</td>\n",
       "      <td>1.000000</td>\n",
       "      <td>0.880020</td>\n",
       "      <td>0.183377</td>\n",
       "      <td>0.844437</td>\n",
       "      <td>0.843456</td>\n",
       "      <td>0.986642</td>\n",
       "      <td>0.991291</td>\n",
       "      <td>0.802602</td>\n",
       "      <td>0.568966</td>\n",
       "      <td>0.764665</td>\n",
       "      <td>0.836212</td>\n",
       "      <td>0.271734</td>\n",
       "      <td>0.271605</td>\n",
       "      <td>0.231854</td>\n",
       "    </tr>\n",
       "    <tr>\n",
       "      <th>TESLA</th>\n",
       "      <td>0.074598</td>\n",
       "      <td>0.880020</td>\n",
       "      <td>1.000000</td>\n",
       "      <td>0.240031</td>\n",
       "      <td>0.628226</td>\n",
       "      <td>0.623106</td>\n",
       "      <td>0.830638</td>\n",
       "      <td>0.846479</td>\n",
       "      <td>0.881114</td>\n",
       "      <td>0.602685</td>\n",
       "      <td>0.780194</td>\n",
       "      <td>0.825943</td>\n",
       "      <td>0.160827</td>\n",
       "      <td>0.164978</td>\n",
       "      <td>0.109734</td>\n",
       "    </tr>\n",
       "    <tr>\n",
       "      <th>NEMA</th>\n",
       "      <td>0.241132</td>\n",
       "      <td>0.183377</td>\n",
       "      <td>0.240031</td>\n",
       "      <td>1.000000</td>\n",
       "      <td>0.148477</td>\n",
       "      <td>0.147308</td>\n",
       "      <td>0.155340</td>\n",
       "      <td>0.180488</td>\n",
       "      <td>0.237426</td>\n",
       "      <td>0.137894</td>\n",
       "      <td>0.195503</td>\n",
       "      <td>0.239107</td>\n",
       "      <td>0.001645</td>\n",
       "      <td>-0.006080</td>\n",
       "      <td>0.051641</td>\n",
       "    </tr>\n",
       "    <tr>\n",
       "      <th>CCS</th>\n",
       "      <td>0.086566</td>\n",
       "      <td>0.844437</td>\n",
       "      <td>0.628226</td>\n",
       "      <td>0.148477</td>\n",
       "      <td>1.000000</td>\n",
       "      <td>0.993901</td>\n",
       "      <td>0.826878</td>\n",
       "      <td>0.849814</td>\n",
       "      <td>0.579916</td>\n",
       "      <td>0.361888</td>\n",
       "      <td>0.524339</td>\n",
       "      <td>0.743944</td>\n",
       "      <td>0.479955</td>\n",
       "      <td>0.478644</td>\n",
       "      <td>0.416555</td>\n",
       "    </tr>\n",
       "    <tr>\n",
       "      <th>CHADEMO</th>\n",
       "      <td>0.085668</td>\n",
       "      <td>0.843456</td>\n",
       "      <td>0.623106</td>\n",
       "      <td>0.147308</td>\n",
       "      <td>0.993901</td>\n",
       "      <td>1.000000</td>\n",
       "      <td>0.826804</td>\n",
       "      <td>0.848544</td>\n",
       "      <td>0.562986</td>\n",
       "      <td>0.362298</td>\n",
       "      <td>0.544246</td>\n",
       "      <td>0.722831</td>\n",
       "      <td>0.457487</td>\n",
       "      <td>0.456685</td>\n",
       "      <td>0.394143</td>\n",
       "    </tr>\n",
       "    <tr>\n",
       "      <th>J1772</th>\n",
       "      <td>0.065245</td>\n",
       "      <td>0.986642</td>\n",
       "      <td>0.830638</td>\n",
       "      <td>0.155340</td>\n",
       "      <td>0.826878</td>\n",
       "      <td>0.826804</td>\n",
       "      <td>1.000000</td>\n",
       "      <td>0.997944</td>\n",
       "      <td>0.763360</td>\n",
       "      <td>0.552396</td>\n",
       "      <td>0.736544</td>\n",
       "      <td>0.788882</td>\n",
       "      <td>0.276943</td>\n",
       "      <td>0.276421</td>\n",
       "      <td>0.238834</td>\n",
       "    </tr>\n",
       "    <tr>\n",
       "      <th>Total Stations</th>\n",
       "      <td>0.072198</td>\n",
       "      <td>0.991291</td>\n",
       "      <td>0.846479</td>\n",
       "      <td>0.180488</td>\n",
       "      <td>0.849814</td>\n",
       "      <td>0.848544</td>\n",
       "      <td>0.997944</td>\n",
       "      <td>1.000000</td>\n",
       "      <td>0.777866</td>\n",
       "      <td>0.555053</td>\n",
       "      <td>0.744168</td>\n",
       "      <td>0.809566</td>\n",
       "      <td>0.293768</td>\n",
       "      <td>0.293740</td>\n",
       "      <td>0.249930</td>\n",
       "    </tr>\n",
       "    <tr>\n",
       "      <th>Pop2016</th>\n",
       "      <td>0.073808</td>\n",
       "      <td>0.802602</td>\n",
       "      <td>0.881114</td>\n",
       "      <td>0.237426</td>\n",
       "      <td>0.579916</td>\n",
       "      <td>0.562986</td>\n",
       "      <td>0.763360</td>\n",
       "      <td>0.777866</td>\n",
       "      <td>1.000000</td>\n",
       "      <td>0.672183</td>\n",
       "      <td>0.803196</td>\n",
       "      <td>0.919567</td>\n",
       "      <td>0.118243</td>\n",
       "      <td>0.118302</td>\n",
       "      <td>0.100143</td>\n",
       "    </tr>\n",
       "    <tr>\n",
       "      <th>GDP (2020)</th>\n",
       "      <td>-0.019273</td>\n",
       "      <td>0.568966</td>\n",
       "      <td>0.602685</td>\n",
       "      <td>0.137894</td>\n",
       "      <td>0.361888</td>\n",
       "      <td>0.362298</td>\n",
       "      <td>0.552396</td>\n",
       "      <td>0.555053</td>\n",
       "      <td>0.672183</td>\n",
       "      <td>1.000000</td>\n",
       "      <td>0.608302</td>\n",
       "      <td>0.585274</td>\n",
       "      <td>0.013016</td>\n",
       "      <td>0.008943</td>\n",
       "      <td>0.037557</td>\n",
       "    </tr>\n",
       "    <tr>\n",
       "      <th>2020 EV Registration</th>\n",
       "      <td>0.028044</td>\n",
       "      <td>0.764665</td>\n",
       "      <td>0.780194</td>\n",
       "      <td>0.195503</td>\n",
       "      <td>0.524339</td>\n",
       "      <td>0.544246</td>\n",
       "      <td>0.736544</td>\n",
       "      <td>0.744168</td>\n",
       "      <td>0.803196</td>\n",
       "      <td>0.608302</td>\n",
       "      <td>1.000000</td>\n",
       "      <td>0.689998</td>\n",
       "      <td>-0.014612</td>\n",
       "      <td>-0.007562</td>\n",
       "      <td>-0.058268</td>\n",
       "    </tr>\n",
       "    <tr>\n",
       "      <th>2019 Total Registrated Cars</th>\n",
       "      <td>0.075325</td>\n",
       "      <td>0.836212</td>\n",
       "      <td>0.825943</td>\n",
       "      <td>0.239107</td>\n",
       "      <td>0.743944</td>\n",
       "      <td>0.722831</td>\n",
       "      <td>0.788882</td>\n",
       "      <td>0.809566</td>\n",
       "      <td>0.919567</td>\n",
       "      <td>0.585274</td>\n",
       "      <td>0.689998</td>\n",
       "      <td>1.000000</td>\n",
       "      <td>0.311971</td>\n",
       "      <td>0.308947</td>\n",
       "      <td>0.284892</td>\n",
       "    </tr>\n",
       "    <tr>\n",
       "      <th>Total Area km2</th>\n",
       "      <td>-0.047740</td>\n",
       "      <td>0.271734</td>\n",
       "      <td>0.160827</td>\n",
       "      <td>0.001645</td>\n",
       "      <td>0.479955</td>\n",
       "      <td>0.457487</td>\n",
       "      <td>0.276943</td>\n",
       "      <td>0.293768</td>\n",
       "      <td>0.118243</td>\n",
       "      <td>0.013016</td>\n",
       "      <td>-0.014612</td>\n",
       "      <td>0.311971</td>\n",
       "      <td>1.000000</td>\n",
       "      <td>0.997101</td>\n",
       "      <td>0.868997</td>\n",
       "    </tr>\n",
       "    <tr>\n",
       "      <th>Land km2</th>\n",
       "      <td>-0.044859</td>\n",
       "      <td>0.271605</td>\n",
       "      <td>0.164978</td>\n",
       "      <td>-0.006080</td>\n",
       "      <td>0.478644</td>\n",
       "      <td>0.456685</td>\n",
       "      <td>0.276421</td>\n",
       "      <td>0.293740</td>\n",
       "      <td>0.118302</td>\n",
       "      <td>0.008943</td>\n",
       "      <td>-0.007562</td>\n",
       "      <td>0.308947</td>\n",
       "      <td>0.997101</td>\n",
       "      <td>1.000000</td>\n",
       "      <td>0.828830</td>\n",
       "    </tr>\n",
       "    <tr>\n",
       "      <th>Water km2</th>\n",
       "      <td>-0.059310</td>\n",
       "      <td>0.231854</td>\n",
       "      <td>0.109734</td>\n",
       "      <td>0.051641</td>\n",
       "      <td>0.416555</td>\n",
       "      <td>0.394143</td>\n",
       "      <td>0.238834</td>\n",
       "      <td>0.249930</td>\n",
       "      <td>0.100143</td>\n",
       "      <td>0.037557</td>\n",
       "      <td>-0.058268</td>\n",
       "      <td>0.284892</td>\n",
       "      <td>0.868997</td>\n",
       "      <td>0.828830</td>\n",
       "      <td>1.000000</td>\n",
       "    </tr>\n",
       "  </tbody>\n",
       "</table>\n",
       "</div>"
      ],
      "text/plain": [
       "                                index  Total Ports     TESLA      NEMA  \\\n",
       "index                        1.000000     0.062431  0.074598  0.241132   \n",
       "Total Ports                  0.062431     1.000000  0.880020  0.183377   \n",
       "TESLA                        0.074598     0.880020  1.000000  0.240031   \n",
       "NEMA                         0.241132     0.183377  0.240031  1.000000   \n",
       "CCS                          0.086566     0.844437  0.628226  0.148477   \n",
       "CHADEMO                      0.085668     0.843456  0.623106  0.147308   \n",
       "J1772                        0.065245     0.986642  0.830638  0.155340   \n",
       "Total Stations               0.072198     0.991291  0.846479  0.180488   \n",
       "Pop2016                      0.073808     0.802602  0.881114  0.237426   \n",
       "GDP (2020)                  -0.019273     0.568966  0.602685  0.137894   \n",
       "2020 EV Registration         0.028044     0.764665  0.780194  0.195503   \n",
       "2019 Total Registrated Cars  0.075325     0.836212  0.825943  0.239107   \n",
       "Total Area km2              -0.047740     0.271734  0.160827  0.001645   \n",
       "Land km2                    -0.044859     0.271605  0.164978 -0.006080   \n",
       "Water km2                   -0.059310     0.231854  0.109734  0.051641   \n",
       "\n",
       "                                  CCS   CHADEMO     J1772  Total Stations  \\\n",
       "index                        0.086566  0.085668  0.065245        0.072198   \n",
       "Total Ports                  0.844437  0.843456  0.986642        0.991291   \n",
       "TESLA                        0.628226  0.623106  0.830638        0.846479   \n",
       "NEMA                         0.148477  0.147308  0.155340        0.180488   \n",
       "CCS                          1.000000  0.993901  0.826878        0.849814   \n",
       "CHADEMO                      0.993901  1.000000  0.826804        0.848544   \n",
       "J1772                        0.826878  0.826804  1.000000        0.997944   \n",
       "Total Stations               0.849814  0.848544  0.997944        1.000000   \n",
       "Pop2016                      0.579916  0.562986  0.763360        0.777866   \n",
       "GDP (2020)                   0.361888  0.362298  0.552396        0.555053   \n",
       "2020 EV Registration         0.524339  0.544246  0.736544        0.744168   \n",
       "2019 Total Registrated Cars  0.743944  0.722831  0.788882        0.809566   \n",
       "Total Area km2               0.479955  0.457487  0.276943        0.293768   \n",
       "Land km2                     0.478644  0.456685  0.276421        0.293740   \n",
       "Water km2                    0.416555  0.394143  0.238834        0.249930   \n",
       "\n",
       "                              Pop2016  GDP (2020)  2020 EV Registration  \\\n",
       "index                        0.073808   -0.019273              0.028044   \n",
       "Total Ports                  0.802602    0.568966              0.764665   \n",
       "TESLA                        0.881114    0.602685              0.780194   \n",
       "NEMA                         0.237426    0.137894              0.195503   \n",
       "CCS                          0.579916    0.361888              0.524339   \n",
       "CHADEMO                      0.562986    0.362298              0.544246   \n",
       "J1772                        0.763360    0.552396              0.736544   \n",
       "Total Stations               0.777866    0.555053              0.744168   \n",
       "Pop2016                      1.000000    0.672183              0.803196   \n",
       "GDP (2020)                   0.672183    1.000000              0.608302   \n",
       "2020 EV Registration         0.803196    0.608302              1.000000   \n",
       "2019 Total Registrated Cars  0.919567    0.585274              0.689998   \n",
       "Total Area km2               0.118243    0.013016             -0.014612   \n",
       "Land km2                     0.118302    0.008943             -0.007562   \n",
       "Water km2                    0.100143    0.037557             -0.058268   \n",
       "\n",
       "                             2019 Total Registrated Cars  Total Area km2  \\\n",
       "index                                           0.075325       -0.047740   \n",
       "Total Ports                                     0.836212        0.271734   \n",
       "TESLA                                           0.825943        0.160827   \n",
       "NEMA                                            0.239107        0.001645   \n",
       "CCS                                             0.743944        0.479955   \n",
       "CHADEMO                                         0.722831        0.457487   \n",
       "J1772                                           0.788882        0.276943   \n",
       "Total Stations                                  0.809566        0.293768   \n",
       "Pop2016                                         0.919567        0.118243   \n",
       "GDP (2020)                                      0.585274        0.013016   \n",
       "2020 EV Registration                            0.689998       -0.014612   \n",
       "2019 Total Registrated Cars                     1.000000        0.311971   \n",
       "Total Area km2                                  0.311971        1.000000   \n",
       "Land km2                                        0.308947        0.997101   \n",
       "Water km2                                       0.284892        0.868997   \n",
       "\n",
       "                             Land km2  Water km2  \n",
       "index                       -0.044859  -0.059310  \n",
       "Total Ports                  0.271605   0.231854  \n",
       "TESLA                        0.164978   0.109734  \n",
       "NEMA                        -0.006080   0.051641  \n",
       "CCS                          0.478644   0.416555  \n",
       "CHADEMO                      0.456685   0.394143  \n",
       "J1772                        0.276421   0.238834  \n",
       "Total Stations               0.293740   0.249930  \n",
       "Pop2016                      0.118302   0.100143  \n",
       "GDP (2020)                   0.008943   0.037557  \n",
       "2020 EV Registration        -0.007562  -0.058268  \n",
       "2019 Total Registrated Cars  0.308947   0.284892  \n",
       "Total Area km2               0.997101   0.868997  \n",
       "Land km2                     1.000000   0.828830  \n",
       "Water km2                    0.828830   1.000000  "
      ]
     },
     "execution_count": 49,
     "metadata": {},
     "output_type": "execute_result"
    }
   ],
   "source": [
    "#Another correlation form\n",
    "df_clean.corr()"
   ]
  },
  {
   "cell_type": "markdown",
   "id": "b8b389e7",
   "metadata": {},
   "source": [
    "As we can see, a few linear relationships stand out (Correlation Coefficient > 0.8), including:\n",
    "1) Total Ports and Total Stations (Obviously)\n",
    "\n",
    "2) 2019 Total Registrated Cars and Population (0.91, vesy strong)\n",
    "\n",
    "3) CCS and CHADEMO (are they installed together?)\n",
    "\n",
    "4) 2020 EV Registration and Population\n",
    "\n",
    "5) Total Ports and 2019 Total Registrated Cars\n",
    "\n",
    "6) 2019 Total Registrated Cars and Tesla Ports"
   ]
  },
  {
   "cell_type": "markdown",
   "id": "480b1acc",
   "metadata": {},
   "source": [
    "## 3.4 Exploring data across many dimensions"
   ]
  },
  {
   "cell_type": "markdown",
   "id": "4876e514",
   "metadata": {},
   "source": [
    "### 3.4.1 3 Dimensional Exploration"
   ]
  },
  {
   "cell_type": "markdown",
   "id": "c5e10c6d",
   "metadata": {},
   "source": [
    "To explore data across many dimensions, the inital thing that we can start is to see if there are any patterns from different countries. "
   ]
  },
  {
   "cell_type": "code",
   "execution_count": 50,
   "id": "838798d7",
   "metadata": {},
   "outputs": [
    {
     "data": {
      "text/plain": [
       "<AxesSubplot:xlabel='2020 EV Registration', ylabel='Total Stations'>"
      ]
     },
     "execution_count": 50,
     "metadata": {},
     "output_type": "execute_result"
    },
    {
     "data": {
      "image/png": "[encoded data removed]",
      "text/plain": [
       "<Figure size 432x288 with 1 Axes>"
      ]
     },
     "metadata": {
      "needs_background": "light"
     },
     "output_type": "display_data"
    }
   ],
   "source": [
    "sns.scatterplot(x='2020 EV Registration',y='Total Stations',data=df_clean,hue='Country')"
   ]
  },
  {
   "cell_type": "markdown",
   "id": "c855748b",
   "metadata": {},
   "source": [
    "As we can see, if we construct a line , the line of Canada can be steeper than the line for the US. This suggests that when there is a similar increasing number of EV Registrate every year, Canada may have more increases of EV Stations than the US."
   ]
  },
  {
   "cell_type": "markdown",
   "id": "259d46ae",
   "metadata": {},
   "source": [
    "### 3.4.2 PCA Approach"
   ]
  },
  {
   "cell_type": "markdown",
   "id": "0e7842c4",
   "metadata": {},
   "source": [
    "#### 3.4.2.1 Scale Data\n",
    "\n",
    "As we can see, our data is very heterogenous, so using PCA method can sort out the most important features that affect our target, which is our total stations"
   ]
  },
  {
   "cell_type": "code",
   "execution_count": 51,
   "id": "f53fa363",
   "metadata": {},
   "outputs": [
    {
     "data": {
      "text/html": [
       "<div>\n",
       "<style scoped>\n",
       "    .dataframe tbody tr th:only-of-type {\n",
       "        vertical-align: middle;\n",
       "    }\n",
       "\n",
       "    .dataframe tbody tr th {\n",
       "        vertical-align: top;\n",
       "    }\n",
       "\n",
       "    .dataframe thead th {\n",
       "        text-align: right;\n",
       "    }\n",
       "</style>\n",
       "<table border=\"1\" class=\"dataframe\">\n",
       "  <thead>\n",
       "    <tr style=\"text-align: right;\">\n",
       "      <th></th>\n",
       "      <th>State</th>\n",
       "      <th>Total Ports</th>\n",
       "      <th>TESLA</th>\n",
       "      <th>NEMA</th>\n",
       "      <th>CCS</th>\n",
       "      <th>CHADEMO</th>\n",
       "      <th>J1772</th>\n",
       "      <th>Total Stations</th>\n",
       "      <th>Code</th>\n",
       "      <th>Province</th>\n",
       "      <th>Pop2016</th>\n",
       "      <th>GDP (2020)</th>\n",
       "      <th>2020 EV Registration</th>\n",
       "      <th>2019 Total Registrated Cars</th>\n",
       "      <th>Country</th>\n",
       "      <th>Total Area km2</th>\n",
       "      <th>Land km2</th>\n",
       "      <th>Water km2</th>\n",
       "    </tr>\n",
       "  </thead>\n",
       "  <tbody>\n",
       "    <tr>\n",
       "      <th>0</th>\n",
       "      <td>AK</td>\n",
       "      <td>88.0</td>\n",
       "      <td>13</td>\n",
       "      <td>0</td>\n",
       "      <td>5</td>\n",
       "      <td>6</td>\n",
       "      <td>34</td>\n",
       "      <td>48</td>\n",
       "      <td>AK</td>\n",
       "      <td>Alaska</td>\n",
       "      <td>724357</td>\n",
       "      <td>50161000000</td>\n",
       "      <td>940</td>\n",
       "      <td>178516</td>\n",
       "      <td>US</td>\n",
       "      <td>1.723338e+06</td>\n",
       "      <td>1.477954e+06</td>\n",
       "      <td>245383.42257</td>\n",
       "    </tr>\n",
       "    <tr>\n",
       "      <th>1</th>\n",
       "      <td>AL</td>\n",
       "      <td>526.0</td>\n",
       "      <td>50</td>\n",
       "      <td>0</td>\n",
       "      <td>16</td>\n",
       "      <td>19</td>\n",
       "      <td>161</td>\n",
       "      <td>195</td>\n",
       "      <td>AL</td>\n",
       "      <td>Alabama</td>\n",
       "      <td>4934193</td>\n",
       "      <td>196906100000</td>\n",
       "      <td>2890</td>\n",
       "      <td>2109108</td>\n",
       "      <td>US</td>\n",
       "      <td>1.357673e+05</td>\n",
       "      <td>1.311700e+05</td>\n",
       "      <td>4597.23225</td>\n",
       "    </tr>\n",
       "    <tr>\n",
       "      <th>2</th>\n",
       "      <td>AR</td>\n",
       "      <td>457.0</td>\n",
       "      <td>39</td>\n",
       "      <td>0</td>\n",
       "      <td>8</td>\n",
       "      <td>7</td>\n",
       "      <td>136</td>\n",
       "      <td>160</td>\n",
       "      <td>AR</td>\n",
       "      <td>Arkansas</td>\n",
       "      <td>3033946</td>\n",
       "      <td>114943500000</td>\n",
       "      <td>1330</td>\n",
       "      <td>886647</td>\n",
       "      <td>US</td>\n",
       "      <td>1.377331e+05</td>\n",
       "      <td>1.347701e+05</td>\n",
       "      <td>2960.35857</td>\n",
       "    </tr>\n",
       "    <tr>\n",
       "      <th>3</th>\n",
       "      <td>AZ</td>\n",
       "      <td>2283.0</td>\n",
       "      <td>137</td>\n",
       "      <td>1</td>\n",
       "      <td>54</td>\n",
       "      <td>52</td>\n",
       "      <td>735</td>\n",
       "      <td>875</td>\n",
       "      <td>AZ</td>\n",
       "      <td>Arizona</td>\n",
       "      <td>7520103</td>\n",
       "      <td>320550600000</td>\n",
       "      <td>28770</td>\n",
       "      <td>2405959</td>\n",
       "      <td>US</td>\n",
       "      <td>2.952330e+05</td>\n",
       "      <td>2.942073e+05</td>\n",
       "      <td>1025.63604</td>\n",
       "    </tr>\n",
       "    <tr>\n",
       "      <th>4</th>\n",
       "      <td>BC</td>\n",
       "      <td>2953.0</td>\n",
       "      <td>183</td>\n",
       "      <td>8</td>\n",
       "      <td>196</td>\n",
       "      <td>183</td>\n",
       "      <td>904</td>\n",
       "      <td>1181</td>\n",
       "      <td>BC</td>\n",
       "      <td>British Columbia</td>\n",
       "      <td>4648055</td>\n",
       "      <td>246927400000</td>\n",
       "      <td>8133</td>\n",
       "      <td>3113125</td>\n",
       "      <td>CA</td>\n",
       "      <td>9.447350e+05</td>\n",
       "      <td>9.251860e+05</td>\n",
       "      <td>19549.00000</td>\n",
       "    </tr>\n",
       "  </tbody>\n",
       "</table>\n",
       "</div>"
      ],
      "text/plain": [
       "  State  Total Ports  TESLA  NEMA  CCS  CHADEMO  J1772  Total Stations Code  \\\n",
       "0    AK         88.0     13     0    5        6     34              48   AK   \n",
       "1    AL        526.0     50     0   16       19    161             195   AL   \n",
       "2    AR        457.0     39     0    8        7    136             160   AR   \n",
       "3    AZ       2283.0    137     1   54       52    735             875   AZ   \n",
       "4    BC       2953.0    183     8  196      183    904            1181   BC   \n",
       "\n",
       "           Province  Pop2016    GDP (2020)  2020 EV Registration  \\\n",
       "0            Alaska   724357   50161000000                   940   \n",
       "1           Alabama  4934193  196906100000                  2890   \n",
       "2          Arkansas  3033946  114943500000                  1330   \n",
       "3           Arizona  7520103  320550600000                 28770   \n",
       "4  British Columbia  4648055  246927400000                  8133   \n",
       "\n",
       "   2019 Total Registrated Cars Country  Total Area km2      Land km2  \\\n",
       "0                       178516      US    1.723338e+06  1.477954e+06   \n",
       "1                      2109108      US    1.357673e+05  1.311700e+05   \n",
       "2                       886647      US    1.377331e+05  1.347701e+05   \n",
       "3                      2405959      US    2.952330e+05  2.942073e+05   \n",
       "4                      3113125      CA    9.447350e+05  9.251860e+05   \n",
       "\n",
       "      Water km2  \n",
       "0  245383.42257  \n",
       "1    4597.23225  \n",
       "2    2960.35857  \n",
       "3    1025.63604  \n",
       "4   19549.00000  "
      ]
     },
     "execution_count": 51,
     "metadata": {},
     "output_type": "execute_result"
    }
   ],
   "source": [
    "df.head()"
   ]
  },
  {
   "cell_type": "code",
   "execution_count": 52,
   "id": "f6560469",
   "metadata": {},
   "outputs": [
    {
     "name": "stderr",
     "output_type": "stream",
     "text": [
      "/Users/andygong/opt/anaconda3/lib/python3.9/site-packages/sklearn/preprocessing/_data.py:194: UserWarning: Numerical issues were encountered when centering the data and might not be solved. Dataset may contain too large values. You may need to prescale your features.\n",
      "  warnings.warn(\"Numerical issues were encountered \"\n"
     ]
    },
    {
     "data": {
      "text/html": [
       "<div>\n",
       "<style scoped>\n",
       "    .dataframe tbody tr th:only-of-type {\n",
       "        vertical-align: middle;\n",
       "    }\n",
       "\n",
       "    .dataframe tbody tr th {\n",
       "        vertical-align: top;\n",
       "    }\n",
       "\n",
       "    .dataframe thead th {\n",
       "        text-align: right;\n",
       "    }\n",
       "</style>\n",
       "<table border=\"1\" class=\"dataframe\">\n",
       "  <thead>\n",
       "    <tr style=\"text-align: right;\">\n",
       "      <th></th>\n",
       "      <th>Total Stations</th>\n",
       "      <th>Pop2016</th>\n",
       "      <th>GDP (2020)</th>\n",
       "      <th>2020 EV Registration</th>\n",
       "      <th>2019 Total Registrated Cars</th>\n",
       "      <th>Total Area km2</th>\n",
       "      <th>Land km2</th>\n",
       "      <th>Water km2</th>\n",
       "    </tr>\n",
       "  </thead>\n",
       "  <tbody>\n",
       "    <tr>\n",
       "      <th>0</th>\n",
       "      <td>-0.474932</td>\n",
       "      <td>-0.772254</td>\n",
       "      <td>-0.637287</td>\n",
       "      <td>-0.307045</td>\n",
       "      <td>-0.789599</td>\n",
       "      <td>4.366171</td>\n",
       "      <td>4.178758</td>\n",
       "      <td>4.924755</td>\n",
       "    </tr>\n",
       "    <tr>\n",
       "      <th>1</th>\n",
       "      <td>-0.394052</td>\n",
       "      <td>-0.180889</td>\n",
       "      <td>-0.353851</td>\n",
       "      <td>-0.271951</td>\n",
       "      <td>-0.037124</td>\n",
       "      <td>-0.353664</td>\n",
       "      <td>-0.345808</td>\n",
       "      <td>-0.351142</td>\n",
       "    </tr>\n",
       "    <tr>\n",
       "      <th>2</th>\n",
       "      <td>-0.413309</td>\n",
       "      <td>-0.447821</td>\n",
       "      <td>-0.512160</td>\n",
       "      <td>-0.300026</td>\n",
       "      <td>-0.513595</td>\n",
       "      <td>-0.347820</td>\n",
       "      <td>-0.333713</td>\n",
       "      <td>-0.387008</td>\n",
       "    </tr>\n",
       "    <tr>\n",
       "      <th>3</th>\n",
       "      <td>-0.019912</td>\n",
       "      <td>0.182359</td>\n",
       "      <td>-0.115034</td>\n",
       "      <td>0.193797</td>\n",
       "      <td>0.078578</td>\n",
       "      <td>0.120426</td>\n",
       "      <td>0.201921</td>\n",
       "      <td>-0.429400</td>\n",
       "    </tr>\n",
       "    <tr>\n",
       "      <th>4</th>\n",
       "      <td>0.148451</td>\n",
       "      <td>-0.221084</td>\n",
       "      <td>-0.257236</td>\n",
       "      <td>-0.177596</td>\n",
       "      <td>0.354205</td>\n",
       "      <td>2.051391</td>\n",
       "      <td>2.321714</td>\n",
       "      <td>-0.023532</td>\n",
       "    </tr>\n",
       "  </tbody>\n",
       "</table>\n",
       "</div>"
      ],
      "text/plain": [
       "   Total Stations   Pop2016  GDP (2020)  2020 EV Registration  \\\n",
       "0       -0.474932 -0.772254   -0.637287             -0.307045   \n",
       "1       -0.394052 -0.180889   -0.353851             -0.271951   \n",
       "2       -0.413309 -0.447821   -0.512160             -0.300026   \n",
       "3       -0.019912  0.182359   -0.115034              0.193797   \n",
       "4        0.148451 -0.221084   -0.257236             -0.177596   \n",
       "\n",
       "   2019 Total Registrated Cars  Total Area km2  Land km2  Water km2  \n",
       "0                    -0.789599        4.366171  4.178758   4.924755  \n",
       "1                    -0.037124       -0.353664 -0.345808  -0.351142  \n",
       "2                    -0.513595       -0.347820 -0.333713  -0.387008  \n",
       "3                     0.078578        0.120426  0.201921  -0.429400  \n",
       "4                     0.354205        2.051391  2.321714  -0.023532  "
      ]
     },
     "execution_count": 52,
     "metadata": {},
     "output_type": "execute_result"
    }
   ],
   "source": [
    "df_summary_scale = df.set_index('State')\n",
    "#Save the state labels\n",
    "df_summary_scale=df_summary_scale.drop(columns=['TESLA','NEMA','CCS','CHADEMO','J1772','Total Ports','Code', 'Province','Country'])\n",
    "df_summary_index = df_summary_scale.index\n",
    "#Save the column names \n",
    "df_summary_columns = df_summary_scale.columns\n",
    "df_summary_scale = scale(df_summary_scale)\n",
    "df_summary_scaled_df = pd.DataFrame(df_summary_scale, columns=df_summary_columns)\n",
    "df_summary_scaled_df.head()"
   ]
  },
  {
   "cell_type": "markdown",
   "id": "bdcd6add",
   "metadata": {},
   "source": [
    "#### 3.4.2.2 PCA Transformation"
   ]
  },
  {
   "cell_type": "code",
   "execution_count": 53,
   "id": "b07df5b4",
   "metadata": {},
   "outputs": [],
   "source": [
    "df_pca = PCA().fit(df_summary_scale)"
   ]
  },
  {
   "cell_type": "code",
   "execution_count": 54,
   "id": "846651a2",
   "metadata": {},
   "outputs": [
    {
     "data": {
      "image/png": "[encoded data removed]",
      "text/plain": [
       "<Figure size 720x432 with 1 Axes>"
      ]
     },
     "metadata": {
      "needs_background": "light"
     },
     "output_type": "display_data"
    }
   ],
   "source": [
    "plt.subplots(figsize=(10, 6))\n",
    "plt.plot(df_pca.explained_variance_ratio_.cumsum())\n",
    "plt.xlabel('Component #')\n",
    "plt.ylabel('Cumulative ratio Variance')\n",
    "plt.title('Cumulative variance ratio explained by PCA components for total stations statistics');"
   ]
  },
  {
   "cell_type": "markdown",
   "id": "d85e8983",
   "metadata": {},
   "source": [
    "As we can see, two components can explain 90% of the variances!"
   ]
  },
  {
   "cell_type": "code",
   "execution_count": 55,
   "id": "75d0f0f4",
   "metadata": {},
   "outputs": [
    {
     "data": {
      "image/png": "[encoded data removed]",
      "text/plain": [
       "<Figure size 1440x360 with 1 Axes>"
      ]
     },
     "metadata": {
      "needs_background": "light"
     },
     "output_type": "display_data"
    }
   ],
   "source": [
    "#Revisit the distribution of the total stations:\n",
    "plt.figure(figsize=(20,5))\n",
    "plt.xticks(np.arange(0, 3200, 100))\n",
    "_ = plt.hist(df_clean['Total Stations'],bins=50)"
   ]
  },
  {
   "cell_type": "code",
   "execution_count": 56,
   "id": "870c7896",
   "metadata": {},
   "outputs": [],
   "source": [
    "df_pca_x = df_pca.transform(df_summary_scale)"
   ]
  },
  {
   "cell_type": "code",
   "execution_count": 57,
   "id": "1ae89ec0",
   "metadata": {},
   "outputs": [
    {
     "data": {
      "text/html": [
       "<div>\n",
       "<style scoped>\n",
       "    .dataframe tbody tr th:only-of-type {\n",
       "        vertical-align: middle;\n",
       "    }\n",
       "\n",
       "    .dataframe tbody tr th {\n",
       "        vertical-align: top;\n",
       "    }\n",
       "\n",
       "    .dataframe thead th {\n",
       "        text-align: right;\n",
       "    }\n",
       "</style>\n",
       "<table border=\"1\" class=\"dataframe\">\n",
       "  <thead>\n",
       "    <tr style=\"text-align: right;\">\n",
       "      <th></th>\n",
       "      <th>PC1</th>\n",
       "      <th>PC2</th>\n",
       "    </tr>\n",
       "    <tr>\n",
       "      <th>State</th>\n",
       "      <th></th>\n",
       "      <th></th>\n",
       "    </tr>\n",
       "  </thead>\n",
       "  <tbody>\n",
       "    <tr>\n",
       "      <th>AK</th>\n",
       "      <td>1.022986</td>\n",
       "      <td>7.733323</td>\n",
       "    </tr>\n",
       "    <tr>\n",
       "      <th>AL</th>\n",
       "      <td>-0.699680</td>\n",
       "      <td>-0.386187</td>\n",
       "    </tr>\n",
       "    <tr>\n",
       "      <th>AR</th>\n",
       "      <td>-1.115022</td>\n",
       "      <td>-0.299391</td>\n",
       "    </tr>\n",
       "    <tr>\n",
       "      <th>AZ</th>\n",
       "      <td>0.138240</td>\n",
       "      <td>-0.095540</td>\n",
       "    </tr>\n",
       "    <tr>\n",
       "      <th>BC</th>\n",
       "      <td>0.761458</td>\n",
       "      <td>2.475008</td>\n",
       "    </tr>\n",
       "  </tbody>\n",
       "</table>\n",
       "</div>"
      ],
      "text/plain": [
       "            PC1       PC2\n",
       "State                    \n",
       "AK     1.022986  7.733323\n",
       "AL    -0.699680 -0.386187\n",
       "AR    -1.115022 -0.299391\n",
       "AZ     0.138240 -0.095540\n",
       "BC     0.761458  2.475008"
      ]
     },
     "execution_count": 57,
     "metadata": {},
     "output_type": "execute_result"
    }
   ],
   "source": [
    "pca_df = pd.DataFrame({'PC1': df_pca_x[:, 0], 'PC2': df_pca_x[:, 1]}, index=df_summary_index)\n",
    "pca_df.head()"
   ]
  },
  {
   "cell_type": "code",
   "execution_count": 58,
   "id": "62c79a20",
   "metadata": {},
   "outputs": [
    {
     "data": {
      "text/html": [
       "<div>\n",
       "<style scoped>\n",
       "    .dataframe tbody tr th:only-of-type {\n",
       "        vertical-align: middle;\n",
       "    }\n",
       "\n",
       "    .dataframe tbody tr th {\n",
       "        vertical-align: top;\n",
       "    }\n",
       "\n",
       "    .dataframe thead th {\n",
       "        text-align: right;\n",
       "    }\n",
       "</style>\n",
       "<table border=\"1\" class=\"dataframe\">\n",
       "  <thead>\n",
       "    <tr style=\"text-align: right;\">\n",
       "      <th></th>\n",
       "      <th>Total Stations</th>\n",
       "    </tr>\n",
       "    <tr>\n",
       "      <th>State</th>\n",
       "      <th></th>\n",
       "    </tr>\n",
       "  </thead>\n",
       "  <tbody>\n",
       "    <tr>\n",
       "      <th>AK</th>\n",
       "      <td>48</td>\n",
       "    </tr>\n",
       "    <tr>\n",
       "      <th>AL</th>\n",
       "      <td>195</td>\n",
       "    </tr>\n",
       "    <tr>\n",
       "      <th>AR</th>\n",
       "      <td>160</td>\n",
       "    </tr>\n",
       "    <tr>\n",
       "      <th>AZ</th>\n",
       "      <td>875</td>\n",
       "    </tr>\n",
       "    <tr>\n",
       "      <th>BC</th>\n",
       "      <td>1181</td>\n",
       "    </tr>\n",
       "  </tbody>\n",
       "</table>\n",
       "</div>"
      ],
      "text/plain": [
       "       Total Stations\n",
       "State                \n",
       "AK                 48\n",
       "AL                195\n",
       "AR                160\n",
       "AZ                875\n",
       "BC               1181"
      ]
     },
     "execution_count": 58,
     "metadata": {},
     "output_type": "execute_result"
    }
   ],
   "source": [
    "Total = df[['State','Total Stations']].set_index('State')\n",
    "Total.head()"
   ]
  },
  {
   "cell_type": "code",
   "execution_count": 59,
   "id": "de53ec1d",
   "metadata": {},
   "outputs": [
    {
     "data": {
      "text/html": [
       "<div>\n",
       "<style scoped>\n",
       "    .dataframe tbody tr th:only-of-type {\n",
       "        vertical-align: middle;\n",
       "    }\n",
       "\n",
       "    .dataframe tbody tr th {\n",
       "        vertical-align: top;\n",
       "    }\n",
       "\n",
       "    .dataframe thead th {\n",
       "        text-align: right;\n",
       "    }\n",
       "</style>\n",
       "<table border=\"1\" class=\"dataframe\">\n",
       "  <thead>\n",
       "    <tr style=\"text-align: right;\">\n",
       "      <th></th>\n",
       "      <th>PC1</th>\n",
       "      <th>PC2</th>\n",
       "      <th>Total Stations</th>\n",
       "    </tr>\n",
       "    <tr>\n",
       "      <th>State</th>\n",
       "      <th></th>\n",
       "      <th></th>\n",
       "      <th></th>\n",
       "    </tr>\n",
       "  </thead>\n",
       "  <tbody>\n",
       "    <tr>\n",
       "      <th>AK</th>\n",
       "      <td>1.022986</td>\n",
       "      <td>7.733323</td>\n",
       "      <td>48</td>\n",
       "    </tr>\n",
       "    <tr>\n",
       "      <th>AL</th>\n",
       "      <td>-0.699680</td>\n",
       "      <td>-0.386187</td>\n",
       "      <td>195</td>\n",
       "    </tr>\n",
       "    <tr>\n",
       "      <th>AR</th>\n",
       "      <td>-1.115022</td>\n",
       "      <td>-0.299391</td>\n",
       "      <td>160</td>\n",
       "    </tr>\n",
       "    <tr>\n",
       "      <th>AZ</th>\n",
       "      <td>0.138240</td>\n",
       "      <td>-0.095540</td>\n",
       "      <td>875</td>\n",
       "    </tr>\n",
       "    <tr>\n",
       "      <th>BC</th>\n",
       "      <td>0.761458</td>\n",
       "      <td>2.475008</td>\n",
       "      <td>1181</td>\n",
       "    </tr>\n",
       "  </tbody>\n",
       "</table>\n",
       "</div>"
      ],
      "text/plain": [
       "            PC1       PC2  Total Stations\n",
       "State                                    \n",
       "AK     1.022986  7.733323              48\n",
       "AL    -0.699680 -0.386187             195\n",
       "AR    -1.115022 -0.299391             160\n",
       "AZ     0.138240 -0.095540             875\n",
       "BC     0.761458  2.475008            1181"
      ]
     },
     "execution_count": 59,
     "metadata": {},
     "output_type": "execute_result"
    }
   ],
   "source": [
    "pca_df = pd.concat([pca_df, Total], axis=1)\n",
    "pca_df.head()"
   ]
  },
  {
   "cell_type": "code",
   "execution_count": 60,
   "id": "6a1b6a4b",
   "metadata": {},
   "outputs": [
    {
     "data": {
      "text/html": [
       "<div>\n",
       "<style scoped>\n",
       "    .dataframe tbody tr th:only-of-type {\n",
       "        vertical-align: middle;\n",
       "    }\n",
       "\n",
       "    .dataframe tbody tr th {\n",
       "        vertical-align: top;\n",
       "    }\n",
       "\n",
       "    .dataframe thead th {\n",
       "        text-align: right;\n",
       "    }\n",
       "</style>\n",
       "<table border=\"1\" class=\"dataframe\">\n",
       "  <thead>\n",
       "    <tr style=\"text-align: right;\">\n",
       "      <th></th>\n",
       "      <th>PC1</th>\n",
       "      <th>PC2</th>\n",
       "      <th>Total Stations</th>\n",
       "      <th>Quartile</th>\n",
       "    </tr>\n",
       "    <tr>\n",
       "      <th>State</th>\n",
       "      <th></th>\n",
       "      <th></th>\n",
       "      <th></th>\n",
       "      <th></th>\n",
       "    </tr>\n",
       "  </thead>\n",
       "  <tbody>\n",
       "    <tr>\n",
       "      <th>AK</th>\n",
       "      <td>1.022986</td>\n",
       "      <td>7.733323</td>\n",
       "      <td>48</td>\n",
       "      <td>(47.0, 155.0]</td>\n",
       "    </tr>\n",
       "    <tr>\n",
       "      <th>AL</th>\n",
       "      <td>-0.699680</td>\n",
       "      <td>-0.386187</td>\n",
       "      <td>195</td>\n",
       "      <td>(155.0, 402.0]</td>\n",
       "    </tr>\n",
       "    <tr>\n",
       "      <th>AR</th>\n",
       "      <td>-1.115022</td>\n",
       "      <td>-0.299391</td>\n",
       "      <td>160</td>\n",
       "      <td>(155.0, 402.0]</td>\n",
       "    </tr>\n",
       "    <tr>\n",
       "      <th>AZ</th>\n",
       "      <td>0.138240</td>\n",
       "      <td>-0.095540</td>\n",
       "      <td>875</td>\n",
       "      <td>(402.0, 994.0]</td>\n",
       "    </tr>\n",
       "    <tr>\n",
       "      <th>BC</th>\n",
       "      <td>0.761458</td>\n",
       "      <td>2.475008</td>\n",
       "      <td>1181</td>\n",
       "      <td>(994.0, 13512.0]</td>\n",
       "    </tr>\n",
       "  </tbody>\n",
       "</table>\n",
       "</div>"
      ],
      "text/plain": [
       "            PC1       PC2  Total Stations          Quartile\n",
       "State                                                      \n",
       "AK     1.022986  7.733323              48     (47.0, 155.0]\n",
       "AL    -0.699680 -0.386187             195    (155.0, 402.0]\n",
       "AR    -1.115022 -0.299391             160    (155.0, 402.0]\n",
       "AZ     0.138240 -0.095540             875    (402.0, 994.0]\n",
       "BC     0.761458  2.475008            1181  (994.0, 13512.0]"
      ]
     },
     "execution_count": 60,
     "metadata": {},
     "output_type": "execute_result"
    }
   ],
   "source": [
    "pca_df['Quartile'] = pd.qcut(pca_df['Total Stations'], q=4, precision=0)\n",
    "pca_df.head()"
   ]
  },
  {
   "cell_type": "code",
   "execution_count": 61,
   "id": "b3c6b8cd",
   "metadata": {},
   "outputs": [
    {
     "data": {
      "image/png": "[encoded data removed]",
      "text/plain": [
       "<Figure size 1440x1440 with 1 Axes>"
      ]
     },
     "metadata": {
      "needs_background": "light"
     },
     "output_type": "display_data"
    }
   ],
   "source": [
    "x = pca_df.PC1\n",
    "y = pca_df.PC2\n",
    "stations = pca_df['Total Stations']\n",
    "quartiles = pca_df.Quartile\n",
    "state = pca_df.index\n",
    "pc_var = 100 * df_pca.explained_variance_ratio_.cumsum()[1]\n",
    "plt.subplots(figsize=(20, 20))\n",
    "# Note the argument below to make sure we get the colours in the ascending\n",
    "# order we intuitively expect!\n",
    "sns.scatterplot(x=x, y=y, hue='Quartile', size=stations,\n",
    "                hue_order=pca_df.Quartile.cat.categories, data=pca_df)\n",
    "#and we can still annotate with the state labels\n",
    "for s, x, y in zip(state, x, y):\n",
    "    plt.annotate(s, (x, y))   \n",
    "plt.title(f'Number of Stations summary PCA, {pc_var:.1f}% variance explained');"
   ]
  },
  {
   "cell_type": "markdown",
   "id": "e9d0a0d6",
   "metadata": {},
   "source": [
    "After the dimension is reduced, we did not see an obvious pattern. However, it seems that the blue dots are distributed at the left sections while red dots are distributed widely on the right sections. Yellow and green dots are in the middle and narrowly."
   ]
  },
  {
   "cell_type": "markdown",
   "id": "e09f1b85",
   "metadata": {},
   "source": [
    "# 4.0 Pre-processing and Training Data Development <a id=\"4.0_Pre-processing_and_Training_Data_Development\"></a>"
   ]
  },
  {
   "cell_type": "markdown",
   "id": "31a16b7b",
   "metadata": {},
   "source": [
    "## 4.1 Pre-processing Data"
   ]
  },
  {
   "cell_type": "markdown",
   "id": "48637128",
   "metadata": {},
   "source": [
    "The preprocessing data will complete the following things: \n",
    "\n",
    "1) Process the data with large scales\n",
    "2) Remove the unnecessary columns\n",
    "3) Split the training data with the target State: Ontario\n",
    "4) Hot code the categorical data\n",
    "5) Split the training data and target data\n",
    "5) Split the training set and test set"
   ]
  },
  {
   "cell_type": "markdown",
   "id": "5ef0b44f",
   "metadata": {},
   "source": [
    "### 4.1.1 Process large-scale data"
   ]
  },
  {
   "cell_type": "code",
   "execution_count": 62,
   "id": "b4b243a5",
   "metadata": {},
   "outputs": [
    {
     "data": {
      "text/html": [
       "<div>\n",
       "<style scoped>\n",
       "    .dataframe tbody tr th:only-of-type {\n",
       "        vertical-align: middle;\n",
       "    }\n",
       "\n",
       "    .dataframe tbody tr th {\n",
       "        vertical-align: top;\n",
       "    }\n",
       "\n",
       "    .dataframe thead th {\n",
       "        text-align: right;\n",
       "    }\n",
       "</style>\n",
       "<table border=\"1\" class=\"dataframe\">\n",
       "  <thead>\n",
       "    <tr style=\"text-align: right;\">\n",
       "      <th></th>\n",
       "      <th>State</th>\n",
       "      <th>Total Ports</th>\n",
       "      <th>TESLA</th>\n",
       "      <th>NEMA</th>\n",
       "      <th>CCS</th>\n",
       "      <th>CHADEMO</th>\n",
       "      <th>J1772</th>\n",
       "      <th>Total Stations</th>\n",
       "      <th>Code</th>\n",
       "      <th>Province</th>\n",
       "      <th>Pop2016</th>\n",
       "      <th>GDP (2020)</th>\n",
       "      <th>2020 EV Registration</th>\n",
       "      <th>2019 Total Registrated Cars</th>\n",
       "      <th>Country</th>\n",
       "      <th>Total Area km2</th>\n",
       "      <th>Land km2</th>\n",
       "      <th>Water km2</th>\n",
       "    </tr>\n",
       "  </thead>\n",
       "  <tbody>\n",
       "    <tr>\n",
       "      <th>0</th>\n",
       "      <td>AK</td>\n",
       "      <td>88.0</td>\n",
       "      <td>13</td>\n",
       "      <td>0</td>\n",
       "      <td>5</td>\n",
       "      <td>6</td>\n",
       "      <td>34</td>\n",
       "      <td>48</td>\n",
       "      <td>AK</td>\n",
       "      <td>Alaska</td>\n",
       "      <td>724357</td>\n",
       "      <td>50161000000</td>\n",
       "      <td>940</td>\n",
       "      <td>178516</td>\n",
       "      <td>US</td>\n",
       "      <td>1.723338e+06</td>\n",
       "      <td>1.477954e+06</td>\n",
       "      <td>245383.42257</td>\n",
       "    </tr>\n",
       "    <tr>\n",
       "      <th>1</th>\n",
       "      <td>AL</td>\n",
       "      <td>526.0</td>\n",
       "      <td>50</td>\n",
       "      <td>0</td>\n",
       "      <td>16</td>\n",
       "      <td>19</td>\n",
       "      <td>161</td>\n",
       "      <td>195</td>\n",
       "      <td>AL</td>\n",
       "      <td>Alabama</td>\n",
       "      <td>4934193</td>\n",
       "      <td>196906100000</td>\n",
       "      <td>2890</td>\n",
       "      <td>2109108</td>\n",
       "      <td>US</td>\n",
       "      <td>1.357673e+05</td>\n",
       "      <td>1.311700e+05</td>\n",
       "      <td>4597.23225</td>\n",
       "    </tr>\n",
       "    <tr>\n",
       "      <th>2</th>\n",
       "      <td>AR</td>\n",
       "      <td>457.0</td>\n",
       "      <td>39</td>\n",
       "      <td>0</td>\n",
       "      <td>8</td>\n",
       "      <td>7</td>\n",
       "      <td>136</td>\n",
       "      <td>160</td>\n",
       "      <td>AR</td>\n",
       "      <td>Arkansas</td>\n",
       "      <td>3033946</td>\n",
       "      <td>114943500000</td>\n",
       "      <td>1330</td>\n",
       "      <td>886647</td>\n",
       "      <td>US</td>\n",
       "      <td>1.377331e+05</td>\n",
       "      <td>1.347701e+05</td>\n",
       "      <td>2960.35857</td>\n",
       "    </tr>\n",
       "    <tr>\n",
       "      <th>3</th>\n",
       "      <td>AZ</td>\n",
       "      <td>2283.0</td>\n",
       "      <td>137</td>\n",
       "      <td>1</td>\n",
       "      <td>54</td>\n",
       "      <td>52</td>\n",
       "      <td>735</td>\n",
       "      <td>875</td>\n",
       "      <td>AZ</td>\n",
       "      <td>Arizona</td>\n",
       "      <td>7520103</td>\n",
       "      <td>320550600000</td>\n",
       "      <td>28770</td>\n",
       "      <td>2405959</td>\n",
       "      <td>US</td>\n",
       "      <td>2.952330e+05</td>\n",
       "      <td>2.942073e+05</td>\n",
       "      <td>1025.63604</td>\n",
       "    </tr>\n",
       "    <tr>\n",
       "      <th>4</th>\n",
       "      <td>BC</td>\n",
       "      <td>2953.0</td>\n",
       "      <td>183</td>\n",
       "      <td>8</td>\n",
       "      <td>196</td>\n",
       "      <td>183</td>\n",
       "      <td>904</td>\n",
       "      <td>1181</td>\n",
       "      <td>BC</td>\n",
       "      <td>British Columbia</td>\n",
       "      <td>4648055</td>\n",
       "      <td>246927400000</td>\n",
       "      <td>8133</td>\n",
       "      <td>3113125</td>\n",
       "      <td>CA</td>\n",
       "      <td>9.447350e+05</td>\n",
       "      <td>9.251860e+05</td>\n",
       "      <td>19549.00000</td>\n",
       "    </tr>\n",
       "  </tbody>\n",
       "</table>\n",
       "</div>"
      ],
      "text/plain": [
       "  State  Total Ports  TESLA  NEMA  CCS  CHADEMO  J1772  Total Stations Code  \\\n",
       "0    AK         88.0     13     0    5        6     34              48   AK   \n",
       "1    AL        526.0     50     0   16       19    161             195   AL   \n",
       "2    AR        457.0     39     0    8        7    136             160   AR   \n",
       "3    AZ       2283.0    137     1   54       52    735             875   AZ   \n",
       "4    BC       2953.0    183     8  196      183    904            1181   BC   \n",
       "\n",
       "           Province  Pop2016    GDP (2020)  2020 EV Registration  \\\n",
       "0            Alaska   724357   50161000000                   940   \n",
       "1           Alabama  4934193  196906100000                  2890   \n",
       "2          Arkansas  3033946  114943500000                  1330   \n",
       "3           Arizona  7520103  320550600000                 28770   \n",
       "4  British Columbia  4648055  246927400000                  8133   \n",
       "\n",
       "   2019 Total Registrated Cars Country  Total Area km2      Land km2  \\\n",
       "0                       178516      US    1.723338e+06  1.477954e+06   \n",
       "1                      2109108      US    1.357673e+05  1.311700e+05   \n",
       "2                       886647      US    1.377331e+05  1.347701e+05   \n",
       "3                      2405959      US    2.952330e+05  2.942073e+05   \n",
       "4                      3113125      CA    9.447350e+05  9.251860e+05   \n",
       "\n",
       "      Water km2  \n",
       "0  245383.42257  \n",
       "1    4597.23225  \n",
       "2    2960.35857  \n",
       "3    1025.63604  \n",
       "4   19549.00000  "
      ]
     },
     "execution_count": 62,
     "metadata": {},
     "output_type": "execute_result"
    }
   ],
   "source": [
    "#Load the dataset\n",
    "df.head()"
   ]
  },
  {
   "cell_type": "code",
   "execution_count": 63,
   "id": "14b9989a",
   "metadata": {},
   "outputs": [
    {
     "data": {
      "text/html": [
       "<div>\n",
       "<style scoped>\n",
       "    .dataframe tbody tr th:only-of-type {\n",
       "        vertical-align: middle;\n",
       "    }\n",
       "\n",
       "    .dataframe tbody tr th {\n",
       "        vertical-align: top;\n",
       "    }\n",
       "\n",
       "    .dataframe thead th {\n",
       "        text-align: right;\n",
       "    }\n",
       "</style>\n",
       "<table border=\"1\" class=\"dataframe\">\n",
       "  <thead>\n",
       "    <tr style=\"text-align: right;\">\n",
       "      <th></th>\n",
       "      <th>State</th>\n",
       "      <th>Total Ports</th>\n",
       "      <th>TESLA</th>\n",
       "      <th>NEMA</th>\n",
       "      <th>CCS</th>\n",
       "      <th>CHADEMO</th>\n",
       "      <th>J1772</th>\n",
       "      <th>Total Stations</th>\n",
       "      <th>Code</th>\n",
       "      <th>Province</th>\n",
       "      <th>2020 EV Registration</th>\n",
       "      <th>Country</th>\n",
       "      <th>M_Pop</th>\n",
       "      <th>B_GDP</th>\n",
       "      <th>M_Reg_Cars</th>\n",
       "      <th>M_Area</th>\n",
       "      <th>M_Land</th>\n",
       "      <th>M_Water</th>\n",
       "    </tr>\n",
       "  </thead>\n",
       "  <tbody>\n",
       "    <tr>\n",
       "      <th>0</th>\n",
       "      <td>AK</td>\n",
       "      <td>88.0</td>\n",
       "      <td>13</td>\n",
       "      <td>0</td>\n",
       "      <td>5</td>\n",
       "      <td>6</td>\n",
       "      <td>34</td>\n",
       "      <td>48</td>\n",
       "      <td>AK</td>\n",
       "      <td>Alaska</td>\n",
       "      <td>940</td>\n",
       "      <td>US</td>\n",
       "      <td>0.724357</td>\n",
       "      <td>50.1610</td>\n",
       "      <td>0.178516</td>\n",
       "      <td>1.723338</td>\n",
       "      <td>1.477954</td>\n",
       "      <td>0.245383</td>\n",
       "    </tr>\n",
       "    <tr>\n",
       "      <th>1</th>\n",
       "      <td>AL</td>\n",
       "      <td>526.0</td>\n",
       "      <td>50</td>\n",
       "      <td>0</td>\n",
       "      <td>16</td>\n",
       "      <td>19</td>\n",
       "      <td>161</td>\n",
       "      <td>195</td>\n",
       "      <td>AL</td>\n",
       "      <td>Alabama</td>\n",
       "      <td>2890</td>\n",
       "      <td>US</td>\n",
       "      <td>4.934193</td>\n",
       "      <td>196.9061</td>\n",
       "      <td>2.109108</td>\n",
       "      <td>0.135767</td>\n",
       "      <td>0.131170</td>\n",
       "      <td>0.004597</td>\n",
       "    </tr>\n",
       "    <tr>\n",
       "      <th>2</th>\n",
       "      <td>AR</td>\n",
       "      <td>457.0</td>\n",
       "      <td>39</td>\n",
       "      <td>0</td>\n",
       "      <td>8</td>\n",
       "      <td>7</td>\n",
       "      <td>136</td>\n",
       "      <td>160</td>\n",
       "      <td>AR</td>\n",
       "      <td>Arkansas</td>\n",
       "      <td>1330</td>\n",
       "      <td>US</td>\n",
       "      <td>3.033946</td>\n",
       "      <td>114.9435</td>\n",
       "      <td>0.886647</td>\n",
       "      <td>0.137733</td>\n",
       "      <td>0.134770</td>\n",
       "      <td>0.002960</td>\n",
       "    </tr>\n",
       "    <tr>\n",
       "      <th>3</th>\n",
       "      <td>AZ</td>\n",
       "      <td>2283.0</td>\n",
       "      <td>137</td>\n",
       "      <td>1</td>\n",
       "      <td>54</td>\n",
       "      <td>52</td>\n",
       "      <td>735</td>\n",
       "      <td>875</td>\n",
       "      <td>AZ</td>\n",
       "      <td>Arizona</td>\n",
       "      <td>28770</td>\n",
       "      <td>US</td>\n",
       "      <td>7.520103</td>\n",
       "      <td>320.5506</td>\n",
       "      <td>2.405959</td>\n",
       "      <td>0.295233</td>\n",
       "      <td>0.294207</td>\n",
       "      <td>0.001026</td>\n",
       "    </tr>\n",
       "    <tr>\n",
       "      <th>4</th>\n",
       "      <td>BC</td>\n",
       "      <td>2953.0</td>\n",
       "      <td>183</td>\n",
       "      <td>8</td>\n",
       "      <td>196</td>\n",
       "      <td>183</td>\n",
       "      <td>904</td>\n",
       "      <td>1181</td>\n",
       "      <td>BC</td>\n",
       "      <td>British Columbia</td>\n",
       "      <td>8133</td>\n",
       "      <td>CA</td>\n",
       "      <td>4.648055</td>\n",
       "      <td>246.9274</td>\n",
       "      <td>3.113125</td>\n",
       "      <td>0.944735</td>\n",
       "      <td>0.925186</td>\n",
       "      <td>0.019549</td>\n",
       "    </tr>\n",
       "  </tbody>\n",
       "</table>\n",
       "</div>"
      ],
      "text/plain": [
       "  State  Total Ports  TESLA  NEMA  CCS  CHADEMO  J1772  Total Stations Code  \\\n",
       "0    AK         88.0     13     0    5        6     34              48   AK   \n",
       "1    AL        526.0     50     0   16       19    161             195   AL   \n",
       "2    AR        457.0     39     0    8        7    136             160   AR   \n",
       "3    AZ       2283.0    137     1   54       52    735             875   AZ   \n",
       "4    BC       2953.0    183     8  196      183    904            1181   BC   \n",
       "\n",
       "           Province  2020 EV Registration Country     M_Pop     B_GDP  \\\n",
       "0            Alaska                   940      US  0.724357   50.1610   \n",
       "1           Alabama                  2890      US  4.934193  196.9061   \n",
       "2          Arkansas                  1330      US  3.033946  114.9435   \n",
       "3           Arizona                 28770      US  7.520103  320.5506   \n",
       "4  British Columbia                  8133      CA  4.648055  246.9274   \n",
       "\n",
       "   M_Reg_Cars    M_Area    M_Land   M_Water  \n",
       "0    0.178516  1.723338  1.477954  0.245383  \n",
       "1    2.109108  0.135767  0.131170  0.004597  \n",
       "2    0.886647  0.137733  0.134770  0.002960  \n",
       "3    2.405959  0.295233  0.294207  0.001026  \n",
       "4    3.113125  0.944735  0.925186  0.019549  "
      ]
     },
     "execution_count": 63,
     "metadata": {},
     "output_type": "execute_result"
    }
   ],
   "source": [
    "#As we can see, there are some columns that have very high scale, i.e. Pop2016, GDP(2020),Total Registrated Cars, etc.\n",
    "# So we can scale them to a more reasonable scale\n",
    "df_processing=df\n",
    "df_processing['M_Pop']=df_processing['Pop2016']/1000000\n",
    "df_processing['B_GDP']=df_processing['GDP (2020)']/1000000000\n",
    "df_processing['M_Reg_Cars']=df_processing['2019 Total Registrated Cars']/1000000\n",
    "df_processing['M_Area']=df_processing['Total Area km2']/1000000\n",
    "df_processing['M_Land']=df_processing['Land km2']/1000000\n",
    "df_processing['M_Water']=df_processing['Water km2']/1000000\n",
    "df_processing=df_processing.drop(columns=['Pop2016', 'GDP (2020)', '2019 Total Registrated Cars','Total Area km2','Land km2','Water km2'])\n",
    "df_processing.head()"
   ]
  },
  {
   "cell_type": "markdown",
   "id": "730a4cd8",
   "metadata": {},
   "source": [
    "### 4.1.2 Remove unnecessary columns and split trianing and target data"
   ]
  },
  {
   "cell_type": "code",
   "execution_count": 64,
   "id": "36009148",
   "metadata": {},
   "outputs": [
    {
     "data": {
      "text/html": [
       "<div>\n",
       "<style scoped>\n",
       "    .dataframe tbody tr th:only-of-type {\n",
       "        vertical-align: middle;\n",
       "    }\n",
       "\n",
       "    .dataframe tbody tr th {\n",
       "        vertical-align: top;\n",
       "    }\n",
       "\n",
       "    .dataframe thead th {\n",
       "        text-align: right;\n",
       "    }\n",
       "</style>\n",
       "<table border=\"1\" class=\"dataframe\">\n",
       "  <thead>\n",
       "    <tr style=\"text-align: right;\">\n",
       "      <th></th>\n",
       "      <th>40</th>\n",
       "    </tr>\n",
       "  </thead>\n",
       "  <tbody>\n",
       "    <tr>\n",
       "      <th>State</th>\n",
       "      <td>ON</td>\n",
       "    </tr>\n",
       "    <tr>\n",
       "      <th>Total Ports</th>\n",
       "      <td>5282.0</td>\n",
       "    </tr>\n",
       "    <tr>\n",
       "      <th>TESLA</th>\n",
       "      <td>244</td>\n",
       "    </tr>\n",
       "    <tr>\n",
       "      <th>NEMA</th>\n",
       "      <td>17</td>\n",
       "    </tr>\n",
       "    <tr>\n",
       "      <th>CCS</th>\n",
       "      <td>279</td>\n",
       "    </tr>\n",
       "    <tr>\n",
       "      <th>CHADEMO</th>\n",
       "      <td>254</td>\n",
       "    </tr>\n",
       "    <tr>\n",
       "      <th>J1772</th>\n",
       "      <td>1524</td>\n",
       "    </tr>\n",
       "    <tr>\n",
       "      <th>Total Stations</th>\n",
       "      <td>1850</td>\n",
       "    </tr>\n",
       "    <tr>\n",
       "      <th>Code</th>\n",
       "      <td>ON</td>\n",
       "    </tr>\n",
       "    <tr>\n",
       "      <th>Province</th>\n",
       "      <td>Ontario</td>\n",
       "    </tr>\n",
       "    <tr>\n",
       "      <th>2020 EV Registration</th>\n",
       "      <td>4693</td>\n",
       "    </tr>\n",
       "    <tr>\n",
       "      <th>Country</th>\n",
       "      <td>CA</td>\n",
       "    </tr>\n",
       "    <tr>\n",
       "      <th>M_Pop</th>\n",
       "      <td>13.448494</td>\n",
       "    </tr>\n",
       "    <tr>\n",
       "      <th>B_GDP</th>\n",
       "      <td>713.444</td>\n",
       "    </tr>\n",
       "    <tr>\n",
       "      <th>M_Reg_Cars</th>\n",
       "      <td>8.514952</td>\n",
       "    </tr>\n",
       "    <tr>\n",
       "      <th>M_Area</th>\n",
       "      <td>1.076395</td>\n",
       "    </tr>\n",
       "    <tr>\n",
       "      <th>M_Land</th>\n",
       "      <td>0.917741</td>\n",
       "    </tr>\n",
       "    <tr>\n",
       "      <th>M_Water</th>\n",
       "      <td>0.158654</td>\n",
       "    </tr>\n",
       "  </tbody>\n",
       "</table>\n",
       "</div>"
      ],
      "text/plain": [
       "                             40\n",
       "State                        ON\n",
       "Total Ports              5282.0\n",
       "TESLA                       244\n",
       "NEMA                         17\n",
       "CCS                         279\n",
       "CHADEMO                     254\n",
       "J1772                      1524\n",
       "Total Stations             1850\n",
       "Code                         ON\n",
       "Province                Ontario\n",
       "2020 EV Registration       4693\n",
       "Country                      CA\n",
       "M_Pop                 13.448494\n",
       "B_GDP                   713.444\n",
       "M_Reg_Cars             8.514952\n",
       "M_Area                 1.076395\n",
       "M_Land                 0.917741\n",
       "M_Water                0.158654"
      ]
     },
     "execution_count": 64,
     "metadata": {},
     "output_type": "execute_result"
    }
   ],
   "source": [
    "#Drop the target state: Ontario\n",
    "df_training=df_processing[df_processing['State']!='ON']\n",
    "      \n",
    "#Save ontario data to ontario\n",
    "ontario=df_processing[df_processing['State']=='ON']\n",
    "ontario.T"
   ]
  },
  {
   "cell_type": "code",
   "execution_count": 65,
   "id": "71f11ee0",
   "metadata": {},
   "outputs": [
    {
     "data": {
      "text/html": [
       "<div>\n",
       "<style scoped>\n",
       "    .dataframe tbody tr th:only-of-type {\n",
       "        vertical-align: middle;\n",
       "    }\n",
       "\n",
       "    .dataframe tbody tr th {\n",
       "        vertical-align: top;\n",
       "    }\n",
       "\n",
       "    .dataframe thead th {\n",
       "        text-align: right;\n",
       "    }\n",
       "</style>\n",
       "<table border=\"1\" class=\"dataframe\">\n",
       "  <thead>\n",
       "    <tr style=\"text-align: right;\">\n",
       "      <th></th>\n",
       "      <th>Total Ports</th>\n",
       "      <th>TESLA</th>\n",
       "      <th>NEMA</th>\n",
       "      <th>CCS</th>\n",
       "      <th>CHADEMO</th>\n",
       "      <th>J1772</th>\n",
       "      <th>Total Stations</th>\n",
       "      <th>2020 EV Registration</th>\n",
       "      <th>Country</th>\n",
       "      <th>M_Pop</th>\n",
       "      <th>B_GDP</th>\n",
       "      <th>M_Reg_Cars</th>\n",
       "      <th>M_Area</th>\n",
       "      <th>M_Land</th>\n",
       "      <th>M_Water</th>\n",
       "    </tr>\n",
       "  </thead>\n",
       "  <tbody>\n",
       "    <tr>\n",
       "      <th>0</th>\n",
       "      <td>88.0</td>\n",
       "      <td>13</td>\n",
       "      <td>0</td>\n",
       "      <td>5</td>\n",
       "      <td>6</td>\n",
       "      <td>34</td>\n",
       "      <td>48</td>\n",
       "      <td>940</td>\n",
       "      <td>US</td>\n",
       "      <td>0.724357</td>\n",
       "      <td>50.1610</td>\n",
       "      <td>0.178516</td>\n",
       "      <td>1.723338</td>\n",
       "      <td>1.477954</td>\n",
       "      <td>0.245383</td>\n",
       "    </tr>\n",
       "    <tr>\n",
       "      <th>1</th>\n",
       "      <td>526.0</td>\n",
       "      <td>50</td>\n",
       "      <td>0</td>\n",
       "      <td>16</td>\n",
       "      <td>19</td>\n",
       "      <td>161</td>\n",
       "      <td>195</td>\n",
       "      <td>2890</td>\n",
       "      <td>US</td>\n",
       "      <td>4.934193</td>\n",
       "      <td>196.9061</td>\n",
       "      <td>2.109108</td>\n",
       "      <td>0.135767</td>\n",
       "      <td>0.131170</td>\n",
       "      <td>0.004597</td>\n",
       "    </tr>\n",
       "    <tr>\n",
       "      <th>2</th>\n",
       "      <td>457.0</td>\n",
       "      <td>39</td>\n",
       "      <td>0</td>\n",
       "      <td>8</td>\n",
       "      <td>7</td>\n",
       "      <td>136</td>\n",
       "      <td>160</td>\n",
       "      <td>1330</td>\n",
       "      <td>US</td>\n",
       "      <td>3.033946</td>\n",
       "      <td>114.9435</td>\n",
       "      <td>0.886647</td>\n",
       "      <td>0.137733</td>\n",
       "      <td>0.134770</td>\n",
       "      <td>0.002960</td>\n",
       "    </tr>\n",
       "    <tr>\n",
       "      <th>3</th>\n",
       "      <td>2283.0</td>\n",
       "      <td>137</td>\n",
       "      <td>1</td>\n",
       "      <td>54</td>\n",
       "      <td>52</td>\n",
       "      <td>735</td>\n",
       "      <td>875</td>\n",
       "      <td>28770</td>\n",
       "      <td>US</td>\n",
       "      <td>7.520103</td>\n",
       "      <td>320.5506</td>\n",
       "      <td>2.405959</td>\n",
       "      <td>0.295233</td>\n",
       "      <td>0.294207</td>\n",
       "      <td>0.001026</td>\n",
       "    </tr>\n",
       "    <tr>\n",
       "      <th>4</th>\n",
       "      <td>2953.0</td>\n",
       "      <td>183</td>\n",
       "      <td>8</td>\n",
       "      <td>196</td>\n",
       "      <td>183</td>\n",
       "      <td>904</td>\n",
       "      <td>1181</td>\n",
       "      <td>8133</td>\n",
       "      <td>CA</td>\n",
       "      <td>4.648055</td>\n",
       "      <td>246.9274</td>\n",
       "      <td>3.113125</td>\n",
       "      <td>0.944735</td>\n",
       "      <td>0.925186</td>\n",
       "      <td>0.019549</td>\n",
       "    </tr>\n",
       "  </tbody>\n",
       "</table>\n",
       "</div>"
      ],
      "text/plain": [
       "   Total Ports  TESLA  NEMA  CCS  CHADEMO  J1772  Total Stations  \\\n",
       "0         88.0     13     0    5        6     34              48   \n",
       "1        526.0     50     0   16       19    161             195   \n",
       "2        457.0     39     0    8        7    136             160   \n",
       "3       2283.0    137     1   54       52    735             875   \n",
       "4       2953.0    183     8  196      183    904            1181   \n",
       "\n",
       "   2020 EV Registration Country     M_Pop     B_GDP  M_Reg_Cars    M_Area  \\\n",
       "0                   940      US  0.724357   50.1610    0.178516  1.723338   \n",
       "1                  2890      US  4.934193  196.9061    2.109108  0.135767   \n",
       "2                  1330      US  3.033946  114.9435    0.886647  0.137733   \n",
       "3                 28770      US  7.520103  320.5506    2.405959  0.295233   \n",
       "4                  8133      CA  4.648055  246.9274    3.113125  0.944735   \n",
       "\n",
       "     M_Land   M_Water  \n",
       "0  1.477954  0.245383  \n",
       "1  0.131170  0.004597  \n",
       "2  0.134770  0.002960  \n",
       "3  0.294207  0.001026  \n",
       "4  0.925186  0.019549  "
      ]
     },
     "execution_count": 65,
     "metadata": {},
     "output_type": "execute_result"
    }
   ],
   "source": [
    "#Drop the unncessary ports data, state, province, code data\n",
    "df_training = df_training.drop(columns=['State', 'Code', 'Province'])\n",
    "df_training.head()"
   ]
  },
  {
   "cell_type": "markdown",
   "id": "fbb05674",
   "metadata": {},
   "source": [
    "### 4.1.3 Hot code the categorical data\n"
   ]
  },
  {
   "cell_type": "code",
   "execution_count": 66,
   "id": "bbe2f014",
   "metadata": {},
   "outputs": [
    {
     "data": {
      "text/html": [
       "<div>\n",
       "<style scoped>\n",
       "    .dataframe tbody tr th:only-of-type {\n",
       "        vertical-align: middle;\n",
       "    }\n",
       "\n",
       "    .dataframe tbody tr th {\n",
       "        vertical-align: top;\n",
       "    }\n",
       "\n",
       "    .dataframe thead th {\n",
       "        text-align: right;\n",
       "    }\n",
       "</style>\n",
       "<table border=\"1\" class=\"dataframe\">\n",
       "  <thead>\n",
       "    <tr style=\"text-align: right;\">\n",
       "      <th></th>\n",
       "      <th>Total Ports</th>\n",
       "      <th>TESLA</th>\n",
       "      <th>NEMA</th>\n",
       "      <th>CCS</th>\n",
       "      <th>CHADEMO</th>\n",
       "      <th>J1772</th>\n",
       "      <th>Total Stations</th>\n",
       "      <th>2020 EV Registration</th>\n",
       "      <th>M_Pop</th>\n",
       "      <th>B_GDP</th>\n",
       "      <th>M_Reg_Cars</th>\n",
       "      <th>M_Area</th>\n",
       "      <th>M_Land</th>\n",
       "      <th>M_Water</th>\n",
       "      <th>Country_CA</th>\n",
       "    </tr>\n",
       "  </thead>\n",
       "  <tbody>\n",
       "    <tr>\n",
       "      <th>0</th>\n",
       "      <td>88.0</td>\n",
       "      <td>13</td>\n",
       "      <td>0</td>\n",
       "      <td>5</td>\n",
       "      <td>6</td>\n",
       "      <td>34</td>\n",
       "      <td>48</td>\n",
       "      <td>940</td>\n",
       "      <td>0.724357</td>\n",
       "      <td>50.1610</td>\n",
       "      <td>0.178516</td>\n",
       "      <td>1.723338</td>\n",
       "      <td>1.477954</td>\n",
       "      <td>0.245383</td>\n",
       "      <td>0</td>\n",
       "    </tr>\n",
       "    <tr>\n",
       "      <th>1</th>\n",
       "      <td>526.0</td>\n",
       "      <td>50</td>\n",
       "      <td>0</td>\n",
       "      <td>16</td>\n",
       "      <td>19</td>\n",
       "      <td>161</td>\n",
       "      <td>195</td>\n",
       "      <td>2890</td>\n",
       "      <td>4.934193</td>\n",
       "      <td>196.9061</td>\n",
       "      <td>2.109108</td>\n",
       "      <td>0.135767</td>\n",
       "      <td>0.131170</td>\n",
       "      <td>0.004597</td>\n",
       "      <td>0</td>\n",
       "    </tr>\n",
       "    <tr>\n",
       "      <th>2</th>\n",
       "      <td>457.0</td>\n",
       "      <td>39</td>\n",
       "      <td>0</td>\n",
       "      <td>8</td>\n",
       "      <td>7</td>\n",
       "      <td>136</td>\n",
       "      <td>160</td>\n",
       "      <td>1330</td>\n",
       "      <td>3.033946</td>\n",
       "      <td>114.9435</td>\n",
       "      <td>0.886647</td>\n",
       "      <td>0.137733</td>\n",
       "      <td>0.134770</td>\n",
       "      <td>0.002960</td>\n",
       "      <td>0</td>\n",
       "    </tr>\n",
       "    <tr>\n",
       "      <th>3</th>\n",
       "      <td>2283.0</td>\n",
       "      <td>137</td>\n",
       "      <td>1</td>\n",
       "      <td>54</td>\n",
       "      <td>52</td>\n",
       "      <td>735</td>\n",
       "      <td>875</td>\n",
       "      <td>28770</td>\n",
       "      <td>7.520103</td>\n",
       "      <td>320.5506</td>\n",
       "      <td>2.405959</td>\n",
       "      <td>0.295233</td>\n",
       "      <td>0.294207</td>\n",
       "      <td>0.001026</td>\n",
       "      <td>0</td>\n",
       "    </tr>\n",
       "    <tr>\n",
       "      <th>4</th>\n",
       "      <td>2953.0</td>\n",
       "      <td>183</td>\n",
       "      <td>8</td>\n",
       "      <td>196</td>\n",
       "      <td>183</td>\n",
       "      <td>904</td>\n",
       "      <td>1181</td>\n",
       "      <td>8133</td>\n",
       "      <td>4.648055</td>\n",
       "      <td>246.9274</td>\n",
       "      <td>3.113125</td>\n",
       "      <td>0.944735</td>\n",
       "      <td>0.925186</td>\n",
       "      <td>0.019549</td>\n",
       "      <td>1</td>\n",
       "    </tr>\n",
       "  </tbody>\n",
       "</table>\n",
       "</div>"
      ],
      "text/plain": [
       "   Total Ports  TESLA  NEMA  CCS  CHADEMO  J1772  Total Stations  \\\n",
       "0         88.0     13     0    5        6     34              48   \n",
       "1        526.0     50     0   16       19    161             195   \n",
       "2        457.0     39     0    8        7    136             160   \n",
       "3       2283.0    137     1   54       52    735             875   \n",
       "4       2953.0    183     8  196      183    904            1181   \n",
       "\n",
       "   2020 EV Registration     M_Pop     B_GDP  M_Reg_Cars    M_Area    M_Land  \\\n",
       "0                   940  0.724357   50.1610    0.178516  1.723338  1.477954   \n",
       "1                  2890  4.934193  196.9061    2.109108  0.135767  0.131170   \n",
       "2                  1330  3.033946  114.9435    0.886647  0.137733  0.134770   \n",
       "3                 28770  7.520103  320.5506    2.405959  0.295233  0.294207   \n",
       "4                  8133  4.648055  246.9274    3.113125  0.944735  0.925186   \n",
       "\n",
       "    M_Water  Country_CA  \n",
       "0  0.245383           0  \n",
       "1  0.004597           0  \n",
       "2  0.002960           0  \n",
       "3  0.001026           0  \n",
       "4  0.019549           1  "
      ]
     },
     "execution_count": 66,
     "metadata": {},
     "output_type": "execute_result"
    }
   ],
   "source": [
    "#One hot coding using Pandas.get_dummies function\n",
    "df_training=pd.get_dummies(df_training, columns = ['Country'])\n",
    "df_training.drop(columns=['Country_US']).head()"
   ]
  },
  {
   "cell_type": "code",
   "execution_count": 67,
   "id": "96218761",
   "metadata": {},
   "outputs": [
    {
     "data": {
      "text/plain": [
       "(57, 16)"
      ]
     },
     "execution_count": 67,
     "metadata": {},
     "output_type": "execute_result"
    }
   ],
   "source": [
    "df_training.shape"
   ]
  },
  {
   "cell_type": "markdown",
   "id": "161e82d5",
   "metadata": {},
   "source": [
    "### 4.1.5 Trianing/Test Data Split\n"
   ]
  },
  {
   "cell_type": "code",
   "execution_count": 68,
   "id": "4f17b86f",
   "metadata": {},
   "outputs": [],
   "source": [
    "#Training/Test Data Split using Sklearn train_test_split function\n",
    "from sklearn.model_selection import train_test_split\n",
    "X_train_o, X_test, y_train, y_test = train_test_split(df_training.drop(columns='Total Stations'), \n",
    "                                                    df_training['Total Stations'], test_size=0.2, \n",
    "                                                    random_state=47)"
   ]
  },
  {
   "cell_type": "code",
   "execution_count": 69,
   "id": "f6dfe56c",
   "metadata": {},
   "outputs": [
    {
     "data": {
      "text/plain": [
       "(45, 15)"
      ]
     },
     "execution_count": 69,
     "metadata": {},
     "output_type": "execute_result"
    }
   ],
   "source": [
    "#Validate the split\n",
    "X_train_o.shape"
   ]
  },
  {
   "cell_type": "markdown",
   "id": "3a119be7",
   "metadata": {},
   "source": [
    "### 4.1.6 Scale the Training Set and Transform the Test Set"
   ]
  },
  {
   "cell_type": "code",
   "execution_count": 70,
   "id": "8241b707",
   "metadata": {},
   "outputs": [],
   "source": [
    "#Fit and transform X_train\n",
    "from sklearn.preprocessing import StandardScaler\n",
    "scaler = StandardScaler()\n",
    "X_train = scaler.fit_transform(X_train_o)\n",
    "\n",
    "#Fit X_train and transform X_test\n",
    "X_test = scaler.transform(X_test)"
   ]
  },
  {
   "cell_type": "markdown",
   "id": "9de8cbc3",
   "metadata": {},
   "source": [
    "# 5.0 Training and Testing <a id=\"5.0_Training_and_Testing\"></a>"
   ]
  },
  {
   "cell_type": "markdown",
   "id": "2653e8bb",
   "metadata": {},
   "source": [
    "In the last section, the dataset has been splited, standard scaled. In the following section, the dataset will be used to train models:\n",
    "\n",
    "1) Linear Regression Model\n",
    "\n",
    "2) Random Forest Model\n",
    "\n",
    "3) XGBoost\n"
   ]
  },
  {
   "cell_type": "markdown",
   "id": "e31626d8",
   "metadata": {},
   "source": [
    "## 5.1 Linear Regression Model"
   ]
  },
  {
   "cell_type": "markdown",
   "id": "56cd1cb6",
   "metadata": {},
   "source": [
    "### 5.1.1 Simple Training and Testing"
   ]
  },
  {
   "cell_type": "code",
   "execution_count": 71,
   "id": "79e78157",
   "metadata": {},
   "outputs": [],
   "source": [
    "#Import LinearRegression Package\n",
    "from sklearn.linear_model import LinearRegression\n",
    "\n",
    "#Fit the training set\n",
    "reg = LinearRegression().fit(X_train, y_train)\n",
    "\n",
    "#Assign the predictions to `y_tr_pred` and `y_te_pred`, respectively\n",
    "y_train_pred = reg.predict(X_train)\n",
    "y_test_pred = reg.predict(X_test)"
   ]
  },
  {
   "cell_type": "markdown",
   "id": "4aa6b313",
   "metadata": {},
   "source": [
    "### 5.1.2 Model Evaluator"
   ]
  },
  {
   "cell_type": "markdown",
   "id": "874bb83f",
   "metadata": {},
   "source": [
    "Since this is a regression model, we will consider the following three evaluators:\n",
    "\n",
    "1) R2 Score\n",
    "\n",
    "2) MSE\n",
    "\n",
    "3) MAE"
   ]
  },
  {
   "cell_type": "code",
   "execution_count": 72,
   "id": "fb2fbddd",
   "metadata": {},
   "outputs": [],
   "source": [
    "#Import functions from sklearn\n",
    "from sklearn.metrics import r2_score, mean_squared_error, mean_absolute_error"
   ]
  },
  {
   "cell_type": "code",
   "execution_count": 73,
   "id": "b3cd6db5",
   "metadata": {},
   "outputs": [
    {
     "data": {
      "text/plain": [
       "(0.9999863296226498, 0.9956117218901003)"
      ]
     },
     "execution_count": 73,
     "metadata": {},
     "output_type": "execute_result"
    }
   ],
   "source": [
    "#R2 Score for each set\n",
    "r2_score(y_train, y_train_pred), r2_score(y_test, y_test_pred)"
   ]
  },
  {
   "cell_type": "code",
   "execution_count": 74,
   "id": "77f24607",
   "metadata": {},
   "outputs": [
    {
     "data": {
      "text/plain": [
       "(5.429820042909312, 21.841098005265664)"
      ]
     },
     "execution_count": 74,
     "metadata": {},
     "output_type": "execute_result"
    }
   ],
   "source": [
    "#MAE, MSE for each set\n",
    "mean_absolute_error(y_train, y_train_pred), mean_absolute_error(y_test, y_test_pred)"
   ]
  },
  {
   "cell_type": "markdown",
   "id": "a06714b1",
   "metadata": {},
   "source": [
    "As we can see, the linear regression model did a pretty good job in predicting both training set and test set.\n",
    "\n",
    "However, can we make it better? Is it because the model is overfitting the dataset?\n",
    "\n",
    "We can induce the SelectKBest to see whether there are any parameters that are not necessarily in this model. Also, we can use CrossValidation to check if the model is overfitting."
   ]
  },
  {
   "cell_type": "markdown",
   "id": "0b947995",
   "metadata": {},
   "source": [
    "### 5.1.3 Cross Validation"
   ]
  },
  {
   "cell_type": "code",
   "execution_count": 84,
   "id": "eacb1d6a",
   "metadata": {},
   "outputs": [
    {
     "name": "stdout",
     "output_type": "stream",
     "text": [
      "[0.99948393 0.99986354 0.99738154 0.99986175 0.99811294 0.99738497\n",
      " 0.99990545 0.99849439 0.99975632 0.99973012]\n",
      "0.9989974944197113 0.0009958731182985868\n"
     ]
    }
   ],
   "source": [
    "#Cross Validation method used on LinearRegression model\n",
    "from sklearn.model_selection import cross_validate\n",
    "cv_results = cross_validate(LinearRegression(), X_train, y_train, cv=10)\n",
    "cv_scores = cv_results['test_score']\n",
    "#Print all R2 scores in each fold\n",
    "print(cv_scores)\n",
    "\n",
    "#Print the mean R2 scores and standard deviation\n",
    "print(np.mean(cv_scores), np.std(cv_scores))"
   ]
  },
  {
   "cell_type": "markdown",
   "id": "2d40af2d",
   "metadata": {},
   "source": [
    "### 5.1.4 Grid Search for best k columns"
   ]
  },
  {
   "cell_type": "code",
   "execution_count": 78,
   "id": "12540a2d",
   "metadata": {},
   "outputs": [
    {
     "data": {
      "text/plain": [
       "{'selectkbest__k': 14}"
      ]
     },
     "execution_count": 78,
     "metadata": {},
     "output_type": "execute_result"
    }
   ],
   "source": [
    "from sklearn.pipeline import make_pipeline\n",
    "from sklearn.feature_selection import SelectKBest, f_regression\n",
    "from sklearn.model_selection import train_test_split, GridSearchCV, learning_curve\n",
    "\n",
    "#Define a pipeline\n",
    "pipe = make_pipeline(SelectKBest(f_regression), LinearRegression())\n",
    "\n",
    "#Use GridSearchCV to find the best k values\n",
    "#Define k and k in range 2 to the maximum number of columns\n",
    "k = [k+1 for k in range(len(X_train_o.columns))]\n",
    "grid_params = {'selectkbest__k': k}\n",
    "\n",
    "#Train the GridSearchCV\n",
    "lr_grid_cv = GridSearchCV(pipe, param_grid=grid_params, cv=5, n_jobs=-1)\n",
    "lr_grid_cv.fit(X_train, y_train)\n",
    "\n",
    "#find the best k\n",
    "lr_grid_cv.best_params_"
   ]
  },
  {
   "cell_type": "code",
   "execution_count": 85,
   "id": "ccea4cea",
   "metadata": {},
   "outputs": [
    {
     "data": {
      "text/plain": [
       "{'mean_fit_time': array([0.00159302, 0.00153184, 0.00215688, 0.002459  , 0.00237041,\n",
       "        0.00206103, 0.00211802, 0.00189838, 0.0019722 , 0.00189748,\n",
       "        0.00202122, 0.002284  , 0.002174  , 0.00201797, 0.00178885]),\n",
       " 'std_fit_time': array([7.35802535e-05, 5.43577629e-05, 1.54269209e-04, 1.67665967e-04,\n",
       "        2.90778622e-04, 2.45157774e-04, 1.15137918e-04, 2.53481027e-04,\n",
       "        1.66628696e-04, 1.62501500e-04, 2.09761560e-04, 2.45864073e-04,\n",
       "        3.46928923e-04, 1.31586149e-04, 1.48881970e-04]),\n",
       " 'mean_score_time': array([0.0005353 , 0.00050831, 0.00067992, 0.00079556, 0.00073481,\n",
       "        0.00065136, 0.00062656, 0.00059795, 0.00054803, 0.00062585,\n",
       "        0.00065417, 0.00078382, 0.00068045, 0.00060797, 0.000524  ]),\n",
       " 'std_score_time': array([3.16191579e-05, 3.03026169e-05, 1.67500915e-04, 4.77155103e-05,\n",
       "        1.54898186e-04, 1.52584612e-04, 1.00548326e-04, 9.95186681e-05,\n",
       "        5.16928869e-05, 1.08924471e-04, 1.34648581e-04, 1.42021175e-04,\n",
       "        1.13437044e-04, 9.87543454e-05, 3.58153275e-05]),\n",
       " 'param_selectkbest__k': masked_array(data=[1, 2, 3, 4, 5, 6, 7, 8, 9, 10, 11, 12, 13, 14, 15],\n",
       "              mask=[False, False, False, False, False, False, False, False,\n",
       "                    False, False, False, False, False, False, False],\n",
       "        fill_value='?',\n",
       "             dtype=object),\n",
       " 'params': [{'selectkbest__k': 1},\n",
       "  {'selectkbest__k': 2},\n",
       "  {'selectkbest__k': 3},\n",
       "  {'selectkbest__k': 4},\n",
       "  {'selectkbest__k': 5},\n",
       "  {'selectkbest__k': 6},\n",
       "  {'selectkbest__k': 7},\n",
       "  {'selectkbest__k': 8},\n",
       "  {'selectkbest__k': 9},\n",
       "  {'selectkbest__k': 10},\n",
       "  {'selectkbest__k': 11},\n",
       "  {'selectkbest__k': 12},\n",
       "  {'selectkbest__k': 13},\n",
       "  {'selectkbest__k': 14},\n",
       "  {'selectkbest__k': 15}],\n",
       " 'split0_test_score': array([0.99800467, 0.99818348, 0.99770152, 0.9979554 , 0.99778192,\n",
       "        0.99977072, 0.99974818, 0.99949286, 0.99938151, 0.99957762,\n",
       "        0.99959684, 0.99976723, 0.99977724, 0.99982212, 0.99982212]),\n",
       " 'split1_test_score': array([0.99863361, 0.99692405, 0.99751793, 0.99811195, 0.99924344,\n",
       "        0.99986841, 0.99987015, 0.99977358, 0.99977515, 0.99978723,\n",
       "        0.99970075, 0.99963242, 0.99980841, 0.9998744 , 0.9998744 ]),\n",
       " 'split2_test_score': array([0.98649234, 0.99030758, 0.99595789, 0.99838449, 0.99880209,\n",
       "        0.9997028 , 0.99972988, 0.99978068, 0.99973017, 0.99906396,\n",
       "        0.99904309, 0.99880217, 0.99899865, 0.99933207, 0.99933207]),\n",
       " 'split3_test_score': array([0.99808928, 0.99089809, 0.99369393, 0.99641625, 0.99798389,\n",
       "        0.999223  , 0.99922054, 0.99921553, 0.99919825, 0.99985992,\n",
       "        0.99988791, 0.99981743, 0.99990694, 0.99990694, 0.99987935]),\n",
       " 'split4_test_score': array([0.99739221, 0.99810639, 0.99919375, 0.9961794 , 0.99476359,\n",
       "        0.99972647, 0.99954777, 0.99952969, 0.9992429 , 0.99975401,\n",
       "        0.9996419 , 0.99930328, 0.99936805, 0.99954405, 0.99954405]),\n",
       " 'mean_test_score': array([0.99572242, 0.99488392, 0.99681301, 0.9974095 , 0.99771499,\n",
       "        0.99965828, 0.9996233 , 0.99955847, 0.9994656 , 0.99960855,\n",
       "        0.9995741 , 0.99946451, 0.99957186, 0.99969592, 0.9996904 ]),\n",
       " 'std_test_score': array([0.00463181, 0.00352883, 0.00186623, 0.00092106, 0.00156879,\n",
       "        0.0002249 , 0.00022619, 0.00020899, 0.00024247, 0.00028768,\n",
       "        0.00028341, 0.00037658, 0.00034074, 0.0002226 , 0.00021759]),\n",
       " 'rank_test_score': array([14, 15, 13, 12, 11,  3,  4,  8,  9,  5,  6, 10,  7,  1,  2],\n",
       "       dtype=int32)}"
      ]
     },
     "execution_count": 85,
     "metadata": {},
     "output_type": "execute_result"
    }
   ],
   "source": [
    "lr_grid_cv.cv_results_"
   ]
  },
  {
   "cell_type": "code",
   "execution_count": 79,
   "id": "4d7908ad",
   "metadata": {},
   "outputs": [
    {
     "data": {
      "image/png": "[encoded data removed]",
      "text/plain": [
       "<Figure size 720x360 with 1 Axes>"
      ]
     },
     "metadata": {
      "needs_background": "light"
     },
     "output_type": "display_data"
    }
   ],
   "source": [
    "score_mean = lr_grid_cv.cv_results_['mean_test_score']\n",
    "score_std = lr_grid_cv.cv_results_['std_test_score']\n",
    "cv_k = [k for k in lr_grid_cv.cv_results_['param_selectkbest__k']]\n",
    "#Assign the value of k from the above dict of `best_params_` and assign it to `best_k`\n",
    "best_k = lr_grid_cv.best_params_['selectkbest__k']\n",
    "plt.subplots(figsize=(10, 5))\n",
    "plt.errorbar(cv_k, score_mean, yerr=score_std)\n",
    "plt.axvline(x=best_k, c='r', ls='--', alpha=.5)\n",
    "plt.xlabel('k')\n",
    "plt.ylabel('CV score (r-squared)')\n",
    "plt.title('Pipeline mean CV score (error bars +/- 1sd)');"
   ]
  },
  {
   "cell_type": "markdown",
   "id": "861fc9bd",
   "metadata": {},
   "source": [
    "As we can see from the figure above, cross validation method provides the average R2 scores for each of the k value tested from 1 to 15. At k=14, the R2 score achieved the highest. However, when k=6, the score does not change significantly. It seems that the differences between k=6 and k=14 were not statistically significant, either. "
   ]
  },
  {
   "cell_type": "code",
   "execution_count": 80,
   "id": "f04f9521",
   "metadata": {},
   "outputs": [
    {
     "data": {
      "text/plain": [
       "M_Area                  584131.771270\n",
       "J1772                     1815.039716\n",
       "CCS                        303.735897\n",
       "TESLA                       85.365061\n",
       "2020 EV Registration        54.465121\n",
       "NEMA                        16.449618\n",
       "M_Pop                       15.048024\n",
       "Country_US                   2.949497\n",
       "M_Reg_Cars                   0.812409\n",
       "B_GDP                      -28.449688\n",
       "Total Ports                -75.374015\n",
       "CHADEMO                   -151.646280\n",
       "M_Water                 -74050.902169\n",
       "M_Land                 -519069.926543\n",
       "dtype: float64"
      ]
     },
     "execution_count": 80,
     "metadata": {},
     "output_type": "execute_result"
    }
   ],
   "source": [
    "selected = lr_grid_cv.best_estimator_.named_steps.selectkbest.get_support()\n",
    "coefs = lr_grid_cv.best_estimator_.named_steps.linearregression.coef_\n",
    "features = X_train_o.columns[selected]\n",
    "pd.Series(coefs, index=features).sort_values(ascending=False)"
   ]
  },
  {
   "cell_type": "markdown",
   "id": "474f1e34",
   "metadata": {},
   "source": [
    "### 5.1.5 Evaluate the Best-Estimator-Model Performance"
   ]
  },
  {
   "cell_type": "code",
   "execution_count": 86,
   "id": "9377afc1",
   "metadata": {},
   "outputs": [
    {
     "data": {
      "text/plain": [
       "(12.093974435216733, 8.103590359048631)"
      ]
     },
     "execution_count": 86,
     "metadata": {},
     "output_type": "execute_result"
    }
   ],
   "source": [
    "# 'neg_mean_absolute_error' uses the (negative of) the mean absolute error\n",
    "lr_neg_mae = cross_validate(lr_grid_cv.best_estimator_, X_train, y_train, \n",
    "                            scoring='neg_mean_absolute_error', cv=5, n_jobs=-1)\n",
    "lr_mae_mean = np.mean(-1 * lr_neg_mae['test_score'])\n",
    "lr_mae_std = np.std(-1 * lr_neg_mae['test_score'])\n",
    "lr_mae_mean, lr_mae_std"
   ]
  },
  {
   "cell_type": "code",
   "execution_count": 87,
   "id": "d1c061f1",
   "metadata": {},
   "outputs": [
    {
     "data": {
      "text/plain": [
       "21.841098005546936"
      ]
     },
     "execution_count": 87,
     "metadata": {},
     "output_type": "execute_result"
    }
   ],
   "source": [
    "mean_absolute_error(y_test, lr_grid_cv.best_estimator_.predict(X_test))"
   ]
  },
  {
   "cell_type": "markdown",
   "id": "8c72a3e2",
   "metadata": {},
   "source": [
    "The mean absolute error for the test set is greater than for the training set. The model might be overfitting."
   ]
  },
  {
   "cell_type": "code",
   "execution_count": 112,
   "id": "56dcc032",
   "metadata": {},
   "outputs": [
    {
     "data": {
      "text/plain": [
       "0.9956117218899576"
      ]
     },
     "execution_count": 112,
     "metadata": {},
     "output_type": "execute_result"
    }
   ],
   "source": [
    "r2_score(y_test, lr_grid_cv.best_estimator_.predict(X_test))"
   ]
  },
  {
   "cell_type": "markdown",
   "id": "e6e1c785",
   "metadata": {},
   "source": [
    "### 5.1.6 Refining the model"
   ]
  },
  {
   "cell_type": "markdown",
   "id": "ccd1899e",
   "metadata": {},
   "source": [
    "To solve the issue of the overfitting, we can try to use only the most important 6 parameters to train the model. "
   ]
  },
  {
   "cell_type": "code",
   "execution_count": 119,
   "id": "78307300",
   "metadata": {},
   "outputs": [],
   "source": [
    "selected_columns = ['M_Area','J1772', 'CCS', 'CHADEMO','2020 EV Registration','M_Land']\n",
    "X_train_s, X_test_s, y_train_s, y_test_s = train_test_split(df_training[selected_columns], \n",
    "                                                    df_training['Total Stations'], test_size=0.2, \n",
    "                                                    random_state=47)"
   ]
  },
  {
   "cell_type": "code",
   "execution_count": 120,
   "id": "4731eac9",
   "metadata": {},
   "outputs": [
    {
     "data": {
      "text/plain": [
       "(0.999774308235937, 0.9959863759937841)"
      ]
     },
     "execution_count": 120,
     "metadata": {},
     "output_type": "execute_result"
    }
   ],
   "source": [
    "#Fit the training set\n",
    "reg = LinearRegression().fit(X_train_s, y_train_s)\n",
    "\n",
    "#Assign the predictions to `y_tr_pred` and `y_te_pred`, respectively\n",
    "y_train_s_pred = reg.predict(X_train_s)\n",
    "y_test_s_pred = reg.predict(X_test_s)\n",
    "\n",
    "#R2 Score for each set\n",
    "r2_score(y_train_s, y_train_s_pred), r2_score(y_test_s, y_test_s_pred)"
   ]
  },
  {
   "cell_type": "code",
   "execution_count": 121,
   "id": "144acf81",
   "metadata": {},
   "outputs": [
    {
     "data": {
      "text/plain": [
       "(22.09369049462014, 31.4496421951275)"
      ]
     },
     "execution_count": 121,
     "metadata": {},
     "output_type": "execute_result"
    }
   ],
   "source": [
    "#MAE for each set\n",
    "mean_absolute_error(y_train_s, y_train_s_pred), mean_absolute_error(y_test_s, y_test_s_pred)"
   ]
  },
  {
   "cell_type": "markdown",
   "id": "cab5fec3",
   "metadata": {},
   "source": [
    "The difference between the MAE for training set and test set is getting smaller."
   ]
  },
  {
   "cell_type": "markdown",
   "id": "35f57acf",
   "metadata": {},
   "source": [
    "## 5.2 Random Forest Model"
   ]
  },
  {
   "cell_type": "markdown",
   "id": "1c5d2940",
   "metadata": {},
   "source": [
    "Random Forest Model have a number of hyperparameters. So, we can use randomsearch to find the best estimator (if we use random search, the combination of the hyperparameters will be in a huge number and will take very long time to process). The following hyperparameters can be considered in this case, including:\n",
    "\n",
    "1) Number of Estimators\n",
    "\n",
    "2) Maximum Depth\n",
    "\n",
    "3) Maximum features: max number of features considered for splitting a node\n",
    "\n",
    "4) Mininum samples_split: mininum number of data points placed in a node before the node is split\n",
    "\n",
    "5) Minimum samples leaf = minimum number of data points allowed in a leaf node\n",
    "\n",
    "6) bootstrap: method for sampling data points (with or without replacement)\n"
   ]
  },
  {
   "cell_type": "code",
   "execution_count": 88,
   "id": "605a0878",
   "metadata": {},
   "outputs": [],
   "source": [
    "#Set n_est as the number of Estimators\n",
    "n_est = [int(n) for n in np.logspace(start=1, stop=3, num=20)]\n",
    "\n",
    "#Set Maximum Depth, including a None as no limit\n",
    "max_depth = [int(x) for x in np.linspace(10, 110, num = 11)]\n",
    "max_depth.append(None)\n",
    "\n",
    "#Set maximum features\n",
    "max_features = ['auto', 'sqrt']\n",
    "\n",
    "#Set minimum sample split\n",
    "min_samples_split = [2, 5, 10]\n",
    "\n",
    "#Set minimum samples leaf\n",
    "min_samples_leaf = [1, 2, 4]\n",
    "\n",
    "#Set bootstrap\n",
    "bootstrap = [True, False]"
   ]
  },
  {
   "cell_type": "code",
   "execution_count": 89,
   "id": "64dfe3a9",
   "metadata": {},
   "outputs": [],
   "source": [
    "# Create the random grid\n",
    "param_grid = {'n_estimators': n_est,\n",
    "               'max_features': max_features,\n",
    "               'max_depth': max_depth,\n",
    "               'min_samples_split': min_samples_split,\n",
    "               'min_samples_leaf': min_samples_leaf,\n",
    "               'bootstrap': bootstrap}"
   ]
  },
  {
   "cell_type": "code",
   "execution_count": 91,
   "id": "34327525",
   "metadata": {},
   "outputs": [
    {
     "name": "stdout",
     "output_type": "stream",
     "text": [
      "Fitting 3 folds for each of 100 candidates, totalling 300 fits\n"
     ]
    },
    {
     "data": {
      "text/plain": [
       "RandomizedSearchCV(cv=3, estimator=RandomForestRegressor(), n_iter=100,\n",
       "                   n_jobs=-1,\n",
       "                   param_distributions={'bootstrap': [True, False],\n",
       "                                        'max_depth': [10, 20, 30, 40, 50, 60,\n",
       "                                                      70, 80, 90, 100, 110,\n",
       "                                                      None],\n",
       "                                        'max_features': ['auto', 'sqrt'],\n",
       "                                        'min_samples_leaf': [1, 2, 4],\n",
       "                                        'min_samples_split': [2, 5, 10],\n",
       "                                        'n_estimators': [10, 12, 16, 20, 26, 33,\n",
       "                                                         42, 54, 69, 88, 112,\n",
       "                                                         143, 183, 233, 297,\n",
       "                                                         379, 483, 615, 784,\n",
       "                                                         1000]},\n",
       "                   random_state=42, verbose=2)"
      ]
     },
     "execution_count": 91,
     "metadata": {},
     "output_type": "execute_result"
    }
   ],
   "source": [
    "from sklearn.ensemble import RandomForestRegressor\n",
    "from sklearn.model_selection import RandomizedSearchCV\n",
    "\n",
    "rf = RandomForestRegressor()\n",
    "# Random search of parameters, using 3 fold cross validation, \n",
    "# search across 100 different combinations, and use all available cores\n",
    "rf_random = RandomizedSearchCV(estimator = rf, param_distributions = param_grid, n_iter = 100, cv = 3, verbose=2, random_state=42, n_jobs = -1)\n",
    "# Fit the random search model\n",
    "rf_random.fit(X_train, y_train)"
   ]
  },
  {
   "cell_type": "code",
   "execution_count": 92,
   "id": "1db42368",
   "metadata": {},
   "outputs": [
    {
     "data": {
      "text/plain": [
       "{'n_estimators': 16,\n",
       " 'min_samples_split': 2,\n",
       " 'min_samples_leaf': 1,\n",
       " 'max_features': 'auto',\n",
       " 'max_depth': 110,\n",
       " 'bootstrap': False}"
      ]
     },
     "execution_count": 92,
     "metadata": {},
     "output_type": "execute_result"
    }
   ],
   "source": [
    "#Print the best parameters\n",
    "rf_random.best_params_"
   ]
  },
  {
   "cell_type": "code",
   "execution_count": 93,
   "id": "13b8f5eb",
   "metadata": {},
   "outputs": [
    {
     "data": {
      "text/plain": [
       "(384.6694444444444, 530.2679346112226)"
      ]
     },
     "execution_count": 93,
     "metadata": {},
     "output_type": "execute_result"
    }
   ],
   "source": [
    "#Print the evaluation score of the model as MAE\n",
    "rf_neg_mae = cross_validate(rf_random.best_estimator_, X_train, y_train, \n",
    "                            scoring='neg_mean_absolute_error', cv=5, n_jobs=-1)\n",
    "rf_mae_mean = np.mean(-1 * rf_neg_mae['test_score'])\n",
    "rf_mae_std = np.std(-1 * rf_neg_mae['test_score'])\n",
    "rf_mae_mean, rf_mae_std"
   ]
  },
  {
   "cell_type": "code",
   "execution_count": 96,
   "id": "df55d110",
   "metadata": {},
   "outputs": [
    {
     "data": {
      "text/plain": [
       "291.0885416666667"
      ]
     },
     "execution_count": 96,
     "metadata": {},
     "output_type": "execute_result"
    }
   ],
   "source": [
    "mean_absolute_error(y_test, rf_random.best_estimator_.predict(X_test))"
   ]
  },
  {
   "cell_type": "code",
   "execution_count": 111,
   "id": "b807462f",
   "metadata": {},
   "outputs": [
    {
     "data": {
      "text/plain": [
       "-0.11033966870727396"
      ]
     },
     "execution_count": 111,
     "metadata": {},
     "output_type": "execute_result"
    }
   ],
   "source": [
    "#As we can see, the mean MAE is 384 and STD is 530. \n",
    "#It is very different from what we have in the Linear Regression Model\n",
    "#Print the test scores for the RandomSearchCV\n",
    "r2_score(y_test, rf_random.best_estimator_.predict(X_test))"
   ]
  },
  {
   "cell_type": "markdown",
   "id": "ce715fa0",
   "metadata": {},
   "source": [
    "The maximum score for the randomsearchCV testing is 0.69, which is much smaller than the regression model"
   ]
  },
  {
   "cell_type": "markdown",
   "id": "2b1e8d97",
   "metadata": {},
   "source": [
    "## 5.3 XGBoost"
   ]
  },
  {
   "cell_type": "markdown",
   "id": "dc8a656f",
   "metadata": {},
   "source": [
    "### 5.3.1 XGBoost Training and Testing"
   ]
  },
  {
   "cell_type": "markdown",
   "id": "87ec696c",
   "metadata": {},
   "source": [
    "First, we will install the XGBoost in the following area. Then we will do a general training with the default and common hyperparameters for XGBoost Regression model. Then we will use randomsearchCV to search for the best estimator for the model"
   ]
  },
  {
   "cell_type": "code",
   "execution_count": 98,
   "id": "8d29ff96",
   "metadata": {},
   "outputs": [
    {
     "name": "stdout",
     "output_type": "stream",
     "text": [
      "Collecting xgboost\n",
      "  Downloading xgboost-1.6.1-py3-none-macosx_10_15_x86_64.macosx_11_0_x86_64.macosx_12_0_x86_64.whl (1.7 MB)\n",
      "\u001b[K     |████████████████████████████████| 1.7 MB 2.6 MB/s eta 0:00:01\n",
      "\u001b[?25hRequirement already satisfied: numpy in /Users/andygong/opt/anaconda3/lib/python3.9/site-packages (from xgboost) (1.22.4)\n",
      "Requirement already satisfied: scipy in /Users/andygong/opt/anaconda3/lib/python3.9/site-packages (from xgboost) (1.7.1)\n",
      "Installing collected packages: xgboost\n",
      "Successfully installed xgboost-1.6.1\n"
     ]
    }
   ],
   "source": [
    "!pip install xgboost"
   ]
  },
  {
   "cell_type": "code",
   "execution_count": 102,
   "id": "b3e56fa4",
   "metadata": {},
   "outputs": [
    {
     "name": "stdout",
     "output_type": "stream",
     "text": [
      "35.89564776950412 27061.08937960259\n",
      "0.9933667051022129\n",
      "49.5252488454183 4279.300962376413\n",
      "0.9916927221891197\n"
     ]
    }
   ],
   "source": [
    "import xgboost as xgb\n",
    "xgb_reg = xgb.XGBRegressor(n_estimators=100, n_jobs=2,\n",
    "                            booster='gbtree',\n",
    "                           random_state=42, learning_rate=0.05)\n",
    "\n",
    "# Train the model with train data sets\n",
    "xgb_reg.fit(X_train, y_train)\n",
    "\n",
    "y_train_pred = xgb_reg.predict(X_train)\n",
    "y_test_pred = xgb_reg.predict(X_test)\n",
    "\n",
    "#Print MAE and MSE for training sets\n",
    "print(mean_absolute_error(y_train, y_train_pred), mean_squared_error(y_train, y_train_pred))\n",
    "\n",
    "#Print R2 Score for training sets\n",
    "print(r2_score(y_train, y_train_pred))\n",
    "\n",
    "#Print MAE and MSE for test sets\n",
    "print(mean_absolute_error(y_test, y_test_pred), mean_squared_error(y_test, y_test_pred))\n",
    "\n",
    "#Print R2 Score for test sets\n",
    "print(r2_score(y_test, y_test_pred))"
   ]
  },
  {
   "cell_type": "markdown",
   "id": "b59be102",
   "metadata": {},
   "source": [
    "The R2 Score seems to be pretty well. Then we can see if there are any improvements with tuning the hyperparameters"
   ]
  },
  {
   "cell_type": "markdown",
   "id": "78f47f87",
   "metadata": {},
   "source": [
    "### 5.3.2 Random Search for XGBoost Model"
   ]
  },
  {
   "cell_type": "code",
   "execution_count": 115,
   "id": "8a9cafc3",
   "metadata": {},
   "outputs": [
    {
     "name": "stdout",
     "output_type": "stream",
     "text": [
      "Fitting 5 folds for each of 25 candidates, totalling 125 fits\n"
     ]
    },
    {
     "data": {
      "text/plain": [
       "{'subsample': 0.8999999999999999,\n",
       " 'n_estimators': 100,\n",
       " 'max_depth': 10,\n",
       " 'learning_rate': 0.3,\n",
       " 'colsample_bytree': 0.8999999999999999,\n",
       " 'colsample_bylevel': 0.7999999999999999}"
      ]
     },
     "execution_count": 115,
     "metadata": {},
     "output_type": "execute_result"
    }
   ],
   "source": [
    "import xgboost as xgb\n",
    "#Set parameters\n",
    "params = { 'max_depth': [3, 5, 6, 10, 15, 20],\n",
    "           'learning_rate': [0.05, 0.1, 0.2, 0.3],\n",
    "           'subsample': np.arange(0.5, 1.0, 0.1),\n",
    "           'colsample_bytree': np.arange(0.4, 1.0, 0.1),\n",
    "           'colsample_bylevel': np.arange(0.4, 1.0, 0.1),\n",
    "           'n_estimators': [100, 500, 1000]}\n",
    "\n",
    "#Fit the randomizedSearchCV model with the parameters\n",
    "xgb_reg_cv = xgb.XGBRegressor()\n",
    "xgb_random = RandomizedSearchCV(estimator=xgb_reg_cv,\n",
    "                         param_distributions=params,\n",
    "                         scoring='neg_mean_squared_error',\n",
    "                         n_iter=25,\n",
    "                         verbose=1)\n",
    "xgb_random.fit(X_train, y_train)\n",
    "xgb_random.best_params_"
   ]
  },
  {
   "cell_type": "code",
   "execution_count": 116,
   "id": "9634f7d1",
   "metadata": {},
   "outputs": [
    {
     "data": {
      "text/plain": [
       "(332.0706361558702, 443.7742777835404)"
      ]
     },
     "execution_count": 116,
     "metadata": {},
     "output_type": "execute_result"
    }
   ],
   "source": [
    "xgb_neg_mae = cross_validate(xgb_random.best_estimator_, X_train, y_train, \n",
    "                            scoring='neg_mean_absolute_error', cv=5, n_jobs=-1)\n",
    "xgb_mae_mean = np.mean(-1 * xgb_neg_mae['test_score'])\n",
    "xgb_mae_std = np.std(-1 * xgb_neg_mae['test_score'])\n",
    "xgb_mae_mean, xgb_mae_std"
   ]
  },
  {
   "cell_type": "code",
   "execution_count": 117,
   "id": "cfebdd11",
   "metadata": {},
   "outputs": [
    {
     "data": {
      "text/plain": [
       "58.06812604268392"
      ]
     },
     "execution_count": 117,
     "metadata": {},
     "output_type": "execute_result"
    }
   ],
   "source": [
    "mean_absolute_error(y_test, xgb_random.best_estimator_.predict(X_test))"
   ]
  },
  {
   "cell_type": "code",
   "execution_count": 118,
   "id": "b25b353c",
   "metadata": {},
   "outputs": [
    {
     "data": {
      "text/plain": [
       "0.9864167287574473"
      ]
     },
     "execution_count": 118,
     "metadata": {},
     "output_type": "execute_result"
    }
   ],
   "source": [
    "r2_score(y_test, xgb_random.best_estimator_.predict(X_test))"
   ]
  },
  {
   "cell_type": "markdown",
   "id": "95d0f7ba",
   "metadata": {},
   "source": [
    "It seems that the random search did not reach higher R2 Score as the initial model. This probably be caused by the random search function, which only tested the combined hyperparameters randomly.\n",
    "\n",
    "Let's try some grid search by limiting the value of max_depth, gamma, eta, reg_alpha, and reg_lambda. Based on research, the following techniques can deal with smaller datasets, including:\n",
    "\n",
    "1) Restricting the maximum depth of trees via max_depth (low values)\n",
    "\n",
    "2) Making the model more conservative via gamma and eta (high values)\n",
    "\n",
    "3) L1 and L2 regularization via reg_alpha and reg_lambda (high values)"
   ]
  },
  {
   "cell_type": "markdown",
   "id": "6f8a2ce3",
   "metadata": {},
   "source": [
    "### 5.3.3 Grid Search"
   ]
  },
  {
   "cell_type": "code",
   "execution_count": 125,
   "id": "841eda90",
   "metadata": {},
   "outputs": [
    {
     "data": {
      "text/plain": [
       "{'gamma': 0.2,\n",
       " 'max_depth': 3,\n",
       " 'n_estimators': 100,\n",
       " 'reg_alpha': 0.2,\n",
       " 'reg_lambda': 0.8}"
      ]
     },
     "execution_count": 125,
     "metadata": {},
     "output_type": "execute_result"
    }
   ],
   "source": [
    "#Set parameters\n",
    "params = { 'max_depth': [3,6,10],\n",
    "           'gamma': [0.2, 0.8],\n",
    "            'reg_alpha': [0.2, 0.8],\n",
    "            'reg_lambda': [0.2, 0.8],\n",
    "           'n_estimators': [100]}\n",
    "\n",
    "#Fit the randomizedSearchCV model with the parameters\n",
    "xgb_reg_cv = xgb.XGBRegressor()\n",
    "#Train the GridSearchCV\n",
    "xgb_grid_cv = GridSearchCV(xgb_reg_cv, param_grid=params, cv=5, n_jobs=-1)\n",
    "xgb_grid_cv.fit(X_train, y_train)\n",
    "\n",
    "#find the best k\n",
    "xgb_grid_cv.best_params_\n"
   ]
  },
  {
   "cell_type": "code",
   "execution_count": 126,
   "id": "09260f1a",
   "metadata": {},
   "outputs": [
    {
     "data": {
      "text/plain": [
       "63.35254923502604"
      ]
     },
     "execution_count": 126,
     "metadata": {},
     "output_type": "execute_result"
    }
   ],
   "source": [
    "mean_absolute_error(y_test, xgb_grid_cv.best_estimator_.predict(X_test))"
   ]
  },
  {
   "cell_type": "code",
   "execution_count": 127,
   "id": "5d0365f7",
   "metadata": {},
   "outputs": [
    {
     "data": {
      "text/plain": [
       "0.9860571069288674"
      ]
     },
     "execution_count": 127,
     "metadata": {},
     "output_type": "execute_result"
    }
   ],
   "source": [
    "r2_score(y_test, xgb_grid_cv.best_estimator_.predict(X_test))"
   ]
  },
  {
   "cell_type": "markdown",
   "id": "0b1d1197",
   "metadata": {},
   "source": [
    "## 5.4 Robust Regression — RANSAC"
   ]
  },
  {
   "cell_type": "markdown",
   "id": "d1bca76d",
   "metadata": {},
   "source": [
    "The robust regression model can reduce the affect of outliers, which may be effective in this dataset."
   ]
  },
  {
   "cell_type": "code",
   "execution_count": 137,
   "id": "590ae14c",
   "metadata": {},
   "outputs": [
    {
     "data": {
      "text/plain": [
       "RANSACRegressor(base_estimator=LinearRegression(), max_trials=10,\n",
       "                residual_threshold=50)"
      ]
     },
     "execution_count": 137,
     "metadata": {},
     "output_type": "execute_result"
    }
   ],
   "source": [
    "from sklearn.linear_model import RANSACRegressor\n",
    "\n",
    "# Set RANSAC hyperparameters\n",
    "ransac = RANSACRegressor(LinearRegression(),\n",
    "                        max_trials=10, \t\t# Number of Iterations\n",
    "                        residual_threshold=50 \t# Threshold\n",
    "                        )\n",
    "\n",
    "# Train model\n",
    "ransac.fit(X_train, y_train)"
   ]
  },
  {
   "cell_type": "code",
   "execution_count": 138,
   "id": "aea8e081",
   "metadata": {},
   "outputs": [
    {
     "data": {
      "text/plain": [
       "(0.999985858440417, 0.9952348366549784)"
      ]
     },
     "execution_count": 138,
     "metadata": {},
     "output_type": "execute_result"
    }
   ],
   "source": [
    "#Assign the predictions to `y_tr_pred` and `y_te_pred`, respectively\n",
    "y_train_pred = ransac.predict(X_train)\n",
    "y_test_pred = ransac.predict(X_test)\n",
    "\n",
    "#R2 Score for each set\n",
    "r2_score(y_train, y_train_pred), r2_score(y_test, y_test_pred)"
   ]
  },
  {
   "cell_type": "markdown",
   "id": "25148218",
   "metadata": {},
   "source": [
    "As we can see, the model performs pretty well. Since there are a few parameters that can be tried, we may perform a grid search to explore the best estimator."
   ]
  },
  {
   "cell_type": "code",
   "execution_count": 147,
   "id": "380df2d6",
   "metadata": {},
   "outputs": [
    {
     "data": {
      "text/plain": [
       "{'max_trials': 5, 'residual_threshold': 200}"
      ]
     },
     "execution_count": 147,
     "metadata": {},
     "output_type": "execute_result"
    }
   ],
   "source": [
    "#Set parameters\n",
    "params_cv = { 'max_trials':[5, 10, 50, 100],\n",
    "         'residual_threshold': [1,10,50,100,200,1000]\n",
    "         }\n",
    "\n",
    "#Fit the randomizedSearchCV model with the parameters\n",
    "ransac_gs = RANSACRegressor(LinearRegression(), random_state=42)\n",
    "#Train the GridSearchCV\n",
    "ransac_grid_cv = GridSearchCV(ransac_gs, param_grid=params_cv, cv=5, n_jobs=-1)\n",
    "ransac_grid_cv.fit(X_train, y_train)\n",
    "\n",
    "#find the best estimator\n",
    "ransac_grid_cv.best_params_"
   ]
  },
  {
   "cell_type": "code",
   "execution_count": 148,
   "id": "4f8c4d1b",
   "metadata": {},
   "outputs": [
    {
     "data": {
      "text/plain": [
       "0.9999667423203505"
      ]
     },
     "execution_count": 148,
     "metadata": {},
     "output_type": "execute_result"
    }
   ],
   "source": [
    "r2_score(y_train, ransac_grid_cv.best_estimator_.predict(X_train))"
   ]
  },
  {
   "cell_type": "code",
   "execution_count": 149,
   "id": "07df1dc7",
   "metadata": {},
   "outputs": [
    {
     "data": {
      "text/plain": [
       "0.9962516935033762"
      ]
     },
     "execution_count": 149,
     "metadata": {},
     "output_type": "execute_result"
    }
   ],
   "source": [
    "r2_score(y_test, ransac_grid_cv.best_estimator_.predict(X_test))"
   ]
  },
  {
   "cell_type": "code",
   "execution_count": 150,
   "id": "504420fd",
   "metadata": {},
   "outputs": [
    {
     "data": {
      "text/plain": [
       "20.518260200946006"
      ]
     },
     "execution_count": 150,
     "metadata": {},
     "output_type": "execute_result"
    }
   ],
   "source": [
    "mean_absolute_error(y_test, ransac_grid_cv.best_estimator_.predict(X_test))"
   ]
  },
  {
   "cell_type": "markdown",
   "id": "28317e06",
   "metadata": {},
   "source": [
    "MAE has reached the lowest among all models. This model has perfermed pretty well. We can visualize the performance of each model"
   ]
  },
  {
   "cell_type": "markdown",
   "id": "ad227a99",
   "metadata": {},
   "source": [
    "## 5.4 Evaluation of Models"
   ]
  },
  {
   "cell_type": "code",
   "execution_count": 152,
   "id": "ad0d7588",
   "metadata": {},
   "outputs": [],
   "source": [
    "Models = ['Linear Regression','Random Forest','XGBoost','RANSAC']\n",
    "MAEs = [mean_absolute_error(y_test, lr_grid_cv.best_estimator_.predict(X_test)),\n",
    "       mean_absolute_error(y_test, rf_random.best_estimator_.predict(X_test)),\n",
    "       mean_absolute_error(y_test, xgb_random.best_estimator_.predict(X_test)),\n",
    "       mean_absolute_error(y_test, ransac_grid_cv.best_estimator_.predict(X_test))]\n",
    "R2_Scores = [r2_score(y_test, lr_grid_cv.best_estimator_.predict(X_test)),\n",
    "            r2_score(y_test, rf_random.best_estimator_.predict(X_test)),\n",
    "            r2_score(y_test, xgb_grid_cv.best_estimator_.predict(X_test)),\n",
    "            r2_score(y_test, ransac_grid_cv.best_estimator_.predict(X_test))]\n",
    "\n",
    "d = {'Models':Models,'MAE': MAEs, 'R2_Scores': R2_Scores}\n",
    "Model_Comp = pd.DataFrame(data=d)"
   ]
  },
  {
   "cell_type": "code",
   "execution_count": 153,
   "id": "6398eeca",
   "metadata": {},
   "outputs": [
    {
     "data": {
      "text/plain": [
       "Text(0, 0.5, 'MAE')"
      ]
     },
     "execution_count": 153,
     "metadata": {},
     "output_type": "execute_result"
    },
    {
     "data": {
      "image/png": "[encoded data removed]",
      "text/plain": [
       "<Figure size 720x360 with 1 Axes>"
      ]
     },
     "metadata": {
      "needs_background": "light"
     },
     "output_type": "display_data"
    }
   ],
   "source": [
    "plt.subplots(figsize=(10, 5))\n",
    "sns.barplot(x='Models', y='MAE', data=Model_Comp)\n",
    "plt.xlabel('Models')\n",
    "plt.ylabel('MAE')"
   ]
  },
  {
   "cell_type": "code",
   "execution_count": 154,
   "id": "4f5675e7",
   "metadata": {},
   "outputs": [
    {
     "data": {
      "text/plain": [
       "Text(0, 0.5, 'R2 Score')"
      ]
     },
     "execution_count": 154,
     "metadata": {},
     "output_type": "execute_result"
    },
    {
     "data": {
      "image/png": "[encoded data removed]",
      "text/plain": [
       "<Figure size 720x360 with 1 Axes>"
      ]
     },
     "metadata": {
      "needs_background": "light"
     },
     "output_type": "display_data"
    }
   ],
   "source": [
    "plt.subplots(figsize=(10, 5))\n",
    "sns.barplot(x='Models', y='R2_Scores', data=Model_Comp)\n",
    "plt.xlabel('Models')\n",
    "plt.ylabel('R2 Score')"
   ]
  },
  {
   "cell_type": "markdown",
   "id": "f694c41e",
   "metadata": {},
   "source": [
    "As we can see above, Linear Regression Model, XGBoost, and RANSAC Regression Model performs pretty well, as their R2 scores are all close to 1. However, XGBoost generated greater MAE. A possible reason is the sample size, as XGBoost is better for large datasets, while, this datasets are not that large (only 60 rows).\n",
    "\n",
    "RANSAC and Linear Regression performs very similar, but RANSAC gets even lower MAE."
   ]
  },
  {
   "cell_type": "code",
   "execution_count": null,
   "id": "f9a93a08",
   "metadata": {},
   "outputs": [],
   "source": []
  }
 ],
 "metadata": {
  "kernelspec": {
   "display_name": "Python 3 (ipykernel)",
   "language": "python",
   "name": "python3"
  },
  "language_info": {
   "codemirror_mode": {
    "name": "ipython",
    "version": 3
   },
   "file_extension": ".py",
   "mimetype": "text/x-python",
   "name": "python",
   "nbconvert_exporter": "python",
   "pygments_lexer": "ipython3",
   "version": "3.9.7"
  }
 },
 "nbformat": 4,
 "nbformat_minor": 5
}
